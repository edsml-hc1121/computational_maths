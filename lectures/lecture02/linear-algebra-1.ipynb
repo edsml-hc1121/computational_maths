{
 "cells": [
  {
   "cell_type": "code",
   "execution_count": 1,
   "metadata": {},
   "outputs": [
    {
     "data": {
      "text/html": [
       "<style>\n",
       "div.optional {\n",
       "    display: block;\n",
       "    background-color: #d7e2ff;\n",
       "    border-color: #d7e2ff;\n",
       "    border-left: 5px solid #d7e2ff;\n",
       "    padding: 0.5em;\n",
       "}\n",
       "div.advanced {\n",
       "    display: block;\n",
       "    background-color: #fff4d7;\n",
       "    border-color: #fff4d7;\n",
       "    border-left: 5px solid #fff4d7;\n",
       "    padding: 0.5em;\n",
       "}\n",
       "</style>\n"
      ],
      "text/plain": [
       "<IPython.core.display.HTML object>"
      ]
     },
     "metadata": {},
     "output_type": "display_data"
    }
   ],
   "source": [
    "%%html\n",
    "<style>\n",
    "div.optional {\n",
    "    display: block;\n",
    "    background-color: #d7e2ff;\n",
    "    border-color: #d7e2ff;\n",
    "    border-left: 5px solid #d7e2ff;\n",
    "    padding: 0.5em;\n",
    "}\n",
    "div.advanced {\n",
    "    display: block;\n",
    "    background-color: #fff4d7;\n",
    "    border-color: #fff4d7;\n",
    "    border-left: 5px solid #fff4d7;\n",
    "    padding: 0.5em;\n",
    "}\n",
    "</style>"
   ]
  },
  {
   "cell_type": "code",
   "execution_count": 2,
   "metadata": {},
   "outputs": [],
   "source": [
    "%matplotlib inline\n",
    "%precision 6\n",
    "import numpy as np\n",
    "import matplotlib.pyplot as plt\n",
    "import scipy.linalg as sl\n",
    "from pprint import pprint"
   ]
  },
  {
   "cell_type": "markdown",
   "metadata": {},
   "source": [
    "# Computational Mathematics  <a class=\"tocSkip\">\n",
    "\n",
    "## Linear Algebra 1 <a class=\"tocSkip\">\n",
    "### (part introduction/reminder/revision depending on your background)  <a class=\"tocSkip\">"
   ]
  },
  {
   "cell_type": "markdown",
   "metadata": {},
   "source": [
    "## Learning objectives  <a class=\"tocSkip\">\n",
    "   \n",
    "   \n",
    "1. Hopefully for most of you much of this lecture will provide a refresher/reminder on matrices and linear algebra.\n",
    "\n",
    "\n",
    "2. This lecture will focus on matrix arithmetic, linear systems and their solution; the next lecture will move on to eigenvalues and the solution of systems of ODEs.\n",
    "\n",
    "\n",
    "3. Again there is ample opportunity here for us to practice our coding and plotting, and we will think a bit about code complexity and run times.\n",
    "\n",
    "\n",
    "4. To gain a further/firmer understanding of some of the key concepts we will make use of geometrical interpretations and examples as much as possible."
   ]
  },
  {
   "cell_type": "markdown",
   "metadata": {},
   "source": [
    "## Lecture Plan  <a class=\"tocSkip\">\n",
    "    \n",
    "Most of the material in sections 1-7 should be revision for most of you, so I will go through this very quickly. \n",
    "\n",
    "The more challenging material starts in section 8 so I will try to get to this promptly in order to spend more time on it."
   ]
  },
  {
   "cell_type": "markdown",
   "metadata": {
    "toc": true
   },
   "source": [
    "<h1>Table of Contents<span class=\"tocSkip\"></span></h1>\n",
    "<div class=\"toc\"><ul class=\"toc-item\"><li><span><a href=\"#Introductory-comments-[*]\" data-toc-modified-id=\"Introductory-comments-[*]-1\"><span class=\"toc-item-num\">1&nbsp;&nbsp;</span>Introductory comments [*]</a></span><ul class=\"toc-item\"><li><span><a href=\"#Notation-&amp;-terminology\" data-toc-modified-id=\"Notation-&amp;-terminology-1.1\"><span class=\"toc-item-num\">1.1&nbsp;&nbsp;</span>Notation &amp; terminology</a></span></li><li><span><a href=\"#Matrix-dimension\" data-toc-modified-id=\"Matrix-dimension-1.2\"><span class=\"toc-item-num\">1.2&nbsp;&nbsp;</span>Matrix dimension</a></span></li><li><span><a href=\"#Arithmetic-and-other-simple-matrix-operations-(and-some-other-introductory-NumPy-comments)\" data-toc-modified-id=\"Arithmetic-and-other-simple-matrix-operations-(and-some-other-introductory-NumPy-comments)-1.3\"><span class=\"toc-item-num\">1.3&nbsp;&nbsp;</span>Arithmetic and other simple matrix operations (and some other introductory NumPy comments)</a></span><ul class=\"toc-item\"><li><span><a href=\"#Matrix-equivalence\" data-toc-modified-id=\"Matrix-equivalence-1.3.1\"><span class=\"toc-item-num\">1.3.1&nbsp;&nbsp;</span>Matrix equivalence</a></span></li><li><span><a href=\"#Addition-and-subtraction\" data-toc-modified-id=\"Addition-and-subtraction-1.3.2\"><span class=\"toc-item-num\">1.3.2&nbsp;&nbsp;</span>Addition and subtraction</a></span></li><li><span><a href=\"#Code\" data-toc-modified-id=\"Code-1.3.3\"><span class=\"toc-item-num\">1.3.3&nbsp;&nbsp;</span>Code</a></span></li><li><span><a href=\"#Scalar-multiplication\" data-toc-modified-id=\"Scalar-multiplication-1.3.4\"><span class=\"toc-item-num\">1.3.4&nbsp;&nbsp;</span>Scalar multiplication</a></span></li><li><span><a href=\"#Be-careful-about-assignments-vs-copies\" data-toc-modified-id=\"Be-careful-about-assignments-vs-copies-1.3.5\"><span class=\"toc-item-num\">1.3.5&nbsp;&nbsp;</span>Be careful about assignments vs copies</a></span></li><li><span><a href=\"#Matrix-transpose-and-complex-conjugate\" data-toc-modified-id=\"Matrix-transpose-and-complex-conjugate-1.3.6\"><span class=\"toc-item-num\">1.3.6&nbsp;&nbsp;</span>Matrix transpose and complex conjugate</a></span></li><li><span><a href=\"#Indexing,-slicing-etc\" data-toc-modified-id=\"Indexing,-slicing-etc-1.3.7\"><span class=\"toc-item-num\">1.3.7&nbsp;&nbsp;</span>Indexing, slicing etc</a></span></li><li><span><a href=\"#Other-useful-NumPy-attributes\" data-toc-modified-id=\"Other-useful-NumPy-attributes-1.3.8\"><span class=\"toc-item-num\">1.3.8&nbsp;&nbsp;</span>Other useful NumPy attributes</a></span></li></ul></li></ul></li><li><span><a href=\"#Matrix-vector-multiplication\" data-toc-modified-id=\"Matrix-vector-multiplication-2\"><span class=\"toc-item-num\">2&nbsp;&nbsp;</span>Matrix-vector multiplication</a></span><ul class=\"toc-item\"><li><span><a href=\"#Mathematical-definition\" data-toc-modified-id=\"Mathematical-definition-2.1\"><span class=\"toc-item-num\">2.1&nbsp;&nbsp;</span>Mathematical definition</a></span></li><li><span><a href=\"#Code\" data-toc-modified-id=\"Code-2.2\"><span class=\"toc-item-num\">2.2&nbsp;&nbsp;</span>Code</a></span></li><li><span><a href=\"#Properties\" data-toc-modified-id=\"Properties-2.3\"><span class=\"toc-item-num\">2.3&nbsp;&nbsp;</span>Properties</a></span></li><li><span><a href=\"#Matrix-multiplication-using-NumPy\" data-toc-modified-id=\"Matrix-multiplication-using-NumPy-2.4\"><span class=\"toc-item-num\">2.4&nbsp;&nbsp;</span>Matrix multiplication using NumPy</a></span><ul class=\"toc-item\"><li><span><a href=\"#Aside:-matrix-objects-[*]\" data-toc-modified-id=\"Aside:-matrix-objects-[*]-2.4.1\"><span class=\"toc-item-num\">2.4.1&nbsp;&nbsp;</span>Aside: matrix objects [*]</a></span></li></ul></li><li><span><a href=\"#Testing-our-code\" data-toc-modified-id=\"Testing-our-code-2.5\"><span class=\"toc-item-num\">2.5&nbsp;&nbsp;</span>Testing our code</a></span></li><li><span><a href=\"#Another-useful-interpretation\" data-toc-modified-id=\"Another-useful-interpretation-2.6\"><span class=\"toc-item-num\">2.6&nbsp;&nbsp;</span>Another useful interpretation</a></span></li></ul></li><li><span><a href=\"#Motivation---linear-(or-matrix)-systems\" data-toc-modified-id=\"Motivation---linear-(or-matrix)-systems-3\"><span class=\"toc-item-num\">3&nbsp;&nbsp;</span>Motivation - linear (or matrix) systems</a></span><ul class=\"toc-item\"><li><span><a href=\"#A-simple-example\" data-toc-modified-id=\"A-simple-example-3.1\"><span class=\"toc-item-num\">3.1&nbsp;&nbsp;</span>A simple example</a></span></li><li><span><a href=\"#The-general-case\" data-toc-modified-id=\"The-general-case-3.2\"><span class=\"toc-item-num\">3.2&nbsp;&nbsp;</span>The general case</a></span></li><li><span><a href=\"#A-geometric-interpretation\" data-toc-modified-id=\"A-geometric-interpretation-3.3\"><span class=\"toc-item-num\">3.3&nbsp;&nbsp;</span>A geometric interpretation</a></span></li><li><span><a href=\"#Solving-a-general-linear-system\" data-toc-modified-id=\"Solving-a-general-linear-system-3.4\"><span class=\"toc-item-num\">3.4&nbsp;&nbsp;</span>Solving a general linear system</a></span></li></ul></li><li><span><a href=\"#Matrix-inverse\" data-toc-modified-id=\"Matrix-inverse-4\"><span class=\"toc-item-num\">4&nbsp;&nbsp;</span>Matrix inverse</a></span><ul class=\"toc-item\"><li><span><a href=\"#Properties-of-the-matrix-inverse\" data-toc-modified-id=\"Properties-of-the-matrix-inverse-4.1\"><span class=\"toc-item-num\">4.1&nbsp;&nbsp;</span>Properties of the matrix inverse</a></span></li><li><span><a href=\"#Using-the-inverse-matrix-to-solve-a-linear-system\" data-toc-modified-id=\"Using-the-inverse-matrix-to-solve-a-linear-system-4.2\"><span class=\"toc-item-num\">4.2&nbsp;&nbsp;</span>Using the inverse matrix to solve a linear system</a></span><ul class=\"toc-item\"><li><span><a href=\"#The-inverse-for-our-simple-example\" data-toc-modified-id=\"The-inverse-for-our-simple-example-4.2.1\"><span class=\"toc-item-num\">4.2.1&nbsp;&nbsp;</span>The inverse for our simple example</a></span></li><li><span><a href=\"#Row-operations-and-a-glimpse-at-Gaussian-elimination-[*---please-read-through-this-in-your-own-time]\" data-toc-modified-id=\"Row-operations-and-a-glimpse-at-Gaussian-elimination-[*---please-read-through-this-in-your-own-time]-4.2.2\"><span class=\"toc-item-num\">4.2.2&nbsp;&nbsp;</span>Row operations and a glimpse at Gaussian elimination [* - please read through this in your own time]</a></span></li><li><span><a href=\"#Solving-our-simple-example-using-the-inverse-matrix\" data-toc-modified-id=\"Solving-our-simple-example-using-the-inverse-matrix-4.2.3\"><span class=\"toc-item-num\">4.2.3&nbsp;&nbsp;</span>Solving our simple example using the inverse matrix</a></span></li></ul></li><li><span><a href=\"#Aside:-constructing-some-useful-simple-matrices-in-NumPy-[*]\" data-toc-modified-id=\"Aside:-constructing-some-useful-simple-matrices-in-NumPy-[*]-4.3\"><span class=\"toc-item-num\">4.3&nbsp;&nbsp;</span>Aside: constructing some useful simple matrices in NumPy [*]</a></span><ul class=\"toc-item\"><li><span><a href=\"#The-identity-matrix\" data-toc-modified-id=\"The-identity-matrix-4.3.1\"><span class=\"toc-item-num\">4.3.1&nbsp;&nbsp;</span>The identity matrix</a></span></li><li><span><a href=\"#Diagonal-matrices\" data-toc-modified-id=\"Diagonal-matrices-4.3.2\"><span class=\"toc-item-num\">4.3.2&nbsp;&nbsp;</span>Diagonal matrices</a></span></li><li><span><a href=\"#Matrices-of-zeros-or-ones,-empty-matrices\" data-toc-modified-id=\"Matrices-of-zeros-or-ones,-empty-matrices-4.3.3\"><span class=\"toc-item-num\">4.3.3&nbsp;&nbsp;</span>Matrices of zeros or ones, empty matrices</a></span></li></ul></li></ul></li><li><span><a href=\"#The-determinant\" data-toc-modified-id=\"The-determinant-5\"><span class=\"toc-item-num\">5&nbsp;&nbsp;</span>The determinant</a></span></li><li><span><a href=\"#Matrix-vector-multiplication-(again;-code-speed)-[*]\" data-toc-modified-id=\"Matrix-vector-multiplication-(again;-code-speed)-[*]-6\"><span class=\"toc-item-num\">6&nbsp;&nbsp;</span>Matrix-vector multiplication (again; code speed) [*]</a></span><ul class=\"toc-item\"><li><span><a href=\"#Testing-our-code\" data-toc-modified-id=\"Testing-our-code-6.1\"><span class=\"toc-item-num\">6.1&nbsp;&nbsp;</span>Testing our code</a></span></li><li><span><a href=\"#Checking-the-speed-of-our-code!\" data-toc-modified-id=\"Checking-the-speed-of-our-code!-6.2\"><span class=\"toc-item-num\">6.2&nbsp;&nbsp;</span>Checking the speed of our code!</a></span></li></ul></li><li><span><a href=\"#Matrix-matrix-product-[*]\" data-toc-modified-id=\"Matrix-matrix-product-[*]-7\"><span class=\"toc-item-num\">7&nbsp;&nbsp;</span>Matrix-matrix product [*]</a></span><ul class=\"toc-item\"><li><span><a href=\"#Conformable-dimensions\" data-toc-modified-id=\"Conformable-dimensions-7.1\"><span class=\"toc-item-num\">7.1&nbsp;&nbsp;</span>Conformable dimensions</a></span></li><li><span><a href=\"#Properties\" data-toc-modified-id=\"Properties-7.2\"><span class=\"toc-item-num\">7.2&nbsp;&nbsp;</span>Properties</a></span></li><li><span><a href=\"#Code\" data-toc-modified-id=\"Code-7.3\"><span class=\"toc-item-num\">7.3&nbsp;&nbsp;</span>Code</a></span><ul class=\"toc-item\"><li><span><a href=\"#Testing-our-code\" data-toc-modified-id=\"Testing-our-code-7.3.1\"><span class=\"toc-item-num\">7.3.1&nbsp;&nbsp;</span>Testing our code</a></span></li></ul></li></ul></li><li><span><a href=\"#Some-linear-algebra-theory\" data-toc-modified-id=\"Some-linear-algebra-theory-8\"><span class=\"toc-item-num\">8&nbsp;&nbsp;</span>Some linear algebra theory</a></span><ul class=\"toc-item\"><li><span><a href=\"#The-determinant-(again)\" data-toc-modified-id=\"The-determinant-(again)-8.1\"><span class=\"toc-item-num\">8.1&nbsp;&nbsp;</span>The determinant (again)</a></span><ul class=\"toc-item\"><li><span><a href=\"#Properties\" data-toc-modified-id=\"Properties-8.1.1\"><span class=\"toc-item-num\">8.1.1&nbsp;&nbsp;</span>Properties</a></span></li><li><span><a href=\"#Full-definition\" data-toc-modified-id=\"Full-definition-8.1.2\"><span class=\"toc-item-num\">8.1.2&nbsp;&nbsp;</span>Full definition</a></span></li></ul></li><li><span><a href=\"#The-inverse-matrix\" data-toc-modified-id=\"The-inverse-matrix-8.2\"><span class=\"toc-item-num\">8.2&nbsp;&nbsp;</span>The inverse matrix</a></span><ul class=\"toc-item\"><li><span><a href=\"#$2\\times-2$-case\" data-toc-modified-id=\"$2\\times-2$-case-8.2.1\"><span class=\"toc-item-num\">8.2.1&nbsp;&nbsp;</span>$2\\times 2$ case</a></span></li><li><span><a href=\"#$n\\times-n$-case\" data-toc-modified-id=\"$n\\times-n$-case-8.2.2\"><span class=\"toc-item-num\">8.2.2&nbsp;&nbsp;</span>$n\\times n$ case</a></span></li></ul></li><li><span><a href=\"#Using-SciPy-to-compute-the-inverse-matrix\" data-toc-modified-id=\"Using-SciPy-to-compute-the-inverse-matrix-8.3\"><span class=\"toc-item-num\">8.3&nbsp;&nbsp;</span>Using SciPy to compute the inverse matrix</a></span></li><li><span><a href=\"#Singular-matrices\" data-toc-modified-id=\"Singular-matrices-8.4\"><span class=\"toc-item-num\">8.4&nbsp;&nbsp;</span>Singular matrices</a></span></li><li><span><a href=\"#Solvability-of-linear-systems\" data-toc-modified-id=\"Solvability-of-linear-systems-8.5\"><span class=\"toc-item-num\">8.5&nbsp;&nbsp;</span>Solvability of linear systems</a></span><ul class=\"toc-item\"><li><span><a href=\"#Linear-(in)dependence\" data-toc-modified-id=\"Linear-(in)dependence-8.5.1\"><span class=\"toc-item-num\">8.5.1&nbsp;&nbsp;</span>Linear (in)dependence</a></span></li><li><span><a href=\"#A-basis-for-a-vector-space\" data-toc-modified-id=\"A-basis-for-a-vector-space-8.5.2\"><span class=\"toc-item-num\">8.5.2&nbsp;&nbsp;</span>A basis for a vector space</a></span></li><li><span><a href=\"#An-example-|-the-geometrical-interpretation-of-matrix-vector-multiplication\" data-toc-modified-id=\"An-example-|-the-geometrical-interpretation-of-matrix-vector-multiplication-8.5.3\"><span class=\"toc-item-num\">8.5.3&nbsp;&nbsp;</span>An example | the geometrical interpretation of matrix vector multiplication</a></span></li><li><span><a href=\"#Solvability-theory---some-equivalent-properties\" data-toc-modified-id=\"Solvability-theory---some-equivalent-properties-8.5.4\"><span class=\"toc-item-num\">8.5.4&nbsp;&nbsp;</span>Solvability theory - some equivalent properties</a></span></li><li><span><a href=\"#Rank,-range-and-null-Space\" data-toc-modified-id=\"Rank,-range-and-null-Space-8.5.5\"><span class=\"toc-item-num\">8.5.5&nbsp;&nbsp;</span>Rank, range and null-Space</a></span></li><li><span><a href=\"#Solving-our-simple-example-(again)\" data-toc-modified-id=\"Solving-our-simple-example-(again)-8.5.6\"><span class=\"toc-item-num\">8.5.6&nbsp;&nbsp;</span>Solving our simple example (again)</a></span></li></ul></li></ul></li><li><span><a href=\"#Cramer's-rule-[**]\" data-toc-modified-id=\"Cramer's-rule-[**]-9\"><span class=\"toc-item-num\">9&nbsp;&nbsp;</span>Cramer's rule [**]</a></span></li><li><span><a href=\"#Geometric-interpretation-of-linear-transformations-[*---assuming-we-have-run-out-of-time,-please-read-through-this-section-as-we-will-pick-up-the-next-lecture-from-these-ideas]\" data-toc-modified-id=\"Geometric-interpretation-of-linear-transformations-[*---assuming-we-have-run-out-of-time,-please-read-through-this-section-as-we-will-pick-up-the-next-lecture-from-these-ideas]-10\"><span class=\"toc-item-num\">10&nbsp;&nbsp;</span>Geometric interpretation of linear transformations [* - assuming we have run out of time, please read through this section as we will pick up the next lecture from these ideas]</a></span><ul class=\"toc-item\"><li><span><a href=\"#Some-examples\" data-toc-modified-id=\"Some-examples-10.1\"><span class=\"toc-item-num\">10.1&nbsp;&nbsp;</span>Some examples</a></span></li><li><span><a href=\"#A-general-transformation-and-the-determinant-again-[*]\" data-toc-modified-id=\"A-general-transformation-and-the-determinant-again-[*]-10.2\"><span class=\"toc-item-num\">10.2&nbsp;&nbsp;</span>A general transformation and the determinant again [*]</a></span></li></ul></li><li><span><a href=\"#An-animation-[*]\" data-toc-modified-id=\"An-animation-[*]-11\"><span class=\"toc-item-num\">11&nbsp;&nbsp;</span>An animation [*]</a></span></li><li><span><a href=\"#Summary\" data-toc-modified-id=\"Summary-12\"><span class=\"toc-item-num\">12&nbsp;&nbsp;</span>Summary</a></span><ul class=\"toc-item\"><li><span><a href=\"#Next-lecture\" data-toc-modified-id=\"Next-lecture-12.1\"><span class=\"toc-item-num\">12.1&nbsp;&nbsp;</span>Next lecture</a></span></li></ul></li></ul></div>"
   ]
  },
  {
   "cell_type": "markdown",
   "metadata": {},
   "source": [
    "<div class=\"optional\">\n",
    "\n",
    "# Introductory comments [*]\n",
    "\n",
    "Linear algebra comes up absolutely everywhere in computational/data science (and elsewhere!).\n",
    "\n",
    "It's important that we have a firm grasp of the mathematical/conceptual aspects, as well as the numerical aspects and the software tools at our disposal.\n",
    "\n",
    "In this lecture we're going to briefly review the former and make a start at some of the latter.\n",
    "\n",
    "***As said previously - your backgrounds are quite varied so for some of you much of this material will already be very familiar, while for some of you some parts may be new. There is a lot of material here, we will start simply but try to move quite rapidly.***\n",
    "\n",
    "This material will give us ample opportunity to practice our use of NumPy and SciPy, and to gain further experience in plotting.\n",
    "\n",
    "I will go through this first section very quickly in order to move on to more interesting material.\n",
    "    \n",
    "</div>"
   ]
  },
  {
   "cell_type": "markdown",
   "metadata": {},
   "source": [
    "If nothing else, at the end of this lecture you should understand how to create animations like this using linear algebra\n",
    "\n",
    "<video controls loop width=\"600\" src=\"animations/logo.mp4\"/>"
   ]
  },
  {
   "cell_type": "markdown",
   "metadata": {},
   "source": [
    "and then be able to extend to things like this\n",
    "\n",
    "<video controls loop width=\"600\" src=\"animations/logo-drunk.mp4\"/>"
   ]
  },
  {
   "cell_type": "markdown",
   "metadata": {},
   "source": [
    "## Notation & terminology\n",
    "\n",
    "\n",
    "- We will use bold fonts to indicate vectors, e.g. $\\boldsymbol{x } $ :\n",
    "\n",
    "$$ \\boldsymbol{x} = (x_1,x_2,\\ldots, x_m)^T$$\n",
    "\n",
    "[the transpose is here since we generally assume a vector is a *column* vector (i.e. has dimension, or shape, $m\\times 1$), but it's clearly easier and more compact to display it as the transpose of a *row* vector in writing - note that when writing on paper it's common to indicate a bold symbol with an underline: $\\boldsymbol{x} \\equiv \\underline{x} $. Sometimes people also use the notation $\\vec{x}$ to indicate a vector.]\n",
    "\n",
    "- and capital letters to indicate matrices, e.g. $A$:\n",
    "\n",
    "$$A = \n",
    "\\begin{pmatrix}\n",
    "a_{11} & a_{12} \\\\\n",
    "a_{21} & a_{22}\n",
    "\\end{pmatrix}$$\n",
    "\n",
    "\n",
    "- Subscript letters or numbers will be used to indicate components of arrays or matrices, e.g. $x_i$ is the $i$-th component of the vector $\\boldsymbol{x}$, and $a_{ij}$ is the entry from the $i$-th row and the $j$-th column of the matrix $A$, with of course us needing to be careful over our numbering which starts from zero in our Python implementations.\n",
    "\n",
    "\n",
    "- We will identify column vectors making up the matrix $A$ as\n",
    "\n",
    "$$A = \\begin{pmatrix}\n",
    "      &     &         &     \\\\\n",
    "  \\boldsymbol{a}_{\\,:1} & \\boldsymbol{a}_{\\,:2} &  \\ldots & \\boldsymbol{a}_{\\,:n} \\\\\n",
    "      &     &         &     \n",
    "\\end{pmatrix}$$\n",
    "\n",
    "i.e. $\\boldsymbol{a}_{\\,:j}$ indicates the $j$-th column of matrix $A$.\n",
    "\n",
    "\n",
    "\n",
    "- Square or rounded (i.e. paretheses) brackets are both fine for vectors and matrices (not for intervals where they mean different things!). \n",
    "\n",
    "<br>\n",
    "\n",
    "\n",
    "See also <https://en.wikipedia.org/wiki/Matrix_(mathematics)#Notation>"
   ]
  },
  {
   "cell_type": "markdown",
   "metadata": {},
   "source": [
    "Note that I've made the choice to start my indices at '1' for the purposes of writing things down mathematically. \n",
    "\n",
    "You could choose to start with '0' to better match Python indexing if you want, you just need to be consistent."
   ]
  },
  {
   "cell_type": "markdown",
   "metadata": {},
   "source": [
    "## Matrix dimension\n",
    "\n",
    "A general [matrix](https://en.wikipedia.org/wiki/Matrix_(mathematics)) of dimension (shape in NumPy) $m \\times n$ is\n",
    "\n",
    "\\begin{pmatrix}\n",
    "    a_{11} & a_{12} & \\dots & a_{1n} \\\\\n",
    "    a_{21} & a_{22} & \\dots & a_{2n} \\\\\n",
    "    \\vdots & \\vdots & \\ddots & \\vdots \\\\\n",
    "    a_{m1} & a_{m2} & \\dots & a_{mn}   \n",
    "\\end{pmatrix}\n",
    "\n",
    "where for a real matrix all *entries* $a_{ij}\\in\\mathbb{R}$, i.e. are real numbers, and for a complex matrix $a_{ij}\\in\\mathbb{C}$.  \n",
    "\n",
    "Mathematically we could also write $A\\in\\mathbb{R}^{m\\times n}$ or $A\\in\\mathbb{C}^{m\\times n}$.\n",
    "\n",
    "We would say out loud that the matrix is of dimension \"m rows by n columns\" or just \"m by n\".\n",
    "\n",
    "The convention is to state the number of rows first, and columns second - we will see why this is sensible when we talk about matrix multiplication - indeed thinking about matrix multiplication is exactly how I remember that incrementing the first index ($i$) means we move down, and incrementing the second index ($j$) means we move to the right.\n",
    "\n",
    "A *square* matrix is one where $m=n$.\n",
    "\n",
    "An $m\\times 1$ matrix is also a *column vector*.\n",
    "\n",
    "A $1\\times n$ matrix is also a *row vector*."
   ]
  },
  {
   "cell_type": "markdown",
   "metadata": {},
   "source": [
    "## Arithmetic and other simple matrix operations (and some other introductory NumPy comments)\n",
    "\n",
    "We can also use the notation\n",
    "\n",
    "$$A = [a_{ij}]_{m\\times n}$$\n",
    "\n",
    "as shorthand to indicate that matrix $A$ is of dimension ${m\\times n}$ with entries signified by the variables $a_{ij}$."
   ]
  },
  {
   "cell_type": "markdown",
   "metadata": {},
   "source": [
    "### Matrix equivalence\n",
    "\n",
    "We can use this notation to define how two matrices are equivalent - there individually entires each need to be equivalent:\n",
    "\n",
    "$$A = B \\iff  a_{ij} = b_{ij}, \\quad \\forall\\; 1\\leq i \\leq m,\\;\\; 1\\leq j \\leq n$$\n",
    "\n",
    "Note that this definition only make sense if we are comparing matrices of the same size.\n",
    "\n",
    "In case you haven't seen it before $\\forall$ is mathematical shorthand notation for \"for all\" (https://en.wikipedia.org/wiki/Universal_quantification).\n",
    "\n",
    "NB. when proving things in mathamtical analysis, sequences etc, it's often used with a symbol for \"there exists\": $\\exists$."
   ]
  },
  {
   "cell_type": "code",
   "execution_count": 3,
   "metadata": {},
   "outputs": [
    {
     "name": "stdout",
     "output_type": "stream",
     "text": [
      "[[ True  True]\n",
      " [ True  True]]\n",
      "True\n",
      "\n",
      " [[ True  True]\n",
      " [ True False]]\n",
      "False\n"
     ]
    }
   ],
   "source": [
    "A = np.array([[1, 2], [3, 4]])\n",
    "B = np.array([[1, 2], [3, 4]])\n",
    "\n",
    "# the following compares element-wise\n",
    "print(A==B)\n",
    "# above works on pairs of entries element-wise, \n",
    "\n",
    "# while array_equal looks at the whole array.\n",
    "print(np.array_equal(A,B))\n",
    "\n",
    "# change one of the entries\n",
    "B = np.array([[1, 2], [3, 5]])\n",
    "\n",
    "print('\\n',A==B)\n",
    "print(np.array_equal(A,B))"
   ]
  },
  {
   "cell_type": "markdown",
   "metadata": {},
   "source": [
    "### Addition and subtraction\n",
    "\n",
    "With this notation we can also succinctly define the operation of adding two matrices (with the implicit requirement that the two matrices are of the same dimension)\n",
    "\n",
    "$$A + B = [a_{ij} + b_{ij}]_{m\\times n}$$\n",
    "\n",
    "and similar for subtraction.\n",
    "\n",
    "Let's check the mathematical description agrees with NumPy!"
   ]
  },
  {
   "cell_type": "code",
   "execution_count": 4,
   "metadata": {},
   "outputs": [
    {
     "name": "stdout",
     "output_type": "stream",
     "text": [
      "A =\n",
      " [[1 2]\n",
      " [3 4]] \n",
      "\n",
      "B =\n",
      " [[ 6 -2]\n",
      " [ 1 -7]] \n",
      "\n",
      "A+B =\n",
      " [[ 7  0]\n",
      " [ 4 -3]] \n",
      "\n",
      "A-B =\n",
      " [[-5  4]\n",
      " [ 2 11]] \n",
      "\n"
     ]
    }
   ],
   "source": [
    "# any old matrix\n",
    "A = np.array([[1, 2], [3, 4]])\n",
    "\n",
    "print('A =\\n', A, '\\n')\n",
    "# The '\\n's start new lines and are used just to make the printed text easier to read.\n",
    "\n",
    "# and another one\n",
    "B = np.array([[6, -2], [1, -7]])\n",
    "\n",
    "print('B =\\n', B, '\\n')\n",
    "\n",
    "C = A+B \n",
    "\n",
    "print('A+B =\\n', C, '\\n')\n",
    "\n",
    "print('A-B =\\n', A-B, '\\n')"
   ]
  },
  {
   "cell_type": "markdown",
   "metadata": {},
   "source": [
    "What happens when we try to perform arithmetic with matrices of different sizes?\n",
    "\n",
    "Remember that error/warning messages should be designed (by you and by other) to help the user - when you get an error/warning read it and try to understand what it's telling you!\n",
    "\n",
    "If you're note sure Google it!"
   ]
  },
  {
   "cell_type": "code",
   "execution_count": 5,
   "metadata": {},
   "outputs": [
    {
     "name": "stdout",
     "output_type": "stream",
     "text": [
      "A =\n",
      " [[1 2]\n",
      " [3 4]] \n",
      "\n",
      "B =\n",
      " [[ 6 -2]\n",
      " [ 1 -7]\n",
      " [ 5 -1]] \n",
      "\n"
     ]
    },
    {
     "ename": "ValueError",
     "evalue": "operands could not be broadcast together with shapes (2,2) (3,2) ",
     "output_type": "error",
     "traceback": [
      "\u001b[1;31m---------------------------------------------------------------------------\u001b[0m",
      "\u001b[1;31mValueError\u001b[0m                                Traceback (most recent call last)",
      "\u001b[1;32m<ipython-input-5-79181494f20b>\u001b[0m in \u001b[0;36m<module>\u001b[1;34m\u001b[0m\n\u001b[0;32m      3\u001b[0m \u001b[0mB\u001b[0m \u001b[1;33m=\u001b[0m \u001b[0mnp\u001b[0m\u001b[1;33m.\u001b[0m\u001b[0marray\u001b[0m\u001b[1;33m(\u001b[0m\u001b[1;33m[\u001b[0m\u001b[1;33m[\u001b[0m\u001b[1;36m6\u001b[0m\u001b[1;33m,\u001b[0m \u001b[1;33m-\u001b[0m\u001b[1;36m2\u001b[0m\u001b[1;33m]\u001b[0m\u001b[1;33m,\u001b[0m \u001b[1;33m[\u001b[0m\u001b[1;36m1\u001b[0m\u001b[1;33m,\u001b[0m \u001b[1;33m-\u001b[0m\u001b[1;36m7\u001b[0m\u001b[1;33m]\u001b[0m\u001b[1;33m,\u001b[0m \u001b[1;33m[\u001b[0m\u001b[1;36m5\u001b[0m\u001b[1;33m,\u001b[0m \u001b[1;33m-\u001b[0m\u001b[1;36m1\u001b[0m\u001b[1;33m]\u001b[0m\u001b[1;33m]\u001b[0m\u001b[1;33m)\u001b[0m\u001b[1;33m\u001b[0m\u001b[1;33m\u001b[0m\u001b[0m\n\u001b[0;32m      4\u001b[0m \u001b[0mprint\u001b[0m\u001b[1;33m(\u001b[0m\u001b[1;34m'B =\\n'\u001b[0m\u001b[1;33m,\u001b[0m \u001b[0mB\u001b[0m\u001b[1;33m,\u001b[0m\u001b[1;34m'\\n'\u001b[0m\u001b[1;33m)\u001b[0m\u001b[1;33m\u001b[0m\u001b[1;33m\u001b[0m\u001b[0m\n\u001b[1;32m----> 5\u001b[1;33m \u001b[0mC\u001b[0m \u001b[1;33m=\u001b[0m \u001b[0mA\u001b[0m\u001b[1;33m+\u001b[0m\u001b[0mB\u001b[0m\u001b[1;33m\u001b[0m\u001b[1;33m\u001b[0m\u001b[0m\n\u001b[0m",
      "\u001b[1;31mValueError\u001b[0m: operands could not be broadcast together with shapes (2,2) (3,2) "
     ]
    }
   ],
   "source": [
    "A = np.array([[1, 2], [3, 4]])\n",
    "print('A =\\n', A, '\\n')\n",
    "B = np.array([[6, -2], [1, -7], [5, -1]])\n",
    "print('B =\\n', B,'\\n')\n",
    "C = A+B"
   ]
  },
  {
   "cell_type": "markdown",
   "metadata": {},
   "source": [
    "### Code\n",
    "\n",
    "For practice, let's code up our own function to perform matrix addition and check it against the NumPy result for some examples.\n",
    "\n",
    "We'll also look a bit more at the use of some NumPy functions to check for the equivalence of arrays."
   ]
  },
  {
   "cell_type": "code",
   "execution_count": 6,
   "metadata": {},
   "outputs": [
    {
     "name": "stdout",
     "output_type": "stream",
     "text": [
      "mat_mat_addition(A,B) == A+B (using allclose): True\n",
      "mat_mat_addition(A,B) == A+B (allclose with tighter tols): True\n",
      "mat_mat_addition(A,B) == A+B (using array_equal):  True\n",
      "mat_mat_addition(A,B) == A+B+very small perturbation (using array_equal):  False\n",
      "mat_mat_addition(A,B) == A+B+very small perturbation (using allclose):  True\n"
     ]
    }
   ],
   "source": [
    "def mat_mat_addition(A,B):\n",
    "    \"\"\" Return the addition A+B\n",
    "    \"\"\"\n",
    "    mA, nA = np.shape(A)\n",
    "    mB, nB = np.shape(B)\n",
    "    # add a check that the two provided matrices are the same size\n",
    "    assert mA==mB and nA==nB \n",
    "    # initialise some space for the result\n",
    "    C = np.zeros((mA, mB))\n",
    "    # loop over the rows\n",
    "    for i in range(mA):\n",
    "        # loop over the columns\n",
    "        for j in range(nA):\n",
    "            C[i, j] = A[i, j] + B[i, j]\n",
    "    return C\n",
    "\n",
    "# check with a simple 2x2 case\n",
    "A = np.array([[1, 2], [3, 4]])\n",
    "B = np.array([[6, -2], [1, -7]])\n",
    "\n",
    "# we can use numpy.allclose to check if our function's result agrees with NumPy\n",
    "print('mat_mat_addition(A,B) == A+B (using allclose):', \n",
    "      np.allclose(mat_mat_addition(A,B), A+B))\n",
    "# numpy.allclose returns True provided that \n",
    "# absolute(`a` - `b`) <= (`atol` + `rtol` * absolute(`b`))\n",
    "# in an elementwise-sense, i.e. if it is true for all elements.\n",
    "\n",
    "# we can tighten up tolerances as follows (the default values are rtol=1e-05, atol=1e-08)\n",
    "print('mat_mat_addition(A,B) == A+B (allclose with tighter tols):', \n",
    "      np.allclose(mat_mat_addition(A,B), A+B, rtol=1e-14, atol=1e-14))\n",
    "\n",
    "# alternatively you could use array_equal - read the docs to see what the difference is\n",
    "print('mat_mat_addition(A,B) == A+B (using array_equal): ',\n",
    "      np.array_equal(mat_mat_addition(A,B), A+B))\n",
    "\n",
    "# when performing arithmetic operations round-off could mean that array_equal fails,\n",
    "# lets add a very small perturbation to one of the entries to demonstrate\n",
    "pert = np.array([[1.e-15, 0],[0,0]])\n",
    "print('mat_mat_addition(A,B) == A+B+very small perturbation (using array_equal): ',\n",
    "      np.array_equal(mat_mat_addition(A,B), A+B+pert))\n",
    "\n",
    "# but allclose lets us get away with this difference\n",
    "print('mat_mat_addition(A,B) == A+B+very small perturbation (using allclose): ',\n",
    "      np.allclose(mat_mat_addition(A,B), A+B+pert))"
   ]
  },
  {
   "cell_type": "markdown",
   "metadata": {},
   "source": [
    "So we do need to be a little bit careful on what equality means when using floating point arithmetic!\n",
    "(`numpy.allclose` is a useful function for us here.)\n",
    "\n",
    "You saw this in the Modern Programming Methods module.\n",
    "\n",
    "\n",
    "We can get our code to do subtraction just by adding minus the second matrix:"
   ]
  },
  {
   "cell_type": "code",
   "execution_count": 7,
   "metadata": {},
   "outputs": [
    {
     "name": "stdout",
     "output_type": "stream",
     "text": [
      "mat_mat_addition(A,-B) == A-B: True\n"
     ]
    }
   ],
   "source": [
    "# we can check it can do subtraction as well\n",
    "A = np.array([[1, 2], [3, 4]])\n",
    "B = np.array([[6, -2], [1, -7]])\n",
    "\n",
    "print('mat_mat_addition(A,-B) == A-B:', np.allclose(mat_mat_addition(A,-B), A-B))"
   ]
  },
  {
   "cell_type": "code",
   "execution_count": 8,
   "metadata": {},
   "outputs": [
    {
     "ename": "AssertionError",
     "evalue": "",
     "output_type": "error",
     "traceback": [
      "\u001b[1;31m---------------------------------------------------------------------------\u001b[0m",
      "\u001b[1;31mAssertionError\u001b[0m                            Traceback (most recent call last)",
      "\u001b[1;32m<ipython-input-8-a2e83bbc2397>\u001b[0m in \u001b[0;36m<module>\u001b[1;34m\u001b[0m\n\u001b[0;32m      3\u001b[0m \u001b[0mB\u001b[0m \u001b[1;33m=\u001b[0m \u001b[0mnp\u001b[0m\u001b[1;33m.\u001b[0m\u001b[0marray\u001b[0m\u001b[1;33m(\u001b[0m\u001b[1;33m[\u001b[0m\u001b[1;33m[\u001b[0m\u001b[1;36m6\u001b[0m\u001b[1;33m,\u001b[0m \u001b[1;33m-\u001b[0m\u001b[1;36m2\u001b[0m\u001b[1;33m]\u001b[0m\u001b[1;33m,\u001b[0m \u001b[1;33m[\u001b[0m\u001b[1;36m1\u001b[0m\u001b[1;33m,\u001b[0m \u001b[1;33m-\u001b[0m\u001b[1;36m7\u001b[0m\u001b[1;33m]\u001b[0m\u001b[1;33m,\u001b[0m \u001b[1;33m[\u001b[0m\u001b[1;36m5\u001b[0m\u001b[1;33m,\u001b[0m \u001b[1;33m-\u001b[0m\u001b[1;36m1\u001b[0m\u001b[1;33m]\u001b[0m\u001b[1;33m]\u001b[0m\u001b[1;33m)\u001b[0m\u001b[1;33m\u001b[0m\u001b[1;33m\u001b[0m\u001b[0m\n\u001b[0;32m      4\u001b[0m \u001b[1;33m\u001b[0m\u001b[0m\n\u001b[1;32m----> 5\u001b[1;33m \u001b[0mprint\u001b[0m\u001b[1;33m(\u001b[0m\u001b[1;34m'mat_mat_addition(A,B) == A+B:'\u001b[0m\u001b[1;33m,\u001b[0m \u001b[0mnp\u001b[0m\u001b[1;33m.\u001b[0m\u001b[0mallclose\u001b[0m\u001b[1;33m(\u001b[0m\u001b[0mmat_mat_addition\u001b[0m\u001b[1;33m(\u001b[0m\u001b[0mA\u001b[0m\u001b[1;33m,\u001b[0m\u001b[0mB\u001b[0m\u001b[1;33m)\u001b[0m\u001b[1;33m,\u001b[0m \u001b[0mA\u001b[0m\u001b[1;33m+\u001b[0m\u001b[0mB\u001b[0m\u001b[1;33m)\u001b[0m\u001b[1;33m)\u001b[0m\u001b[1;33m\u001b[0m\u001b[1;33m\u001b[0m\u001b[0m\n\u001b[0m",
      "\u001b[1;32m<ipython-input-6-a33604b33699>\u001b[0m in \u001b[0;36mmat_mat_addition\u001b[1;34m(A, B)\u001b[0m\n\u001b[0;32m      5\u001b[0m     \u001b[0mmB\u001b[0m\u001b[1;33m,\u001b[0m \u001b[0mnB\u001b[0m \u001b[1;33m=\u001b[0m \u001b[0mnp\u001b[0m\u001b[1;33m.\u001b[0m\u001b[0mshape\u001b[0m\u001b[1;33m(\u001b[0m\u001b[0mB\u001b[0m\u001b[1;33m)\u001b[0m\u001b[1;33m\u001b[0m\u001b[1;33m\u001b[0m\u001b[0m\n\u001b[0;32m      6\u001b[0m     \u001b[1;31m# add a check that the two provided matrices are the same size\u001b[0m\u001b[1;33m\u001b[0m\u001b[1;33m\u001b[0m\u001b[1;33m\u001b[0m\u001b[0m\n\u001b[1;32m----> 7\u001b[1;33m     \u001b[1;32massert\u001b[0m \u001b[0mmA\u001b[0m\u001b[1;33m==\u001b[0m\u001b[0mmB\u001b[0m \u001b[1;32mand\u001b[0m \u001b[0mnA\u001b[0m\u001b[1;33m==\u001b[0m\u001b[0mnB\u001b[0m\u001b[1;33m\u001b[0m\u001b[1;33m\u001b[0m\u001b[0m\n\u001b[0m\u001b[0;32m      8\u001b[0m     \u001b[1;31m# initialise some space for the result\u001b[0m\u001b[1;33m\u001b[0m\u001b[1;33m\u001b[0m\u001b[1;33m\u001b[0m\u001b[0m\n\u001b[0;32m      9\u001b[0m     \u001b[0mC\u001b[0m \u001b[1;33m=\u001b[0m \u001b[0mnp\u001b[0m\u001b[1;33m.\u001b[0m\u001b[0mzeros\u001b[0m\u001b[1;33m(\u001b[0m\u001b[1;33m(\u001b[0m\u001b[0mmA\u001b[0m\u001b[1;33m,\u001b[0m \u001b[0mmB\u001b[0m\u001b[1;33m)\u001b[0m\u001b[1;33m)\u001b[0m\u001b[1;33m\u001b[0m\u001b[1;33m\u001b[0m\u001b[0m\n",
      "\u001b[1;31mAssertionError\u001b[0m: "
     ]
    }
   ],
   "source": [
    "# what does OUR function do when the matrices are of different size\n",
    "A = np.array([[1, 2], [3, 4]])\n",
    "B = np.array([[6, -2], [1, -7], [5, -1]])\n",
    "\n",
    "print('mat_mat_addition(A,B) == A+B:', np.allclose(mat_mat_addition(A,B), A+B))"
   ]
  },
  {
   "cell_type": "markdown",
   "metadata": {},
   "source": [
    "### Scalar multiplication\n",
    "\n",
    "We can multiply through by a scalar simply by multiplying each entry by that scalar:\n",
    "\n",
    "Given a matrix $A = [ a_{ij}]_{m\\times n}$ and a scalar $\\alpha$\n",
    "\n",
    "$$\\alpha A = [\\alpha a_{ij}]_{m\\times n}$$"
   ]
  },
  {
   "cell_type": "code",
   "execution_count": 9,
   "metadata": {},
   "outputs": [
    {
     "name": "stdout",
     "output_type": "stream",
     "text": [
      "[[1 2]\n",
      " [3 4]]\n",
      "alpha * A =\n",
      " [[ 4  8]\n",
      " [12 16]] \n",
      "\n"
     ]
    }
   ],
   "source": [
    "alpha = 4\n",
    "\n",
    "# The * operator is the correct thing to use here - cf. later when we introduce @!\n",
    "print(A)\n",
    "print('alpha * A =\\n', alpha*A, '\\n')"
   ]
  },
  {
   "cell_type": "markdown",
   "metadata": {},
   "source": [
    "### Be careful about assignments vs copies\n",
    "\n",
    "This was mentioned in your previous module.\n",
    "\n",
    "See the two examples below, and discussions at \n",
    "\n",
    "<https://www.jessicayung.com/numpy-views-vs-copies-avoiding-costly-mistakes/>\n",
    "\n",
    "<https://numpy.org/devdocs/user/quickstart.html#copies-and-views>"
   ]
  },
  {
   "cell_type": "code",
   "execution_count": 10,
   "metadata": {},
   "outputs": [
    {
     "name": "stdout",
     "output_type": "stream",
     "text": [
      "True\n",
      "True\n"
     ]
    }
   ],
   "source": [
    "A = np.array([[1, 2], [3, 4]])\n",
    "B = A\n",
    "\n",
    "# the following should of course be true\n",
    "print(np.array_equal(A,B))\n",
    "\n",
    "# is it still true if we update one of the entries of ONE of the matrices but not the other?\n",
    "B[0]=2\n",
    "print(np.array_equal(A,B))"
   ]
  },
  {
   "cell_type": "code",
   "execution_count": 11,
   "metadata": {},
   "outputs": [
    {
     "name": "stdout",
     "output_type": "stream",
     "text": [
      "True\n",
      "False\n"
     ]
    }
   ],
   "source": [
    "# we may or may not want the above behaviour\n",
    "\n",
    "# alternatively we can make a copy:\n",
    "A = np.array([[1, 2], [3, 4]])\n",
    "B = np.copy(A)\n",
    "print(np.array_equal(A,B))\n",
    "B[0]=2\n",
    "print(np.array_equal(A,B))"
   ]
  },
  {
   "cell_type": "markdown",
   "metadata": {},
   "source": [
    "### Matrix transpose and complex conjugate\n",
    "\n",
    "The transpose of a matrix $A$ is written as $A^T$ and defined as\n",
    "\n",
    "$$\\text{if} \\quad A = [a_{ij}]_{m\\times n}, \\qquad \\text{then}\\quad A^T = [a_{ji}]_{n\\times m} $$\n",
    "\n",
    "i.e. we just swap the rows and columns - for a non-square matrix note that this operation is perfectly allowed, the dimensions will then also swap:"
   ]
  },
  {
   "cell_type": "code",
   "execution_count": 12,
   "metadata": {},
   "outputs": [
    {
     "name": "stdout",
     "output_type": "stream",
     "text": [
      "[[1 2]\n",
      " [3 4]\n",
      " [5 6]]\n",
      "\n",
      " [[1 3 5]\n",
      " [2 4 6]]\n",
      "\n",
      " [[1 3 5]\n",
      " [2 4 6]]\n"
     ]
    }
   ],
   "source": [
    "A = np.array([[1, 2], [3, 4], [5,6]])\n",
    "print(A)\n",
    "# two NumPy ways to take the transpose:\n",
    "print('\\n',A.T)\n",
    "print('\\n',np.transpose(A))"
   ]
  },
  {
   "cell_type": "code",
   "execution_count": 13,
   "metadata": {},
   "outputs": [
    {
     "name": "stdout",
     "output_type": "stream",
     "text": [
      "\n",
      " [[1 3]\n",
      " [2 4]]\n",
      "\n",
      " [[ 1  3]\n",
      " [10  4]]\n"
     ]
    }
   ],
   "source": [
    "# again be careful about views vs copies:\n",
    "\n",
    "A = np.array([[1, 2], [3, 4]])\n",
    "B = A.T\n",
    "print('\\n',B)\n",
    "\n",
    "# updating the [0,1] entry of A\n",
    "A[0,1]=10\n",
    "\n",
    "# has the effect of changing the [1,0] entry of B!\n",
    "print('\\n',B)"
   ]
  },
  {
   "cell_type": "markdown",
   "metadata": {},
   "source": [
    "We won't generally deal with complex valued matrices, but in this case the [conjugate transpose (or Hermitian transpose)](https://en.wikipedia.org/wiki/Conjugate_transpose) is defined by additionally taking the complex conjugate of the entries:\n",
    "\n",
    "$$A^H = \\overline{A^T} = \\left(\\overline{A}\\right)^T = [\\overline{a}_{ji}]_{n\\times m} $$\n",
    "\n",
    "where $\\overline{(\\cdot)}$ indicates the complex conjugate:  \n",
    "\n",
    "$$\\overline{a+ bi} = a-bi,\\qquad \\text{where}\\qquad i=\\sqrt{-1}.$$"
   ]
  },
  {
   "cell_type": "code",
   "execution_count": 14,
   "metadata": {},
   "outputs": [
    {
     "name": "stdout",
     "output_type": "stream",
     "text": [
      "[[ 1.+1.j  3.+0.j]\n",
      " [ 4.-4.j -1.+2.j]]\n",
      "\n",
      " [[ 1.-1.j  3.-0.j]\n",
      " [ 4.+4.j -1.-2.j]]\n"
     ]
    }
   ],
   "source": [
    "# if we have a complex matrix the complex conjugate (i.e. no transpose) is sometimes useful:\n",
    "\n",
    "A = np.array( [[1+1j, 3], [4-4j, -1+2j]])\n",
    "print(A)\n",
    "print('\\n',np.conjugate(A))"
   ]
  },
  {
   "cell_type": "markdown",
   "metadata": {},
   "source": [
    "If you're wondering why `j` and not `i` is used for the square root of -1 see the discussion here:\n",
    "<https://stackoverflow.com/questions/24812444/why-are-complex-numbers-in-python-denoted-with-j-instead-of-i?>\n",
    "\n",
    "Which of the two you're used to will probably be due to what subject your first degree was in."
   ]
  },
  {
   "cell_type": "code",
   "execution_count": 15,
   "metadata": {},
   "outputs": [
    {
     "name": "stdout",
     "output_type": "stream",
     "text": [
      "[[ 1.+1.j  3.+0.j]\n",
      " [ 4.-4.j -1.+2.j]]\n",
      "\n",
      " [[ 1.-1.j  4.+4.j]\n",
      " [ 3.-0.j -1.-2.j]]\n"
     ]
    }
   ],
   "source": [
    "# and the conjugate transpose (sometimes the Hermitian transpose):\n",
    "\n",
    "A = np.array( [[1+1j, 3], [4-4j, -1+2j]])\n",
    "print(A)\n",
    "print('\\n',np.conjugate(A).T)\n",
    "# If A was a matrix object rather than just a numpy array we could also use A.H, but we won't use these"
   ]
  },
  {
   "cell_type": "markdown",
   "metadata": {},
   "source": [
    "To initialise an array of complex type we can specify the `dtype`:"
   ]
  },
  {
   "cell_type": "code",
   "execution_count": 16,
   "metadata": {},
   "outputs": [
    {
     "name": "stdout",
     "output_type": "stream",
     "text": [
      "[[0.+0.j 0.+0.j]\n",
      " [0.+0.j 0.+0.j]]\n",
      "\n",
      " [[0. 0.]\n",
      " [0. 0.]]\n"
     ]
    }
   ],
   "source": [
    "A = np.zeros((2,2), dtype=complex)\n",
    "print(A)\n",
    "\n",
    "# and if we only wanted the real part of this\n",
    "print('\\n',np.real(A))"
   ]
  },
  {
   "cell_type": "markdown",
   "metadata": {},
   "source": [
    "- If $A=A^T$ we say that $A$ is symmetric.\n",
    "\n",
    "\n",
    "- If $A=-A^T$ we say that $A$ is skew-symmetric (what does this imply the diagonal must be?)\n",
    "\n",
    "\n",
    "- If $A=A^H$ then we say that $A$ is [Hermitian](https://en.wikipedia.org/wiki/Hermitian_matrix) (so real symmetric matrices are a subset of Hermitian matrices)"
   ]
  },
  {
   "cell_type": "markdown",
   "metadata": {},
   "source": [
    "#### Properties of the transpose operator\n",
    "\n",
    "The following properties are easy to establish:\n",
    "\n",
    "For matrices $A$ and $B$ of appropriate sizes (i.e. [*conformable*](https://en.wikipedia.org/wiki/Conformable_matrix) for the given operation - addition or multiplication - see later) and a scalar $\\alpha$:\n",
    "\n",
    "\n",
    "1. $(A+B)^T = A^T + B^T$\n",
    "\n",
    "\n",
    "2. $(\\alpha A)^T = \\alpha (A^T)$\n",
    "\n",
    "\n",
    "3. $(AB)^T = B^T A^T$\n",
    "\n",
    "\n",
    "4. $(A^T)^T = A$\n",
    "\n",
    "\n",
    "As an exercise you can try and prove these from the mathematical definitions, and also demonstrate for some simple matrices using appropriate NumPy commands. The third is particularly interesting and perhaps non-obvious so worth trying to prove/verify - see the homework exercises.\n",
    "\n",
    "NB. We haven't actually defined matrix multiplication ($AB$) yet, but we will do so shortly.\n",
    "\n",
    "How does the multiplicative property expand to more matrices, i.e. what is $(ABC)^T$?"
   ]
  },
  {
   "cell_type": "markdown",
   "metadata": {},
   "source": [
    "### Indexing, slicing etc\n",
    "\n",
    "You covered some of this in your previous module.\n",
    "\n",
    "For more examples see\n",
    "[https://docs.scipy.org/doc/numpy/reference/arrays.indexing.html](https://docs.scipy.org/doc/numpy/reference/arrays.indexing.html)"
   ]
  },
  {
   "cell_type": "markdown",
   "metadata": {},
   "source": [
    "### Other useful NumPy attributes"
   ]
  },
  {
   "cell_type": "code",
   "execution_count": 17,
   "metadata": {},
   "outputs": [
    {
     "name": "stdout",
     "output_type": "stream",
     "text": [
      "A = \n",
      " [[10.  2.  1.]\n",
      " [ 6.  5.  4.]\n",
      " [ 1.  4.  7.]] \n",
      "\n",
      "array([[10.,  2.,  1.],\n",
      "       [ 6.,  5.,  4.],\n",
      "       [ 1.,  4.,  7.]])\n",
      "\n",
      "Size of the array storing A: np.size(A) =  9\n",
      "\n",
      "The number of dimensions of the matrix A: np.ndim(A) =  2\n",
      "\n",
      "The shape of the matrix A: np.shape(A) =  (3, 3)\n",
      "\n",
      "The number of rows: np.shape(A)[0] =  3\n"
     ]
    }
   ],
   "source": [
    "A = np.array([[10., 2., 1.], [6., 5., 4.], [1., 4., 7.]])\n",
    "\n",
    "print('A = \\n', A, '\\n')\n",
    "\n",
    "# pretty printing - useful for cutting and pasting directly into code.\n",
    "pprint(A)\n",
    "\n",
    "print('\\nSize of the array storing A: np.size(A) = ', np.size(A)) # also print(A.size) \n",
    "\n",
    "print('\\nThe number of dimensions of the matrix A: np.ndim(A) = ', np.ndim(A)) # also print(A.ndim)  \n",
    "# so note that there is a bit of a difference between NumPy and my use of \"dimension\"\n",
    "\n",
    "print('\\nThe shape of the matrix A: np.shape(A) = ', np.shape(A)) # also print(A.shape)\n",
    "\n",
    "print('\\nThe number of rows: np.shape(A)[0] = ', np.shape(A)[0]) # also print(A.shape[0]),   etc...."
   ]
  },
  {
   "cell_type": "markdown",
   "metadata": {},
   "source": [
    "# Matrix-vector multiplication\n",
    "\n",
    "## Mathematical definition\n",
    "\n",
    "This is a good point to review how we can pre-multiply a vector by a matrix, and code up this operation ourselves.\n",
    "\n",
    "[Note that matrix-vector multiplication is just a special case of the more general matrix-matrix multiplication that we will return to a little later].\n",
    "\n",
    "Given an $m\\times n$ matrix $A$ and a vector $\\boldsymbol{x}\\;$ the product is a new vector we will call $\\boldsymbol{b}\\;$:\n",
    "\n",
    "$$ A\\boldsymbol{x}=\\boldsymbol{b}$$\n",
    "\n",
    "The size of $A$ dictates the size of $\\boldsymbol{x}\\;$ where this product makes sense (is defined), and tells us the resulting size of $\\boldsymbol{b}\\;$: \n",
    "\n",
    "if $A$ is $m\\times n$, then \n",
    "$\\boldsymbol{x}\\;$ has to be $n\\times 1$  and $\\boldsymbol{b}\\;$ will then be  $m\\times 1$.\n",
    "\n",
    "\n",
    "$$b_i = \\sum_{j=1}^n a_{ij} x_j \\quad\\text{for}\\quad i=1,\\ldots, m $$\n"
   ]
  },
  {
   "cell_type": "markdown",
   "metadata": {},
   "source": [
    "## Code\n",
    "\n",
    "Let's implement our own matrix vector product function"
   ]
  },
  {
   "cell_type": "code",
   "execution_count": 18,
   "metadata": {},
   "outputs": [],
   "source": [
    "def mat_vec_product(A, x):\n",
    "    \"\"\" Return the matrix vector product Ax\n",
    "    \"\"\"\n",
    "    m, n = np.shape(A)\n",
    "    assert x.ndim == 1 # restrict to the case where x is 1D\n",
    "    assert n == len(x) # as 1D we can check the length of x is consistent with A\n",
    "    b = np.zeros(m) # and then initialise to zero the appropriate length array for b\n",
    "    for i in range(m):\n",
    "        for j in range(n):\n",
    "            b[i] += A[i, j] * x[j]\n",
    "    return b"
   ]
  },
  {
   "cell_type": "markdown",
   "metadata": {},
   "source": [
    "We'll test this shortly, but first well think about some properties and see how to do this in NumPy."
   ]
  },
  {
   "cell_type": "markdown",
   "metadata": {},
   "source": [
    "## Properties\n",
    "\n",
    "Note that the action of multiplying by a matrix is what is called a [linear operator](https://en.wikipedia.org/wiki/Linear_map). This means that matrix multiplication satisfies the properties (for a matrix $A$, vectors $\\boldsymbol{x}$ and $\\boldsymbol{y}$, and scalar $\\alpha$)\n",
    "\n",
    "\n",
    "1. $A (x + y) = Ax + Ay$\n",
    "\n",
    "\n",
    "2. $A (\\alpha x) = \\alpha A x$"
   ]
  },
  {
   "cell_type": "markdown",
   "metadata": {},
   "source": [
    "## Matrix multiplication using NumPy\n",
    "\n",
    "We can easily work out that for any $2 \\times 2$ matrix $A$ and\n",
    "\n",
    "$$\\boldsymbol{x} = \\begin{pmatrix}\n",
    "    1\\\\\n",
    "    1\n",
    "\\end{pmatrix}$$ \n",
    "\n",
    "$A\\boldsymbol{x}$ will just be the vector which is the summation of the columns of $A$. \n",
    "\n",
    "[We'll come back to this idea of interpreting matrix vector multiplication as a weighted sums of the columns of the matrix shortly.]\n",
    "\n",
    "Let's test this using NumPy."
   ]
  },
  {
   "cell_type": "code",
   "execution_count": 19,
   "metadata": {},
   "outputs": [
    {
     "name": "stdout",
     "output_type": "stream",
     "text": [
      "[[ 2  3]\n",
      " [ 1 -4]]\n",
      "\n",
      " [[ 2  3]\n",
      " [ 1 -4]]\n"
     ]
    }
   ],
   "source": [
    "A = np.array([[2, 3], [1, -4]])\n",
    "x = np.array([1, 1])\n",
    "\n",
    "print(A)\n",
    "print('\\n',A*x)"
   ]
  },
  {
   "cell_type": "markdown",
   "metadata": {},
   "source": [
    "**Not** what we were expecting.  \n",
    "\n",
    "The `*` operator is equivalent to `np.multiply` <https://docs.scipy.org/doc/numpy/reference/generated/numpy.multiply.html>, \n",
    "\n",
    "this is the same as the elementwise product in Matlab: `.*`. \n",
    "\n",
    "We want the `@` operator:"
   ]
  },
  {
   "cell_type": "code",
   "execution_count": 20,
   "metadata": {},
   "outputs": [
    {
     "name": "stdout",
     "output_type": "stream",
     "text": [
      "[[ 2  3]\n",
      " [ 1 -4]]\n",
      "\n",
      " [ 5 -3]\n"
     ]
    }
   ],
   "source": [
    "A = np.array([[2, 3], [1, -4]])\n",
    "x = np.array([1, 1])\n",
    "\n",
    "print(A)\n",
    "print('\\n',A@x)"
   ]
  },
  {
   "cell_type": "markdown",
   "metadata": {},
   "source": [
    "Note that the `@` operator was introduced relatively recently. If you look at older code you may see the use of \n",
    "`numpy.dot` <https://numpy.org/devdocs/reference/generated/numpy.dot.html> or `numpy.matmul` <https://numpy.org/devdocs/reference/generated/numpy.matmul.html#numpy.matmul>"
   ]
  },
  {
   "cell_type": "code",
   "execution_count": 21,
   "metadata": {},
   "outputs": [
    {
     "name": "stdout",
     "output_type": "stream",
     "text": [
      "[ 5 -3]\n",
      "\n",
      " [ 5 -3]\n"
     ]
    }
   ],
   "source": [
    "A = np.array([[2, 3], [1, -4]])\n",
    "x = np.array([1, 1])\n",
    "\n",
    "print(np.dot(A,x))   #  or   print('\\n',A.dot(x))\n",
    "print('\\n',np.matmul(A,x))   #  or print('\\n',A.matmul(x))"
   ]
  },
  {
   "cell_type": "markdown",
   "metadata": {},
   "source": [
    "<div class=\"optional\">\n",
    "\n",
    "### Aside: matrix objects [*]\n",
    "\n",
    "Note that NumPy does possess a matrix object as a sub-class of the NumPy array.  \n",
    "\n",
    "If needed we can cast the above two-dimensional arrays into matrix objects (with `np.mat(A)`), one consequence of this is that the `*` operator now will yield the expected matrix product. (Note that this may also be the case with certain libraries - we will see this in lecture 4 when we make use of `mpmath`, so be careful.)\n",
    "\n",
    "However, since the introduction of the `@` operator for NumPy arrays use of matrix data types is not recommended. We won't use them here.\n",
    "\n",
    "</div>"
   ]
  },
  {
   "cell_type": "markdown",
   "metadata": {},
   "source": [
    "## Testing our code\n",
    "\n",
    "OK, so now we know how to do matrix-vector multiplication properly with NumPy, let's use it to check our code."
   ]
  },
  {
   "cell_type": "code",
   "execution_count": 22,
   "metadata": {},
   "outputs": [
    {
     "name": "stdout",
     "output_type": "stream",
     "text": [
      "[ 5. -3.]\n",
      "mat_vec_product(A, x) == A@x:   True\n",
      "[ 5. -3.  2.]\n",
      "mat_vec_product(A, x) == A@x:   True\n"
     ]
    }
   ],
   "source": [
    "A = np.array([[2, 3], [1, -4]])\n",
    "x = np.array([1, 1])\n",
    "\n",
    "print(mat_vec_product(A,x))\n",
    "print('mat_vec_product(A, x) == A@x:  ', np.allclose(mat_vec_product(A, x), A@x))\n",
    "\n",
    "# Check a non-square matrix\n",
    "A = np.array([[2, 3], [1, -4], [1,1]])\n",
    "# based on the above weighted sum of columns, what should Ax be for the following x?\n",
    "x = np.array([1, 1])\n",
    "\n",
    "print(mat_vec_product(A,x))\n",
    "print('mat_vec_product(A, x) == A@x:  ', np.allclose(mat_vec_product(A, x), A@x))"
   ]
  },
  {
   "cell_type": "markdown",
   "metadata": {},
   "source": [
    "## Another useful interpretation\n",
    "\n",
    "If you think about it, the resultant vector $\\boldsymbol{b}$ in \n",
    "\n",
    "$$ \\boldsymbol{b} = A\\boldsymbol{x}$$\n",
    "\n",
    "\n",
    "is the weighted sum (i.e. a linear combination) of the columns of $A$, where the weighting of each column comes from the entries of $\\boldsymbol{x}$:\n",
    "\n",
    "\\begin{align}\n",
    "\\begin{pmatrix}\n",
    "    b_1\\\\\n",
    "    b_2\\\\\n",
    "    \\vdots\\\\\n",
    "    b_m\n",
    "\\end{pmatrix}\n",
    "&=\n",
    "\\begin{pmatrix}\n",
    "      &     &         &     \\\\      \n",
    "      &     &         &     \\\\      \n",
    "  \\boldsymbol{a}_{\\,:1} & \\boldsymbol{a}_{\\,:2} &  \\ldots & \\boldsymbol{a}_{\\,:n} \\\\\n",
    "      &     &         &     \\\\\n",
    "      &     &         &     \\\\\n",
    "\\end{pmatrix}\n",
    "\\begin{pmatrix}\n",
    "    x_1\\\\\n",
    "    x_2\\\\\n",
    "    \\vdots\\\\\n",
    "    x_n\n",
    "\\end{pmatrix}\\\\\n",
    "&=\n",
    "x_1 \n",
    "\\begin{pmatrix}\n",
    "       \\\\\n",
    "       \\\\\n",
    "   \\boldsymbol{a}_{\\,:1} \\\\\n",
    "       \\\\\n",
    "    ~   \n",
    "\\end{pmatrix}\n",
    "+\n",
    "x_2 \n",
    "\\begin{pmatrix}\n",
    "       \\\\\n",
    "       \\\\\n",
    "   \\boldsymbol{a}_{\\,:2} \\\\\n",
    "       \\\\\n",
    "    ~   \n",
    "\\end{pmatrix}\n",
    "+ \\cdots +\n",
    "x_n\n",
    "\\begin{pmatrix}\n",
    "       \\\\\n",
    "       \\\\\n",
    "   \\boldsymbol{a}_{\\,:n} \\\\\n",
    "       \\\\\n",
    "    ~   \n",
    "\\end{pmatrix}\n",
    "\\end{align}\n",
    "\n",
    "where we have used the notation $\\boldsymbol{a}_{\\,:j}$ to indicate the $j$-th column of matrix $A$.\n",
    "\n",
    "If you find it easier to think about things geometrically, then you will see later that this is a very useful way to think about what's going on when you multiply a matrix by a vector.\n",
    "\n",
    "<br>\n",
    "\n",
    "A homework exercise asks you to code up a version of matrix-vector multiplication based on this mathematical interpretation."
   ]
  },
  {
   "cell_type": "markdown",
   "metadata": {},
   "source": [
    "# Motivation - linear (or matrix) systems\n",
    "\n",
    "Almost every topic in this course, at some point (which may be hidden under the hood), requires the solution of a linear (or matrix) system of the form\n",
    "\n",
    "$$A\\boldsymbol{x}=\\boldsymbol{b},$$\n",
    "\n",
    "where for a given $m\\times n$ matrix $A$ and a given $m\\times 1$ right hand side vector $\\boldsymbol{b}\\;$ we want to find an $n\\times 1$ vector $\\boldsymbol{x}\\;$.\n",
    "\n",
    "[Remember that the product of an $m\\times n$ and an $n\\times p$ matrix (in that order) results in an $m\\times p$ matrix - we'll see this below.]  \n",
    "\n",
    "Often, but not always, we will be considering a square problem, i.e. where $m=n$. \n",
    "[The module Inversion & Optimisation in particular is concerned with problems that lead to non-square systems].\n",
    "\n",
    "For many methods or algorithms the solution of linear systems such as this also turns out to be the most costly component of that method.  And also where sensible vs stupid algorithm choices can lead to terrible run times and even instability (e.g. not being able to obtain a solution at all).\n",
    "\n",
    "Hence, it is vitally important for us to understand the methods available to us to solve this problem accurately and efficiently.\n",
    "\n",
    "We also need to understand situations where the solution of this problem may be more difficult - that is more expensive and/or more difficult to achieve an accurate solution."
   ]
  },
  {
   "cell_type": "markdown",
   "metadata": {},
   "source": [
    "## A simple example\n",
    "\n",
    "Recall that we can re-write a system of simultaneous (linear) equations in matrix form.  \n",
    "\n",
    "For example, consider the following example:\n",
    "\n",
    "\\begin{eqnarray*}\n",
    "  2x + 3y &=& 7 \\\\[5pt]\n",
    "   x - 4y &=& 3,\n",
    "\\end{eqnarray*} \n",
    "\n",
    "this is completely equivalent to the following problem written in matrix form:\n",
    "\n",
    "$$\n",
    "\\begin{pmatrix}\n",
    "    2 & 3 \\\\\n",
    "    1 & -4  \n",
    "\\end{pmatrix}  \n",
    "\\begin{pmatrix}\n",
    "    x \\\\\n",
    "    y \n",
    "\\end{pmatrix}  =\n",
    "\\begin{pmatrix}\n",
    "    7 \\\\\n",
    "    3 \n",
    "\\end{pmatrix}.\n",
    "$$\n",
    "\n",
    "Indeed when you see or are given a linear system, i.e. an $A$ and a $\\boldsymbol{b}$, it's often helpful to think about the set of linear equations its representing.\n",
    "\n",
    "A collection of multiple linear equations for multiple unknowns is the general situation that will lead us to need to solve a matrix system; we may easily have a scenario where we have billions of unknowns."
   ]
  },
  {
   "cell_type": "markdown",
   "metadata": {},
   "source": [
    "## The general case\n",
    "\n",
    "More generally, consider the arbitrary system of $n$ linear equations for $n$ unknowns\n",
    "\n",
    "\\begin{eqnarray*}\n",
    "  a_{11}x_1 + a_{12}x_2 + \\dots + a_{1n}x_n &=& b_1 \\\\[5pt] \n",
    "  a_{21}x_1 + a_{22}x_2 + \\dots + a_{2n}x_n &=& b_2 \\\\[5pt]\n",
    "  \\vdots &=& \\vdots \\\\ \n",
    "  a_{n1}x_1 + a_{n2}x_2 + \\dots + a_{nn}x_n &=& b_n,\n",
    "\\end{eqnarray*}\n",
    "\n",
    "where $a_{ij}$ are the constant coefficients of the linear system, $x_j$ are the unknown variables, and $b_i$\n",
    "are the terms on the right hand side (RHS).  \n",
    "\n",
    "Here the index $i$ is referring to the equation number (equivalently the row in the matrix below), with the index $j$ referring to the component of the unknown vector $\\boldsymbol{x}$ (equivalently the column of the matrix).\n",
    "\n",
    "This system of equations can be represented as the matrix equation $A\\boldsymbol{x}=\\boldsymbol{b}\\;$: \n",
    "\n",
    "$$\n",
    "\\left(\n",
    "  \\begin{array}{cccc}\n",
    "    a_{11} & a_{12} & \\dots & a_{1n} \\\\\n",
    "    a_{21} & a_{22} & \\dots & a_{2n} \\\\\n",
    "    \\vdots & \\vdots & \\ddots & \\vdots \\\\\n",
    "    a_{n1} & a_{n2} & \\dots & a_{nn} \n",
    "  \\end{array}\n",
    "\\right)\\left(\n",
    "         \\begin{array}{c}\n",
    "           x_1 \\\\\n",
    "           x_2 \\\\\n",
    "           \\vdots \\\\\n",
    "           x_n \n",
    "         \\end{array}\n",
    "       \\right)  = \\left(\n",
    "                   \\begin{array}{c}\n",
    "                     b_1 \\\\\n",
    "                     b_2 \\\\\n",
    "                     \\vdots \\\\\n",
    "                     b_n \n",
    "                   \\end{array}\n",
    "                 \\right).\n",
    "$$\n",
    "\n",
    "We've written it here as a square matrix (of *dimension* $n\\times n$) - the same number of equations as unknowns, but this doesn't necessarily need to be the case - we may have $m$ equations and $n$ unknowns and then our matrix would be of *dimension* $m \\times n$."
   ]
  },
  {
   "cell_type": "markdown",
   "metadata": {},
   "source": [
    "## A geometric interpretation\n",
    "\n",
    "Let's go back to our simple example\n",
    "\n",
    "\\begin{eqnarray*}\n",
    "  2x + 3y &=& 7 \\\\[5pt]\n",
    "   x - 4y &=& 3\n",
    "\\end{eqnarray*} \n",
    "\n",
    "which is completely equivalent to the following problem written in matrix form:\n",
    "\n",
    "$$\n",
    "\\begin{pmatrix}\n",
    "    2 & 3 \\\\\n",
    "    1 & -4  \n",
    "\\end{pmatrix}  \n",
    "\\begin{pmatrix}\n",
    "    x \\\\\n",
    "    y \n",
    "\\end{pmatrix}  =\n",
    "\\begin{pmatrix}\n",
    "    7 \\\\\n",
    "    3 \n",
    "\\end{pmatrix}.\n",
    "$$\n",
    "\n",
    "We can rearrange the first of these equations to\n",
    "\n",
    "$$y = -\\frac{2}{3} x + \\frac{7}{3}$$\n",
    "\n",
    "which we recognise as the equation of a straight line in 2D space: $y=mx +c$ where $m$ is the slope and $c$ is the intercept.\n",
    "\n",
    "Similarly the second equation can be rearranged into the standard form for a straignt line in 2D.\n",
    "\n",
    "\n",
    "\n",
    "\n",
    "\n",
    "<br>\n",
    "\n",
    "\n",
    "Let's think through another interpretation which further utilises geometrical thinking. \n",
    "\n",
    "Consider all of $(x,y)$ space where $x$ and $y$ are independent variables that are free to vary arbitrarily - they will map out, or cover/span, all of 2D space.  \n",
    "\n",
    "By stating that $ 2x + 3y = 7 $ we are now saying that $x$ and $y$ are not both independent - they cannot vary arbitrarily, one is effectively dependent on the other. \n",
    "\n",
    "For a linear system this one equation *restricts*, or *constrains*, us to a line in 2D (with a linear equation containing $x$, $y$ and $z$ variables constraining us to a plane in 3D etc). \n",
    "\n",
    "Indeed we can think about the equation as a constraint, we might even simply call it a constraint rather than an equation.\n",
    "\n",
    "In the module Inversion & Optimisation you will encounter nonlinear equations where the situation is a bit more complicated but the equations can still be considered as constraints.\n",
    "\n",
    "Above we wrote this as $y\\equiv y(x)$ ($y$ is a function of $x$) to emphasise a point, but of course we could have just as easily rearranged to $x\\equiv x(y)$. If instead of $2x + 3y = 7$ we had the equation  $2x = 7$ then of course we couldn't rearrange into the form $y\\equiv y(x)$, but trivially can into the form $x\\equiv x(y)$ (a constant in this case) - this just reflects the fact that this particular equation example represents a vertical line in 2D space ($m=\\infty$)!\n",
    "\n",
    "Of course our second equation can also be interpreted as a line in 2D space.\n",
    "\n",
    "Let's go back to our original example and plot the two lines that are defined by our two equations/constraints.\n",
    "\n",
    "\n"
   ]
  },
  {
   "cell_type": "code",
   "execution_count": 23,
   "metadata": {},
   "outputs": [
    {
     "data": {
      "text/plain": [
       "<matplotlib.legend.Legend at 0x1cc7cd4c630>"
      ]
     },
     "execution_count": 23,
     "metadata": {},
     "output_type": "execute_result"
    },
    {
     "data": {
      "image/png": "[encoded data removed]",
      "text/plain": [
       "<Figure size 360x360 with 1 Axes>"
      ]
     },
     "metadata": {
      "needs_background": "light"
     },
     "output_type": "display_data"
    }
   ],
   "source": [
    "x = np.linspace(-1,5,100)\n",
    "y1 = -(2./3.)*x + (7./3.)\n",
    "y2 = (1./4.)*x - (3./4.)\n",
    "\n",
    "fig = plt.figure(figsize=(5, 5))\n",
    "\n",
    "ax1 = fig.add_subplot(111)\n",
    "\n",
    "ax1.set_xlabel(\"$x$\", fontsize=14)\n",
    "ax1.set_ylabel(\"$y$\", fontsize=14)\n",
    "ax1.set_title('Two lines', fontsize=14)\n",
    "ax1.grid(True)\n",
    "\n",
    "ax1.plot(x,y1,'b', label='$2x+3y=7$')\n",
    "ax1.plot(x,y2,'r', label='$x-4y=3$')\n",
    "\n",
    "ax1.legend(loc='best', fontsize=14)"
   ]
  },
  {
   "cell_type": "markdown",
   "metadata": {},
   "source": [
    "\n",
    "The blue line maps out all combinations of $x$ and $y$ values that satisfy the first equation/constraint, and the red all the $x$ and $y$ values that satisfy the second.\n",
    "\n",
    "So in solving the system of simultaneous equations, or equivalently solving the corresponding matrix system, we are asking the question what $x$ and $y$ values satisfy BOTH equations (or constraints)?\n",
    "\n",
    "\n",
    "From the image above we see that **there is a solution** (at the intersection) and it is clearly **unique** (there is only one intersection), for these particular equations. This is the only combination of $x$ and $y$ values that satisfy BOTH equations/constraints.\n",
    "\n",
    "\n",
    "In 2D for this example, one constraint restricts our 2D space of $x,y$ values to a 1D subset, the other to another 1D subset, combined they restrict the 2D space down to 0D, i.e. a single point - our unique solution.\n",
    "\n",
    "\n",
    "But of course in 2D there are two other possible scenarios - what are these?  Can you construct suitable pairs of equations that demonstrate these possibilities, and the corresponding plots to help explain what is going in visually? \n",
    "\n",
    "\n",
    ".... see the exercises."
   ]
  },
  {
   "cell_type": "markdown",
   "metadata": {},
   "source": [
    "## Solving a general linear system\n",
    "\n",
    "In this simple $2\\times 2$ case we can find the solution via the above geometric method, or we can substitute one equation into the other to solve the system:\n",
    "\n",
    "\\begin{eqnarray*}\n",
    "  2x + 3y &=& 7 \\\\[5pt]\n",
    "   x - 4y &=& 3\n",
    "\\end{eqnarray*} \n",
    "\n",
    "Lots of ways we could do this, but as $x$ is already on its own in the second equation perhaps easiest (as it delays the need to deal with fractions) to rearrange and substitute $x=3+4y$ into the first:\n",
    "\n",
    "$$ 2x + 3y = 7 \\quad\\implies\\quad 2(3+4y)+3y=7 \\quad\\implies\\quad  (2\\times 4 + 3)y=7 - 2\\times 3  \\quad\\implies\\quad y = \\frac{1}{11} $$\n",
    "\n",
    "Then substitute this back into one of the equations to find $x$, again easiest option is the second:\n",
    "\n",
    "$$x=3+4y = 3+4\\times \\frac{1}{11} = \\frac{37}{11}$$\n",
    "\n",
    "But we can't really use either of these approaches (plotting or substitution) if our system is much larger in dimension - what if we had billions of unknowns (which on today's computers are problem sizes we would certainly be wanting to solve.)\n",
    "\n",
    "We can check our solution to the $2\\times 2$ problem by adding this point we just derived to our plot and comfirm if it agrees with the intersection."
   ]
  },
  {
   "cell_type": "code",
   "execution_count": 24,
   "metadata": {},
   "outputs": [
    {
     "data": {
      "text/plain": [
       "<matplotlib.legend.Legend at 0x1cc7ce364a8>"
      ]
     },
     "execution_count": 24,
     "metadata": {},
     "output_type": "execute_result"
    },
    {
     "data": {
      "image/png": "[encoded data removed]",
      "text/plain": [
       "<Figure size 360x360 with 1 Axes>"
      ]
     },
     "metadata": {
      "needs_background": "light"
     },
     "output_type": "display_data"
    }
   ],
   "source": [
    "x = np.linspace(-1,5,100)\n",
    "y1 = -(2./3.)*x + (7./3.)\n",
    "y2 = (1./4.)*x - (3./4.)\n",
    "\n",
    "fig = plt.figure(figsize=(5, 5))\n",
    "\n",
    "ax1 = fig.add_subplot(111)\n",
    "\n",
    "ax1.set_xlabel(\"$x$\", fontsize=14)\n",
    "ax1.set_ylabel(\"$y$\", fontsize=14)\n",
    "ax1.set_title('Two lines', fontsize=14)\n",
    "ax1.grid(True)\n",
    "\n",
    "ax1.plot(x,y1,'b', label='$2x+3y=7$')\n",
    "ax1.plot(x,y2,'r', label='$x-4y=3$')\n",
    "ax1.plot(37./11,1./11, 'ko', label='Our solution')\n",
    "\n",
    "ax1.legend(loc='best', fontsize=14)"
   ]
  },
  {
   "cell_type": "markdown",
   "metadata": {},
   "source": [
    "Success!!"
   ]
  },
  {
   "cell_type": "markdown",
   "metadata": {},
   "source": [
    "# Matrix inverse\n",
    "\n",
    "For a square $n\\times n$ matrix $A$, its inverse is defined as the matrix $B$ with the same dimensions as $A$ that satisfies\n",
    "\n",
    "$$AB = BA = I$$\n",
    "\n",
    "where $I$ is the identity matrix of size $n\\times n$ (sometimes to explicitly indicate its dimension we would write $I_n$) - see a couple of cells below for the formal definition.\n",
    "\n",
    "That is if we pre- or post-multiply $A$ by this matrix we get the identity matrix. "
   ]
  },
  {
   "cell_type": "markdown",
   "metadata": {},
   "source": [
    "<div class=\"optional\">\n",
    "\n",
    "**Aside:**\n",
    "\n",
    "To understand this we need to recall what it means to multiple two matrices together. \n",
    "\n",
    "We'll go through this in detail in an optional section below rather than getting bogged down in the details here, for now we just state that mat-mat multiplication is just a straightforward extension of matrix-vector multiplication applied to each column of the matrix on the right of the pair:\n",
    "\n",
    "\n",
    "$$C=AB \\qquad \\iff \\qquad c_{ij} = \\sum_{k=1}^n a_{ik} b_{kj}$$\n",
    "\n",
    "</div>"
   ]
  },
  {
   "cell_type": "markdown",
   "metadata": {},
   "source": [
    "Such a matrix $B$, if its exists (more on this later), is called the inverse of $A$ and denoted $A^{-1}$. Note that  $(A^{-1})^{-1} = A$.\n",
    "\n",
    "The action of taking the inverse can be written $\\text{inv}(A)$, so for example $\\text{inv}(\\text{inv}(A)) = A$.\n",
    "\n",
    "Note that since we established above that $AB \\ne BA$ in general, then for non-square matrices it is certainly possible to find a matrix $B$ such that $AB=I$ but $BA\\ne I$. In this case we say that $B$ is a *right inverse*. Similar definition for *left inverse*. \n",
    "\n",
    "For square matrices a left inverse is also the right inverse and vice-versa."
   ]
  },
  {
   "cell_type": "markdown",
   "metadata": {},
   "source": [
    "## Properties of the matrix inverse\n",
    "\n",
    "If a matrix has an inverse, then that inverse is unique.\n",
    "\n",
    "How could you prove a result like this:\n",
    "\n",
    "consider a matrix $A$ and suppose $B$ and $C$ are both inverses, i.e.\n",
    "\n",
    "$$AB = BA = I\\quad\\text{and}\\quad AC = CA = I$$\n",
    "\n",
    "then it must follow that\n",
    "\n",
    "$$B = BI = B(AC) = (BA)C = IC = C$$\n",
    "\n",
    "Hence the inverse is unique."
   ]
  },
  {
   "cell_type": "markdown",
   "metadata": {},
   "source": [
    "The following properties of inverses hold\n",
    "\n",
    "For invertible matrices $A$ and $B$ (of the same square size) and scalar $\\alpha\\ne 0$\n",
    "\n",
    "\n",
    "1. $\\alpha A$ is invertible and $(\\alpha A)^{-1} = \\alpha^{-1} A^{-1}$\n",
    "\n",
    "\n",
    "2. $AB$ is invertible and $(AB)^{-1} = B^{-1}A^{-1}$\n",
    "\n",
    "\n",
    "3. $A^{-1}$ is invertible and $(A^{-1})^{-1}=A$\n",
    "\n",
    "\n",
    "4. $A^{T}$ is invertible and $(A^{T})^{-1}=(A^{-1})^T$\n",
    "\n",
    "\n",
    "As an exercise you can check these through some example using NumPy."
   ]
  },
  {
   "cell_type": "markdown",
   "metadata": {},
   "source": [
    "## Using the inverse matrix to solve a linear system\n",
    "\n",
    "**IF** we have the inverse matrix, then to solve the matrix equation \n",
    "\n",
    "$$ A\\boldsymbol{x}=\\boldsymbol{b} $$\n",
    "\n",
    "we can simply multiply both sides by the inverse of the matrix $A$:\n",
    "\n",
    "\\begin{align}\n",
    "A\\boldsymbol{x} & = \\boldsymbol{b}\\\\\n",
    "\\implies A^{-1}A\\boldsymbol{x} & = A^{-1}\\boldsymbol{b}\\\\\n",
    "\\implies I\\boldsymbol{x} & = A^{-1}\\boldsymbol{b}\\\\\n",
    "\\implies \\boldsymbol{x} & = A^{-1}\\boldsymbol{b}\n",
    "\\end{align}\n",
    "\n",
    "so we can find the solution $\\boldsymbol{x}$ by multiplying the inverse of $A$ with the RHS vector $\\boldsymbol{b}$."
   ]
  },
  {
   "cell_type": "markdown",
   "metadata": {},
   "source": [
    "### The inverse for our simple example\n",
    "\n",
    "Note that for our $2\\times 2$ case, when we went through the steps of substituting one equation into another to solve the system, this actually pretty much gave us enough information to write down the inverse matrix.\n",
    "\n",
    "Let's check that we do indeed have an inverse:"
   ]
  },
  {
   "cell_type": "code",
   "execution_count": 25,
   "metadata": {},
   "outputs": [
    {
     "name": "stdout",
     "output_type": "stream",
     "text": [
      "[[ 1.000000e+00 -5.551115e-17]\n",
      " [ 0.000000e+00  1.000000e+00]]\n",
      "[[1. 0.]\n",
      " [0. 1.]]\n"
     ]
    }
   ],
   "source": [
    "# our matrix\n",
    "A = np.array([[2, 3], [1, -4]])\n",
    "\n",
    "# I claim this is the inverse to that matrix\n",
    "B = (-1./11)*np.array([[-4, -3], [-1, 2]])\n",
    "\n",
    "# let's check\n",
    "print(A@B)\n",
    "print(B@A)"
   ]
  },
  {
   "cell_type": "markdown",
   "metadata": {},
   "source": [
    "<div class=\"optional\">\n",
    "    \n",
    "### Row operations and a glimpse at Gaussian elimination [\\* - please read through this in your own time]\n",
    "\n",
    "What did we do when we used substitution to solve our problem\n",
    "\n",
    "$$\n",
    "\\begin{align*}\n",
    "  2x + 3y &= 7 \\\\[5pt]\n",
    "   x - 4y &= 3 \n",
    "\\end{align*}\n",
    "   \\quad \\iff \\quad\n",
    "  \\begin{pmatrix}\n",
    "    2 & 3 \\\\\n",
    "    1 & -4  \n",
    "  \\end{pmatrix}\n",
    "  \\begin{pmatrix}\n",
    "    x \\\\\n",
    "    y \n",
    "  \\end{pmatrix}=\n",
    "  \\begin{pmatrix}\n",
    "    7 \\\\\n",
    "    3 \n",
    "  \\end{pmatrix}   \n",
    "$$\n",
    "\n",
    "We rearranged the second equation to yield $x=3+4y$ and substituted it into the first to obtain an equation that contained $y$'s only. \n",
    "\n",
    "We can achieve exactly the same thing if we subtract twice the second equation from the first: the $x$'s cancel, we get $3-2\\times (-4)$ (i.e. 11) $y$'s on the LHS, and on the RHS we get $7-2\\times 3$, i.e. 1.  \n",
    "\n",
    "Hence, we have $11y=1$ and so $y=1/11$.\n",
    "\n",
    "We effectively performed what are called **row operations** on the matrix and the RHS vector. Recalling that each row of the matrix encodes an algebraic equation, we can multiply each row by a non-zero scalar, add multiples of one row to another, and swap rows, without changing the overall information that the rows (or the corresponding equations) are telling us (as long as we remember that we must apply the same operation to the RHS value, otherwise the equation would change!).\n",
    "\n",
    "\n",
    "<br>\n",
    "\n",
    "**Row operations** are thus defined as\n",
    "\n",
    "\n",
    "1. multiply each row by a non-zero scalar\n",
    "\n",
    "\n",
    "2. add multiples of one row to another \n",
    "\n",
    "\n",
    "3. swap rows\n",
    "\n",
    "\n",
    "<br>\n",
    "<br>\n",
    "\n",
    "For the example above, multiplying a row by a scalar or swapping rows would not change the two lines in the plot and so not change the solution.  Adding a multiple of one row to another and replacing one row with this updated row **will** change one of the lines, **but** the intersection point won't change - convince yourself of this with some additional plotting.\n",
    "    \n",
    "<br>\n",
    "    \n",
    "    \n",
    "We can perform these operations in a way that is easy to keep track of by forming an **augmented matrix** (we add the RHS vector as an additional column). \n",
    "\n",
    "In this demonstration where we also want to form the inverse matrix let's additionally add columns corresponding to the inverse matrix. \n",
    "\n",
    "The notation above the arrows should hopefully be clear, it's encoding the operations we are performing on the rows, with '(1)' and '(2)' identifying the first and second row, respectively. '$(1)\\leftarrow (1)-2(2)$' means replace the first row with the first row minus twice the second row - the operation we performed above.\n",
    "\n",
    "When we perform these operations on the rows of the matrix $A$, we also apply them to the additional columns in our augmented matrix:\n",
    "\n",
    "\\begin{align*}\n",
    "[A \\, | \\, \\boldsymbol{b} \\, | \\, I] = \n",
    "&\\left[\n",
    "  \\begin{array}{cc|c|cc}\n",
    "    2 & 3 & 7 & 1 & 0 \\\\\n",
    "    1 & -4 & 3 & 0 & 1  \n",
    "  \\end{array}\n",
    "\\right]\n",
    "\\xrightarrow{(1)\\leftarrow (1)-2(2)}\n",
    "\\left[\n",
    "  \\begin{array}{cc|c|cc}\n",
    "    0 & 11 & 1 & 1 & -2 \\\\\n",
    "    1 & -4 & 3 & 0 & 1  \n",
    "  \\end{array}\n",
    "\\right]\n",
    "\\xrightarrow{(1)\\leftarrow (1)/11}\n",
    "\\left[\n",
    "  \\begin{array}{cc|c|cc}\n",
    "    0 & 1 & 1/11 & 1/11 & -2/11 \\\\\n",
    "    1 & -4 & 3 & 0 & 1  \n",
    "  \\end{array}\n",
    "\\right]\\\\\n",
    "&\\xrightarrow{(2)\\leftarrow (2)+4(1)}\n",
    "\\left[\n",
    "  \\begin{array}{cc|c|cc}\n",
    "    0 & 1 & 1/11 & 1/11 & -2/11 \\\\\n",
    "    1 & 0 & 3+4/11 & 4/11 & 1-8/11  \n",
    "  \\end{array}\n",
    "\\right]\n",
    "\\xrightarrow{(1)\\leftrightarrow (2)}\n",
    "\\left[\n",
    "  \\begin{array}{cc|c|cc}\n",
    "    1 & 0 & 3+4/11 & 4/11 & 1-8/11  \\\\\n",
    "    0 & 1 & 1/11 & 1/11 & -2/11 \n",
    "  \\end{array}\n",
    "\\right]\n",
    "\\end{align*}\n",
    "\n",
    "Now the fact that we have transformed $A$ into $I$ via these so-called *row operations* means that what was originally in the $\\boldsymbol{b}$ position is now the solution $\\boldsymbol{x}$, and what was originally $I$ is now $A^{-1}$:\n",
    "\n",
    "$$\\boldsymbol{x} =\n",
    "\\begin{pmatrix}\n",
    "3+4/11\\\\\n",
    "1/11\n",
    "\\end{pmatrix}=\n",
    "\\begin{pmatrix}\n",
    "37/11\\\\\n",
    "1/11\n",
    "\\end{pmatrix},$$\n",
    "\n",
    "so this approach has indeed given us the correct solution to our original problem - it's vital that we also performed the same row operations on the RHS vector, hence considered the augmented matrix rather than the $A$ matrix alone.\n",
    "\n",
    "\n",
    "<br>\n",
    "<br>\n",
    "\n",
    "In addition we have\n",
    "\n",
    "$$A^{-1} = \n",
    "\\begin{pmatrix}\n",
    "    4/11 & 1-8/11  \\\\\n",
    "    1/11 & -2/11 \n",
    "\\end{pmatrix}= \n",
    "\\begin{pmatrix}\n",
    "    4/11 & 3/11  \\\\\n",
    "    1/11 & -2/11 \n",
    "\\end{pmatrix}= \\frac{-1}{11}\n",
    "\\begin{pmatrix}\n",
    "    -4 & -3  \\\\\n",
    "    -1 & 2 \n",
    "\\end{pmatrix}\n",
    "$$\n",
    "\n",
    "which can also be checked for correctness.\n",
    "\n",
    "\n",
    "<br>\n",
    "<br>\n",
    "\n",
    "A homework exercise asks you to repeat these steps to derive the inverse of the completely general $2\\times 2$ matrix\n",
    "\n",
    "$$A = \\begin{pmatrix}\n",
    "a & b\\\\\n",
    "c & d\n",
    "\\end{pmatrix}$$\n",
    "\n",
    "\n",
    "<br>\n",
    "<br>\n",
    "\n",
    "These ideas (i.e. use of row operation to simplify the form of the linear system without changing its solution) underlies the Gaussian elimination and the LU decomposition algorithms.\n",
    "\n",
    "</div>"
   ]
  },
  {
   "cell_type": "markdown",
   "metadata": {},
   "source": [
    "### Solving our simple example using the inverse matrix\n",
    "\n",
    "So we have enough information now to solve our problem\n",
    "\n",
    "$$\n",
    "\\begin{align*}\n",
    "  2x + 3y &= 7 \\\\[5pt]\n",
    "   x - 4y &= 3 \n",
    "\\end{align*}\n",
    "   \\quad \\iff \\quad\n",
    "  \\begin{pmatrix}\n",
    "    2 & 3 \\\\\n",
    "    1 & -4  \n",
    "  \\end{pmatrix}\n",
    "  \\begin{pmatrix}\n",
    "    x \\\\\n",
    "    y \n",
    "  \\end{pmatrix}=\n",
    "  \\begin{pmatrix}\n",
    "    7 \\\\\n",
    "    3 \n",
    "  \\end{pmatrix}   \n",
    "$$\n",
    "\n",
    "\n",
    "Recalling the solution we calculated through substitution: $x=37/11$ and $y=1/11$, we can use to check our numerical solution.\n",
    "\n",
    "Let's calculate \n",
    "\n",
    "$$\\boldsymbol{x} = A^{-1}\\boldsymbol{b}$$"
   ]
  },
  {
   "cell_type": "code",
   "execution_count": 26,
   "metadata": {},
   "outputs": [
    {
     "name": "stdout",
     "output_type": "stream",
     "text": [
      "x =  [3.363636 0.090909]\n",
      "\n",
      "Our computed solution solves the linear system (Ax == b):  True\n",
      "\n",
      "and agrees with the exact solution we computed by hand:  True\n"
     ]
    }
   ],
   "source": [
    "# form the LHS matrix\n",
    "A = np.array([[2., 3.], [1., -4.]])\n",
    "\n",
    "# form the RHS vector\n",
    "b = np.array([7., 3.])\n",
    "\n",
    "# the inverse matrix from above:\n",
    "invA = (-1./11)*np.array([[-4, -3], [-1, 2]])\n",
    "\n",
    "# compute and print our solution\n",
    "x = invA@b\n",
    "print('x = ',x)\n",
    "\n",
    "# Check our two numerical solutions using the numpy allclose function\n",
    "print('\\nOur computed solution solves the linear system (Ax == b): ', \n",
    "      np.allclose(A@x, b))\n",
    "\n",
    "# and check further that this agrees with the solution we computed by hand\n",
    "print('\\nand agrees with the exact solution we computed by hand: ', \n",
    "      np.allclose(x, [37./11., 1./11.]))"
   ]
  },
  {
   "cell_type": "markdown",
   "metadata": {},
   "source": [
    "<div class=\"optional\">\n",
    "\n",
    "## Aside: constructing some useful simple matrices in NumPy [*]\n",
    "\n",
    "Now is perhaps a good opportunity to review some more useful NumPy commands to construct certain common matrices.\n",
    "\n",
    "[NB. Everything below can be extended to higher rank tensors]\n",
    "\n",
    "</div>"
   ]
  },
  {
   "cell_type": "markdown",
   "metadata": {},
   "source": [
    "<div class=\"optional\">\n",
    "    \n",
    "### The identity matrix\n",
    "\n",
    "The identity matrix $I$ (sometimes to indicate dimension we would write $I_n$ or even $I(n)$) is of size $n\\times n$ and is zero everywhere except for the main diagonal where all entries are 1 (sometimes you will see people use the word unity).\n",
    "\n",
    "</div>"
   ]
  },
  {
   "cell_type": "code",
   "execution_count": 27,
   "metadata": {
    "scrolled": true
   },
   "outputs": [
    {
     "name": "stdout",
     "output_type": "stream",
     "text": [
      "[[1. 0. 0.]\n",
      " [0. 1. 0.]\n",
      " [0. 0. 1.]]\n"
     ]
    }
   ],
   "source": [
    "# how to initialise the identity matrix, I or Id\n",
    "print(np.eye(3))"
   ]
  },
  {
   "cell_type": "markdown",
   "metadata": {},
   "source": [
    "<div class=\"optional\">\n",
    "\n",
    "### Diagonal matrices\n",
    "\n",
    "Diagonal matrices are very useful and occur a lot.\n",
    "\n",
    "The command `numpy.diag` can be used to both extract diagonals from matrices, and to place vectors in place on the diagonals of matrices.\n",
    "\n",
    "For example:\n",
    "\n",
    "</div>"
   ]
  },
  {
   "cell_type": "code",
   "execution_count": 28,
   "metadata": {},
   "outputs": [
    {
     "name": "stdout",
     "output_type": "stream",
     "text": [
      "[1. 1. 1.]\n",
      "\n",
      " [1. 1. 1.]\n",
      "\n",
      " [0. 0.]\n"
     ]
    }
   ],
   "source": [
    "# extract a diagonal of given a matrix (2D array)\n",
    "print(np.diag(np.eye(3)))\n",
    "# the default is to extract the leading diagonal (k=0)\n",
    "print('\\n',np.diag(np.eye(3),k=0))\n",
    "# can also extract off diagonals with positive/negative integer k's:\n",
    "print('\\n',np.diag(np.eye(3),k=1))"
   ]
  },
  {
   "cell_type": "code",
   "execution_count": 29,
   "metadata": {},
   "outputs": [
    {
     "name": "stdout",
     "output_type": "stream",
     "text": [
      "[[1 0 0]\n",
      " [0 2 0]\n",
      " [0 0 3]]\n",
      "\n",
      " [[0 0 0 0]\n",
      " [1 0 0 0]\n",
      " [0 2 0 0]\n",
      " [0 0 3 0]]\n"
     ]
    }
   ],
   "source": [
    "# given a 1D array diag constructs a 2D array:\n",
    "print(np.diag(np.array([1,2,3])))\n",
    "# again default is to place on the leading diagonal, but we can specify other diagonals:\n",
    "print('\\n',np.diag(np.array([1,2,3]), k=-1))"
   ]
  },
  {
   "cell_type": "markdown",
   "metadata": {},
   "source": [
    "<div class=\"optional\">\n",
    "\n",
    "### Matrices of zeros or ones, empty matrices\n",
    "\n",
    "The matrix $\\boldsymbol{0}$ made up of zero entries is termed the zero matrix or the null matrix.\n",
    "\n",
    "Mathematically, we will see it's use when we talk about eigenvalues next lecture, as well as null spaces.\n",
    "\n",
    "Computationally, we will often initialise an array or matrix to zero if we subsequently perform operations which add entries to it.\n",
    "\n",
    "</div>"
   ]
  },
  {
   "cell_type": "code",
   "execution_count": 30,
   "metadata": {},
   "outputs": [
    {
     "name": "stdout",
     "output_type": "stream",
     "text": [
      "[0. 0. 0.]\n",
      "\n",
      " [0. 0.]\n",
      "\n",
      " [[0 0]\n",
      " [0 0]]\n"
     ]
    }
   ],
   "source": [
    "# how to initialise a vector of zeros \n",
    "print(np.zeros(3))\n",
    "# vector of zeros of length the same as number of rows in A\n",
    "A = np.array([[2, 3], [1, -4]])\n",
    "print('\\n', np.zeros(np.shape(A)[0]))\n",
    "# matrix of zeros of length the same shape as A\n",
    "print('\\n', np.zeros_like(A))"
   ]
  },
  {
   "cell_type": "code",
   "execution_count": 31,
   "metadata": {},
   "outputs": [
    {
     "name": "stdout",
     "output_type": "stream",
     "text": [
      "[[0. 0. 0.]\n",
      " [0. 0. 0.]\n",
      " [0. 0. 0.]]\n"
     ]
    }
   ],
   "source": [
    "# how to initialise a matrix of zeros\n",
    "print(np.zeros((3,3)))\n",
    "\n",
    "# also\n",
    "\n",
    "#print('\\n', np.zeros(np.shape(A)))\n",
    "#print('\\n', np.zeros_like(A))"
   ]
  },
  {
   "cell_type": "code",
   "execution_count": 32,
   "metadata": {},
   "outputs": [
    {
     "name": "stdout",
     "output_type": "stream",
     "text": [
      "[[[0. 0. 0.]\n",
      "  [0. 0. 0.]\n",
      "  [0. 0. 0.]]\n",
      "\n",
      " [[0. 0. 0.]\n",
      "  [0. 0. 0.]\n",
      "  [0. 0. 0.]]\n",
      "\n",
      " [[0. 0. 0.]\n",
      "  [0. 0. 0.]\n",
      "  [0. 0. 0.]]]\n",
      "27\n",
      "(3, 3, 3)\n"
     ]
    }
   ],
   "source": [
    "# how to initialise a 3rd-order tensor of zeros\n",
    "print(np.zeros((3,3,3)))\n",
    "\n",
    "print(np.size(np.zeros((3,3,3))))\n",
    "\n",
    "print(np.shape(np.zeros((3,3,3))))"
   ]
  },
  {
   "cell_type": "markdown",
   "metadata": {},
   "source": [
    "<div class=\"optional\">\n",
    "    \n",
    "Initialising an array or matrix to have all entries one (unity) is useful if we subsequently apply multiplicative operations on its entries.\n",
    "\n",
    "</div>"
   ]
  },
  {
   "cell_type": "code",
   "execution_count": 33,
   "metadata": {},
   "outputs": [
    {
     "name": "stdout",
     "output_type": "stream",
     "text": [
      "[1. 1. 1.]\n",
      "\n",
      " [[1. 1. 1.]\n",
      " [1. 1. 1.]\n",
      " [1. 1. 1.]]\n",
      "\n",
      " [[1 1]\n",
      " [1 1]]\n"
     ]
    }
   ],
   "source": [
    "# how to initialise a vector of ones \n",
    "print(np.ones(3))\n",
    "print('\\n',np.ones((3,3)))\n",
    "# A matrix of ones, the same size as A\n",
    "A = np.array([[2, 3], [1, -4]])\n",
    "print('\\n', np.ones_like(A))"
   ]
  },
  {
   "cell_type": "code",
   "execution_count": 34,
   "metadata": {},
   "outputs": [
    {
     "name": "stdout",
     "output_type": "stream",
     "text": [
      "\n",
      " [1. 1. 1.]\n"
     ]
    }
   ],
   "source": [
    "# if you don't care about initialise to zero you can use\n",
    "print('\\n', np.empty(3))\n",
    "# but the entries will be random\n",
    "\n",
    "# (they might appear as zeros but you can't guarantee this)\n",
    "# as you're not setting values on initialisation this will be\n",
    "# slightly faster - but not enough to really warrant use in this course."
   ]
  },
  {
   "cell_type": "markdown",
   "metadata": {},
   "source": [
    "# The determinant \n",
    "\n",
    "So for linear systems (and next lecture we will see also for eigenvalues), we need a method to determine whether a given matrix is invertible or not - the determinant of the matrix tells us this.\n",
    "\n",
    "The [*determinant*](https://en.wikipedia.org/wiki/Determinant) is a quantity of a square matrix which can be computed directly from its entries.\n",
    "\n",
    "It can be written as either $\\det(A)$ or $|A|$.\n",
    "\n",
    "Geometrically it gives the scaling of the volume (area in 2D) of a shape under the linear transformation represented by the matrix - proved at the end, and more on linear transformations next lecture. \n",
    "\n",
    "If the mapped volume has zero volume, how does this fact alone tell you that the matrix can't have an inverse?\n",
    "\n",
    "[since zero volume in the mapping implies that (at least) two distinct points are mapped to the same point - we therefore do not have a well-defined inverse]."
   ]
  },
  {
   "cell_type": "markdown",
   "metadata": {},
   "source": [
    "Consider the matrix\n",
    "\n",
    "$$\n",
    "\\left(\n",
    "  \\begin{array}{rr}\n",
    "    2 & 3 \\\\\n",
    "    4 & 6  \\\\\n",
    "  \\end{array}\n",
    "\\right),\n",
    "$$\n",
    "\n",
    "for a $2 \\times 2$ matrix we can compute the determinant in our heads (or with a calculator!) - we multiply the two main diagonal entries and subtract the multiple of the off-diagonal entries:\n",
    "\n",
    "$$\\det(A) = (2\\times 6) - (3\\times 4) = 0$$\n",
    "\n",
    "Let's check this using a SciPy function for computing determinants:"
   ]
  },
  {
   "cell_type": "code",
   "execution_count": 35,
   "metadata": {},
   "outputs": [
    {
     "name": "stdout",
     "output_type": "stream",
     "text": [
      "-6.661338147750939e-16\n",
      "True\n"
     ]
    }
   ],
   "source": [
    "A = np.array( [[2, 3], [4, 6] ] )\n",
    "print(sl.det(A))\n",
    "print(np.allclose(0,sl.det(A)))"
   ]
  },
  {
   "cell_type": "code",
   "execution_count": 36,
   "metadata": {},
   "outputs": [
    {
     "name": "stdout",
     "output_type": "stream",
     "text": [
      "-11.0\n"
     ]
    }
   ],
   "source": [
    "# and for our linear system example above:\n",
    "A = np.array([[2, 3], [1, -4]])\n",
    "print(sl.det(A))"
   ]
  },
  {
   "cell_type": "markdown",
   "metadata": {},
   "source": [
    "The former determinant is zero (to round off) and this means that the corresponding matrix does not have an inverse, \n",
    "\n",
    "the latter is safely non-zero and hence is why we were able to find the inverse without problem.\n",
    "\n",
    "We'll review the general formula for the determinant later.\n",
    "\n",
    "A homework exercise includes writing our own function to compute the determinant of a general matrix."
   ]
  },
  {
   "cell_type": "markdown",
   "metadata": {},
   "source": [
    "<div class=\"optional\">\n",
    "\n",
    "# Matrix-vector multiplication (again; code speed) [\\*]\n",
    "\n",
    "Let's go back to our matrix vector multiplication code to test our calculation above, and we will also think about speed!\n",
    "\n",
    "</div>"
   ]
  },
  {
   "cell_type": "code",
   "execution_count": 37,
   "metadata": {},
   "outputs": [],
   "source": [
    "# copied from above\n",
    "\n",
    "def mat_vec_product(A, x):\n",
    "    \"\"\" Return the matrix vector product Ax\n",
    "    \"\"\"\n",
    "    m, n = np.shape(A)\n",
    "    assert x.ndim == 1 # restrict to the case where x is 1D\n",
    "    assert n == len(x) # as 1D we can check the length of x is consistent with A\n",
    "    b = np.zeros(m) # and then initialise the appropriate length array for b\n",
    "    for i in range(m):\n",
    "        for j in range(n):\n",
    "            b[i] += A[i, j] * x[j]\n",
    "    return b"
   ]
  },
  {
   "cell_type": "markdown",
   "metadata": {},
   "source": [
    "<div class=\"optional\">\n",
    "\n",
    "## Testing our code \n",
    "\n",
    "Let's test our code by comparing it against our case from above.\n",
    "\n",
    "</div>"
   ]
  },
  {
   "cell_type": "code",
   "execution_count": 38,
   "metadata": {},
   "outputs": [
    {
     "name": "stdout",
     "output_type": "stream",
     "text": [
      "Ax=b (NumPy):  True\n",
      "Ax=b (mat_vec_product):  True\n"
     ]
    }
   ],
   "source": [
    "# our LHS matrix\n",
    "A = np.array([[2., 3.], [1., -4.]])\n",
    "# our RHS vector\n",
    "b = np.array([7., 3.])\n",
    "# the solution we calculated\n",
    "x = np.array([37./11., 1./11.])\n",
    "\n",
    "# first let's check that Ax = b using NumPy's matrix-vector multiplication\n",
    "print('Ax=b (NumPy): ',np.allclose(A@x, b))\n",
    "\n",
    "# and with our function\n",
    "print('Ax=b (mat_vec_product): ',np.allclose(mat_vec_product(A,x), b))\n"
   ]
  },
  {
   "cell_type": "markdown",
   "metadata": {},
   "source": [
    "<div class=\"optional\">\n",
    "\n",
    "## Checking the speed of our code!\n",
    "\n",
    "Let's check how efficient out code is compared to NumPy - as mentioned above `@` and `np.dot` are two in-built methods to perform matrix multiplication, let's consider both to see if there's any difference between them.\n",
    "\n",
    "</div>"
   ]
  },
  {
   "cell_type": "code",
   "execution_count": 39,
   "metadata": {},
   "outputs": [
    {
     "name": "stdout",
     "output_type": "stream",
     "text": [
      "1.82 µs ± 143 ns per loop (mean ± std. dev. of 7 runs, 1000000 loops each)\n",
      "1.05 µs ± 73.7 ns per loop (mean ± std. dev. of 7 runs, 1000000 loops each)\n",
      "7.43 µs ± 810 ns per loop (mean ± std. dev. of 7 runs, 100000 loops each)\n",
      "1.5961303999999928e-06 9.525401999999872e-07 6.459848999999735e-06 4.047193763115948\n"
     ]
    }
   ],
   "source": [
    "A = np.array([[2., 3.], [1., -4.]])\n",
    "x = np.array([37./11., 1./11.])\n",
    "\n",
    "time_at = %timeit -o b=A@x  \n",
    "time_dot = %timeit -o b=A.dot(x)\n",
    "time_ours = %timeit -o b=mat_vec_product(A, x)\n",
    "\n",
    "# if you wanted to control number of calls to reduce time use something like: %timeit -n 10 -r 3 -o b=A@x\n",
    "\n",
    "print(time_at.best, time_dot.best, time_ours.best, time_ours.best/time_at.best)"
   ]
  },
  {
   "cell_type": "markdown",
   "metadata": {},
   "source": [
    "<div class=\"optional\">\n",
    "\n",
    "So for our $2\\times 2$ example we're slower, but not disastrously.\n",
    "\n",
    "Let's try a larger example using some matrices made up of random entries.\n",
    "\n",
    "</div>"
   ]
  },
  {
   "cell_type": "code",
   "execution_count": 40,
   "metadata": {},
   "outputs": [
    {
     "name": "stdout",
     "output_type": "stream",
     "text": [
      "A @ x = mat_vec_product(A, x):   True\n",
      "652 µs ± 45.6 µs per loop (mean ± std. dev. of 3 runs, 10 loops each)\n",
      "652 µs ± 34.8 µs per loop (mean ± std. dev. of 3 runs, 10 loops each)\n",
      "1.91 s ± 51 ms per loop (mean ± std. dev. of 3 runs, 10 loops each)\n",
      "0.00061195999999768 0.0006116299999973762 1.8451922799999978 3015.2171383864847\n"
     ]
    }
   ],
   "source": [
    "# just some random numbers, doesn't need to be square for this demo\n",
    "m = 1234\n",
    "n = 1498\n",
    "# a random (dense) matrix and vector\n",
    "A = np.random.random((m,n))\n",
    "x = np.random.random((n))\n",
    "\n",
    "print('A @ x = mat_vec_product(A, x):  ', np.allclose(A@x , mat_vec_product(A, x)))\n",
    "\n",
    "time_at = %timeit -n 10 -r 3 -o b=A@x\n",
    "time_dot = %timeit -n 10 -r 3 -o b=A.dot(x)\n",
    "time_ours = %timeit -n 10 -r 3 -o b=mat_vec_product(A, x)\n",
    "\n",
    "print(time_at.best, time_dot.best, time_ours.best, time_ours.best/time_at.best)"
   ]
  },
  {
   "cell_type": "markdown",
   "metadata": {},
   "source": [
    "<div class=\"optional\">\n",
    "\n",
    "Oh dear. A lot slower!\n",
    "\n",
    "More on this in the exercises.\n",
    "\n",
    "</div>"
   ]
  },
  {
   "cell_type": "markdown",
   "metadata": {},
   "source": [
    "<div class=\"optional\">\n",
    "\n",
    "# Matrix-matrix product [*]\n",
    "\n",
    "To test whether or not we have a matrix that is an inverse we need to know how to perform matrix-matrix multiplication in order to check, and to make use of the inverse to solve the corresponding linear system.\n",
    "\n",
    "This is just a straightforward extension of matrix-vector multiplication applied to each column of the right-hand matrix.\n",
    "\n",
    "</div>"
   ]
  },
  {
   "cell_type": "markdown",
   "metadata": {},
   "source": [
    "<div class=\"optional\">\n",
    "\n",
    "The matrix-matrix product \n",
    "\n",
    "$$C=AB$$\n",
    "\n",
    "is defined by \n",
    "\n",
    "$$c_{ij} = \\sum_{k=1}^n a_{ik} b_{kj}$$\n",
    "\n",
    "If you're familiar with [Einstein summation convention](https://en.wikipedia.org/wiki/Einstein_notation) we can also write\n",
    "\n",
    "$$c_{ij} = a_{ik} b_{kj}$$\n",
    "\n",
    "we have contracted over the inner-most index - this is why the convention to say \"m by n\" makes sense.\n",
    "\n",
    "</div>"
   ]
  },
  {
   "cell_type": "markdown",
   "metadata": {},
   "source": [
    "<div class=\"optional\">\n",
    "\n",
    "## Conformable dimensions\n",
    "\n",
    "Note that matrix multiplication needs to be conducted between matrices which are [*conformable*](https://en.wikipedia.org/wiki/Conformable_matrix) for multiplication.\n",
    "\n",
    "For matrix-vector multiplication this meant we needed the same number of columns in the matrix as entires in the vector, and the result was a new vector with the same number of rows as the matrix, we could write this as:\n",
    "\n",
    "$$ (m \\times n) \\times (n \\times 1) = (m \\times 1) $$\n",
    "\n",
    "For the general matrix-matrix case this requirement can be illustrated as\n",
    "\n",
    "$$ (m \\times n) \\times (n \\times p) = (m \\times p) $$\n",
    "\n",
    "and so in the mathematics above, $1\\leq i \\leq m$ and $1\\leq j \\leq p$, while $1\\leq k \\leq n$.\n",
    "\n",
    "</div>"
   ]
  },
  {
   "cell_type": "markdown",
   "metadata": {},
   "source": [
    "<div class=\"optional\">\n",
    "\n",
    "## Properties\n",
    "\n",
    "Matrix-matrix multiplication satisfies the properties:\n",
    "\n",
    "\n",
    "1. $A(B + C) = AB + AC$ - this is termed the *distributive* property - matrix multiplication is distributive\n",
    "\n",
    "\n",
    "2. $AB \\neq BA$, in general - matrix multiplication is not commutative\n",
    "\n",
    "\n",
    "3. $A(BC) = (AB)C$,  assuming consistent matrix dimensions - matrix multiplication is associative\n",
    "\n",
    "\n",
    "4. $A (cB) = c AB$,  for scalars $\\alpha$ - you can pull scalar factors out\n",
    "\n",
    "</div>"
   ]
  },
  {
   "cell_type": "markdown",
   "metadata": {},
   "source": [
    "<div class=\"optional\">\n",
    "\n",
    "## Code\n",
    "\n",
    "We can code this up quite easily.\n",
    "\n",
    "</div>"
   ]
  },
  {
   "cell_type": "code",
   "execution_count": 44,
   "metadata": {},
   "outputs": [],
   "source": [
    "def mat_mat_product(A, B):\n",
    "    \"\"\" Return the matrix matrix product AB\n",
    "    \"\"\"\n",
    "    m, n1 = np.shape(A)\n",
    "    n2, p = np.shape(B)\n",
    "    assert n1==n2 \n",
    "    C = np.zeros((m, p))\n",
    "    for i in range(m):\n",
    "        for j in range(p):\n",
    "            for k in range(n1):\n",
    "                C[i, j] += A[i, k] * B[k, j]\n",
    "    return C"
   ]
  },
  {
   "cell_type": "markdown",
   "metadata": {},
   "source": [
    "<div class=\"optional\">\n",
    "\n",
    "### Testing our code\n",
    "\n",
    "</div>"
   ]
  },
  {
   "cell_type": "code",
   "execution_count": 45,
   "metadata": {},
   "outputs": [
    {
     "name": "stdout",
     "output_type": "stream",
     "text": [
      "our code agree with @: True\n",
      "A(B+C)==AB+AC:  True\n",
      "A(alpha B)==alpha AB:  True\n",
      "AB==BA:  False\n"
     ]
    }
   ],
   "source": [
    "# define some random matrices\n",
    "m = 10\n",
    "n = 10\n",
    "p = 10\n",
    "A = np.random.random((m, n))\n",
    "B = np.random.random((n, p))\n",
    "C = np.random.random((n, p))\n",
    "alpha = np.random.random((1,))\n",
    "print('our code agree with @:', np.allclose(mat_mat_product(A, B), A@B))\n",
    "print('A(B+C)==AB+AC: ',np.allclose(mat_mat_product(A, (B + C)), mat_mat_product(A, B) + mat_mat_product(A, C)))\n",
    "print('A(alpha B)==alpha AB: ', np.allclose(mat_mat_product(A, alpha * B), alpha*mat_mat_product(A, B)))\n",
    "print('AB==BA: ',np.allclose(mat_mat_product(A, B), mat_mat_product(B, A)))"
   ]
  },
  {
   "cell_type": "code",
   "execution_count": 46,
   "metadata": {},
   "outputs": [
    {
     "name": "stdout",
     "output_type": "stream",
     "text": [
      "our code agree with @: True\n",
      "A(B+C)==AB+AC:  True\n",
      "A(alpha B)==alpha AB:  True\n"
     ]
    },
    {
     "ename": "AssertionError",
     "evalue": "",
     "output_type": "error",
     "traceback": [
      "\u001b[1;31m---------------------------------------------------------------------------\u001b[0m",
      "\u001b[1;31mAssertionError\u001b[0m                            Traceback (most recent call last)",
      "\u001b[1;32m<ipython-input-46-76ca1b02a288>\u001b[0m in \u001b[0;36m<module>\u001b[1;34m\u001b[0m\n\u001b[0;32m     10\u001b[0m \u001b[0mprint\u001b[0m\u001b[1;33m(\u001b[0m\u001b[1;34m'A(B+C)==AB+AC: '\u001b[0m\u001b[1;33m,\u001b[0m\u001b[0mnp\u001b[0m\u001b[1;33m.\u001b[0m\u001b[0mallclose\u001b[0m\u001b[1;33m(\u001b[0m\u001b[0mmat_mat_product\u001b[0m\u001b[1;33m(\u001b[0m\u001b[0mA\u001b[0m\u001b[1;33m,\u001b[0m \u001b[1;33m(\u001b[0m\u001b[0mB\u001b[0m \u001b[1;33m+\u001b[0m \u001b[0mC\u001b[0m\u001b[1;33m)\u001b[0m\u001b[1;33m)\u001b[0m\u001b[1;33m,\u001b[0m \u001b[0mmat_mat_product\u001b[0m\u001b[1;33m(\u001b[0m\u001b[0mA\u001b[0m\u001b[1;33m,\u001b[0m \u001b[0mB\u001b[0m\u001b[1;33m)\u001b[0m \u001b[1;33m+\u001b[0m \u001b[0mmat_mat_product\u001b[0m\u001b[1;33m(\u001b[0m\u001b[0mA\u001b[0m\u001b[1;33m,\u001b[0m \u001b[0mC\u001b[0m\u001b[1;33m)\u001b[0m\u001b[1;33m)\u001b[0m\u001b[1;33m)\u001b[0m\u001b[1;33m\u001b[0m\u001b[1;33m\u001b[0m\u001b[0m\n\u001b[0;32m     11\u001b[0m \u001b[0mprint\u001b[0m\u001b[1;33m(\u001b[0m\u001b[1;34m'A(alpha B)==alpha AB: '\u001b[0m\u001b[1;33m,\u001b[0m \u001b[0mnp\u001b[0m\u001b[1;33m.\u001b[0m\u001b[0mallclose\u001b[0m\u001b[1;33m(\u001b[0m\u001b[0mmat_mat_product\u001b[0m\u001b[1;33m(\u001b[0m\u001b[0mA\u001b[0m\u001b[1;33m,\u001b[0m \u001b[0malpha\u001b[0m \u001b[1;33m*\u001b[0m \u001b[0mB\u001b[0m\u001b[1;33m)\u001b[0m\u001b[1;33m,\u001b[0m \u001b[0malpha\u001b[0m\u001b[1;33m*\u001b[0m\u001b[0mmat_mat_product\u001b[0m\u001b[1;33m(\u001b[0m\u001b[0mA\u001b[0m\u001b[1;33m,\u001b[0m \u001b[0mB\u001b[0m\u001b[1;33m)\u001b[0m\u001b[1;33m)\u001b[0m\u001b[1;33m)\u001b[0m\u001b[1;33m\u001b[0m\u001b[1;33m\u001b[0m\u001b[0m\n\u001b[1;32m---> 12\u001b[1;33m \u001b[0mprint\u001b[0m\u001b[1;33m(\u001b[0m\u001b[1;34m'AB==BA: '\u001b[0m\u001b[1;33m,\u001b[0m\u001b[0mnp\u001b[0m\u001b[1;33m.\u001b[0m\u001b[0mallclose\u001b[0m\u001b[1;33m(\u001b[0m\u001b[0mmat_mat_product\u001b[0m\u001b[1;33m(\u001b[0m\u001b[0mA\u001b[0m\u001b[1;33m,\u001b[0m \u001b[0mB\u001b[0m\u001b[1;33m)\u001b[0m\u001b[1;33m,\u001b[0m \u001b[0mmat_mat_product\u001b[0m\u001b[1;33m(\u001b[0m\u001b[0mB\u001b[0m\u001b[1;33m,\u001b[0m \u001b[0mA\u001b[0m\u001b[1;33m)\u001b[0m\u001b[1;33m)\u001b[0m\u001b[1;33m)\u001b[0m\u001b[1;33m\u001b[0m\u001b[1;33m\u001b[0m\u001b[0m\n\u001b[0m",
      "\u001b[1;32m<ipython-input-44-c15015a18a14>\u001b[0m in \u001b[0;36mmat_mat_product\u001b[1;34m(A, B)\u001b[0m\n\u001b[0;32m      4\u001b[0m     \u001b[0mm\u001b[0m\u001b[1;33m,\u001b[0m \u001b[0mn1\u001b[0m \u001b[1;33m=\u001b[0m \u001b[0mnp\u001b[0m\u001b[1;33m.\u001b[0m\u001b[0mshape\u001b[0m\u001b[1;33m(\u001b[0m\u001b[0mA\u001b[0m\u001b[1;33m)\u001b[0m\u001b[1;33m\u001b[0m\u001b[1;33m\u001b[0m\u001b[0m\n\u001b[0;32m      5\u001b[0m     \u001b[0mn2\u001b[0m\u001b[1;33m,\u001b[0m \u001b[0mp\u001b[0m \u001b[1;33m=\u001b[0m \u001b[0mnp\u001b[0m\u001b[1;33m.\u001b[0m\u001b[0mshape\u001b[0m\u001b[1;33m(\u001b[0m\u001b[0mB\u001b[0m\u001b[1;33m)\u001b[0m\u001b[1;33m\u001b[0m\u001b[1;33m\u001b[0m\u001b[0m\n\u001b[1;32m----> 6\u001b[1;33m     \u001b[1;32massert\u001b[0m \u001b[0mn1\u001b[0m\u001b[1;33m==\u001b[0m\u001b[0mn2\u001b[0m\u001b[1;33m\u001b[0m\u001b[1;33m\u001b[0m\u001b[0m\n\u001b[0m\u001b[0;32m      7\u001b[0m     \u001b[0mC\u001b[0m \u001b[1;33m=\u001b[0m \u001b[0mnp\u001b[0m\u001b[1;33m.\u001b[0m\u001b[0mzeros\u001b[0m\u001b[1;33m(\u001b[0m\u001b[1;33m(\u001b[0m\u001b[0mm\u001b[0m\u001b[1;33m,\u001b[0m \u001b[0mp\u001b[0m\u001b[1;33m)\u001b[0m\u001b[1;33m)\u001b[0m\u001b[1;33m\u001b[0m\u001b[1;33m\u001b[0m\u001b[0m\n\u001b[0;32m      8\u001b[0m     \u001b[1;32mfor\u001b[0m \u001b[0mi\u001b[0m \u001b[1;32min\u001b[0m \u001b[0mrange\u001b[0m\u001b[1;33m(\u001b[0m\u001b[0mm\u001b[0m\u001b[1;33m)\u001b[0m\u001b[1;33m:\u001b[0m\u001b[1;33m\u001b[0m\u001b[1;33m\u001b[0m\u001b[0m\n",
      "\u001b[1;31mAssertionError\u001b[0m: "
     ]
    }
   ],
   "source": [
    "# define some random matrices\n",
    "m = 10\n",
    "n = 9\n",
    "p = 8\n",
    "A = np.random.random((m, n))\n",
    "B = np.random.random((n, p))\n",
    "C = np.random.random((n, p))\n",
    "alpha = np.random.random((1,))\n",
    "print('our code agree with @:', np.allclose(mat_mat_product(A, B), A@B))\n",
    "print('A(B+C)==AB+AC: ',np.allclose(mat_mat_product(A, (B + C)), mat_mat_product(A, B) + mat_mat_product(A, C)))\n",
    "print('A(alpha B)==alpha AB: ', np.allclose(mat_mat_product(A, alpha * B), alpha*mat_mat_product(A, B)))\n",
    "print('AB==BA: ',np.allclose(mat_mat_product(A, B), mat_mat_product(B, A)))"
   ]
  },
  {
   "cell_type": "markdown",
   "metadata": {},
   "source": [
    "<div class=\"optional\">\n",
    "\n",
    "Of course $AB=BA$ certainly can't be true if $A$ and $B$ are not square matrices!\n",
    "\n",
    "When they are square only certain matrices have this property. Those that do are said to [commute](https://en.wikipedia.org/wiki/Commuting_matrices).\n",
    "\n",
    "</div>"
   ]
  },
  {
   "cell_type": "code",
   "execution_count": 47,
   "metadata": {},
   "outputs": [
    {
     "name": "stdout",
     "output_type": "stream",
     "text": [
      "[[1. 0.]\n",
      " [0. 1.]]\n",
      "[[1. 0.]\n",
      " [0. 1.]]\n"
     ]
    }
   ],
   "source": [
    "# For our linear system case from above, actually in solving the system we basically did enough work\n",
    "# to figure out what the inverse matrix is:\n",
    "A = np.array([[2, 3], [1, -4]])\n",
    "B = (-1./11)*np.array([[-4, -3], [-1, 2]])\n",
    "print(mat_mat_product(A,B))\n",
    "print(mat_mat_product(B,A))"
   ]
  },
  {
   "cell_type": "code",
   "execution_count": 48,
   "metadata": {},
   "outputs": [
    {
     "name": "stdout",
     "output_type": "stream",
     "text": [
      "[[1.119309 0.405095 0.657926]\n",
      " [0.768982 0.428654 0.368874]\n",
      " [1.164489 0.814974 0.260394]]\n",
      "[[0.958546 0.800673 0.773548]\n",
      " [0.718728 0.59324  0.787648]\n",
      " [0.520303 0.614805 0.256572]]\n",
      "A@B==B@A : False\n"
     ]
    }
   ],
   "source": [
    "# define some random matrices\n",
    "n = 3\n",
    "A = np.random.random((n, n))\n",
    "B = np.random.random((n, n))\n",
    "print(A@B)\n",
    "print(B@A)\n",
    "print(\"A@B==B@A :\",np.allclose(A@B,B@A))"
   ]
  },
  {
   "cell_type": "markdown",
   "metadata": {},
   "source": [
    "# Some linear algebra theory"
   ]
  },
  {
   "cell_type": "markdown",
   "metadata": {},
   "source": [
    "## The determinant (again)\n",
    "\n",
    "Let's return to the [*determinant*](https://en.wikipedia.org/wiki/Determinant). \n",
    "\n",
    "As said earlier, geometrically it gives the scaling of the volume of a shape under the linear transformation represented by the matrix,\n",
    "\n",
    "and it tells us whether or not an inverse matrix exits."
   ]
  },
  {
   "cell_type": "markdown",
   "metadata": {},
   "source": [
    "### Properties\n",
    "\n",
    "1. For square, equal size matrices $|AB| = |A|\\,|B|$\n",
    "\n",
    "\n",
    "2. $|A^T| = |A|$\n",
    "\n",
    "\n",
    "3. $|\\alpha A| = \\alpha^n |A|$, where $n$ is the dimension of the square matrix $A$\n",
    "\n",
    "\n",
    "4. If any row (or column) is made up of zero entries only, then the determinant of that matrix is zero\n",
    "\n",
    "\n",
    "5. [NB. Eigenvalues introduced next lecture] The determinant is equal to the product of the eigenvalues of the matrix (where we need to multiply multiple times if an eigenvalue has an algebraic multiplicity greater than one) - so a determinant of zero is equivalent to having at least one zero eigenvalue!\n",
    "\n",
    "\n",
    "6. For an upper or lower triangular matrix, the determinant is equal to the product of the main diagonal entries (as the eigenvalues in this case are the diagonal entries!)\n",
    "\n",
    "\n",
    "<br>\n",
    "\n",
    "Exercise: you can check that all of these seem to be true through considering some concrete examples."
   ]
  },
  {
   "cell_type": "markdown",
   "metadata": {},
   "source": [
    "<div class=\"optional\">\n",
    "\n",
    "### Full definition\n",
    "\n",
    "The general formula for computing the determinant of a square matrix can be built up incrementally (or recursively) based on matrix size as follows:\n",
    "\n",
    "\n",
    "1. For a $1 \\times 1$ matrix $A = a_{11}$ the determinant is defined simply as $|A| = a_{11}$\n",
    "\n",
    "<br>\n",
    "\n",
    "2. For a $2 \\times 2$ matrix \n",
    "\n",
    "$$A = \n",
    "\\begin{pmatrix}\n",
    "    a_{11} & a_{12}\\\\\n",
    "    a_{21} & a_{22}\n",
    "\\end{pmatrix}\n",
    "$$\n",
    "\n",
    "the determinant is defined as $|A| = a_{11}a_{22} - a_{12}a_{21}$\n",
    "\n",
    "where it helps for the following steps if you interpret these 4 scalars as the determinants of 4 $1\\times 1$ matrices.\n",
    "    \n",
    "</div>"
   ]
  },
  {
   "cell_type": "code",
   "execution_count": 49,
   "metadata": {},
   "outputs": [
    {
     "name": "stdout",
     "output_type": "stream",
     "text": [
      "det(A) =  -6.661338147750939e-16\n",
      "\n",
      "Marix A is singular:  True\n"
     ]
    }
   ],
   "source": [
    "# Let's check our maths!\n",
    "A = np.array([[2., 3.], [4., 6.]])\n",
    "print('det(A) = ', sl.det(A))\n",
    "print('\\nMarix A is singular: ', np.isclose(sl.det(A), 0.))"
   ]
  },
  {
   "cell_type": "markdown",
   "metadata": {},
   "source": [
    "<div class=\"optional\">\n",
    "\n",
    "3. For a $3 \\times 3$ matrix \n",
    "\n",
    "$$A = \n",
    "\\begin{pmatrix}\n",
    "    a_{11} & a_{12} & a_{13}\\\\\n",
    "    a_{21} & a_{22} & a_{23}\\\\\n",
    "    a_{31} & a_{32} & a_{33}\\\\\n",
    "\\end{pmatrix}\n",
    "$$\n",
    "\n",
    "the determinant can be computed as\n",
    "\n",
    "\n",
    "$$ |A| = \n",
    "a_{11}\n",
    "\\begin{vmatrix}\n",
    "    a_{22} & a_{23}\\\\\n",
    "    a_{32} & a_{33}\n",
    "\\end{vmatrix}\n",
    "- a_{12}\n",
    "\\begin{vmatrix}\n",
    "    a_{21} & a_{23}\\\\\n",
    "    a_{31} & a_{33}\n",
    "\\end{vmatrix}\n",
    "+ a_{13}\n",
    "\\begin{vmatrix}\n",
    "    a_{21} & a_{22}\\\\\n",
    "    a_{31} & a_{32}\n",
    "\\end{vmatrix}\n",
    "$$\n",
    "\n",
    "In this expression, the first term includes\n",
    "$$\n",
    "\\begin{vmatrix}\n",
    "    a_{22} & a_{23}\\\\\n",
    "    a_{32} & a_{33}\n",
    "\\end{vmatrix}\n",
    "$$ \n",
    "\n",
    "which is the determinant of the $2\\times 2$ matrix you get from $A$ if you omit the row and column in which the multiplier in front of this contribution (i.e. the first entry of the first row $a_{11}$) lies. \n",
    "\n",
    "The second term has a similar $2\\times 2$ determinant that comes from omitting the row and column in which the multiplier $a_{12}$ lies.  Note that we have a minus sign in front of this term.\n",
    "\n",
    "The third term is analogous, but now with a plus sign again. \n",
    "\n",
    "This is what is called the *(cofactor) expansion of the determinant from the first row*.  We get the same answer (and hence alternative computation methods that may involve less work if there are an excess of zeros on certain rows or columns!) but expanding using any row, or indeed any column.\n",
    "\n",
    "We just need to remember that the signs (pluses or minuses) in front of every term follow a chess-board pattern:\n",
    "\n",
    "$$\n",
    "\\begin{pmatrix}\n",
    "    + & - & + & \\cdots \\\\\n",
    "    - & + & - & \\cdots \\\\\n",
    "    + & - & + & \\cdots \\\\\n",
    "    \\vdots & \\vdots & \\vdots  & \\ddots\n",
    "\\end{pmatrix}\n",
    "$$\n",
    "\n",
    "We define the appropriately signed $2\\times 2$ determinant the [*cofactor*](https://en.wikipedia.org/wiki/Minor_(linear_algebra)) of the multiplier $a_{ij}$, and denote it by $C_{ij}$, e.g.\n",
    "\n",
    "$$C_{11} = \n",
    "\\begin{vmatrix}\n",
    "    a_{22} & a_{23}\\\\\n",
    "    a_{32} & a_{33}\n",
    "\\end{vmatrix}, \n",
    "\\quad\n",
    "C_{12} = -\n",
    "\\begin{vmatrix}\n",
    "    a_{21} & a_{23}\\\\\n",
    "    a_{31} & a_{33}\n",
    "\\end{vmatrix}\n",
    "$$\n",
    "\n",
    "[If you drop the sign and just keep the determinant, the quantity is called the [*minor*](https://en.wikipedia.org/wiki/Minor_(linear_algebra)#First_minors) sometimes denoted $M_{ij}$.]\n",
    "\n",
    "\n",
    "We can thus define the determinant in terms of an [expansion of cofactors](https://en.wikipedia.org/wiki/Minor_(linear_algebra)#Cofactor_expansion_of_the_determinant):\n",
    "\n",
    "$$|A| = a_{11} C_{11} + a_{12} C_{12} + a_{13} C_{13}$$ \n",
    "\n",
    "with alternative definitions of the determinant given by \n",
    "\n",
    "$$|A| = a_{31} C_{31} + a_{32} C_{32} + a_{33} C_{33}$$ \n",
    "\n",
    "or an example of expanding over a column\n",
    "\n",
    "$$|A| = a_{12} C_{12} + a_{22} C_{22} + a_{32} C_{32}$$ \n",
    "\n",
    "etc.\n",
    "\n",
    "</div>"
   ]
  },
  {
   "cell_type": "code",
   "execution_count": 50,
   "metadata": {},
   "outputs": [
    {
     "name": "stdout",
     "output_type": "stream",
     "text": [
      "A = \n",
      "[[0 1 0]\n",
      " [1 2 3]\n",
      " [4 5 6]]\n"
     ]
    }
   ],
   "source": [
    "# can you do this one in your head?\n",
    "A = np.array([[0, 1, 0], [1, 2, 3], [4, 5, 6]])\n",
    "print('A = ')\n",
    "print(A)"
   ]
  },
  {
   "cell_type": "code",
   "execution_count": 51,
   "metadata": {},
   "outputs": [
    {
     "name": "stdout",
     "output_type": "stream",
     "text": [
      "det(A) =  6.0\n"
     ]
    }
   ],
   "source": [
    "print('det(A) = ', sl.det(A))"
   ]
  },
  {
   "cell_type": "markdown",
   "metadata": {},
   "source": [
    "<div class=\"optional\">\n",
    "\n",
    "4. For an $n \\times n$ matrix \n",
    "\n",
    "**This gives us a general algorithm for computing the determinant of an arbitrary sized square matrix in terms of determinants of smaller matrices, each of which can themselves be computed in terms of determinants of even smaller matrices.** \n",
    "\n",
    "\n",
    "We can perform this expansion recursively, down to our above expression for the\n",
    "determinant of a $2\\times 2$ matrix, or indeed a $1\\times 1$ - note that the above general expression is consistent with our expression for the $2\\times 2$ case we wrote down explicitly above.\n",
    "\n",
    "\n",
    "The matrix of cofactors is the same size as $A$ and is called the *cofactor matrix*:\n",
    "\n",
    "$$C = \n",
    "\\begin{pmatrix}\n",
    "    C_{11} & C_{12} & \\cdots\\\\\n",
    "    C_{21} & C_{22} & \\cdots\\\\\n",
    "    \\vdots & \\vdots & \\ddots\\\\\n",
    "\\end{pmatrix}\n",
    "$$ \n",
    "\n",
    "and its transpose we call the adjugate or [*adjugate matrix*](https://en.wikipedia.org/wiki/Adjugate_matrix):\n",
    "\n",
    "$$\\text{adj}(A) = C^T$$\n",
    "\n",
    "\n",
    "<br>\n",
    "<br>\n",
    "    \n",
    "A **homework exercise** includes writing our own function to compute the determinant of a general matrix using the above recursive ideas.\n",
    "\n",
    "</div>"
   ]
  },
  {
   "cell_type": "markdown",
   "metadata": {},
   "source": [
    "## The inverse matrix\n",
    "\n",
    "The existence of an inverse to a matrix is equivalent to whether or not that matrix's determinant is zero or not.\n",
    "\n",
    "If the determinant is non-zero then it does have an inverse.\n",
    "\n",
    "As a $1\\times 1$ matrix is a scalar, defining its inverse is trivial."
   ]
  },
  {
   "cell_type": "markdown",
   "metadata": {},
   "source": [
    "### $2\\times 2$ case\n",
    "\n",
    "In the $2\\times 2$ case we can write down a simple formula for the inverse:\n",
    "\n",
    "For a matrix $A$ with entries\n",
    "\n",
    "$$A = \n",
    "\\begin{pmatrix}\n",
    "    a & b\\\\\n",
    "    c & d\n",
    "\\end{pmatrix}$$\n",
    "\n",
    "if $|A|\\ne 0$, i.e. $ad-bc\\ne 0$, then\n",
    "\n",
    "$$A^{-1} = \\frac{1}{|A|}\n",
    "\\begin{pmatrix}\n",
    "    d & -b\\\\\n",
    "    -c & a\n",
    "\\end{pmatrix}$$\n",
    "\n",
    "Deriving this expression is a homework exercise.\n",
    "\n",
    "Let's verify this with an example:"
   ]
  },
  {
   "cell_type": "code",
   "execution_count": 52,
   "metadata": {},
   "outputs": [
    {
     "name": "stdout",
     "output_type": "stream",
     "text": [
      "[[ 0.363636  0.272727]\n",
      " [ 0.090909 -0.181818]]\n",
      "[[ 1.000000e+00 -5.551115e-17]\n",
      " [ 0.000000e+00  1.000000e+00]]\n",
      "[[1. 0.]\n",
      " [0. 1.]]\n"
     ]
    }
   ],
   "source": [
    "A = np.array([[2., 3.], [1., -4.]])\n",
    "a = A[0,0]\n",
    "b = A[0,1]\n",
    "c = A[1,0]\n",
    "d = A[1,1]\n",
    "B = (1./(a*d - b*c)) * np.array([[d, -b], [-c, a]])\n",
    "print(B)\n",
    "print(A@B)\n",
    "print(B@A)"
   ]
  },
  {
   "cell_type": "markdown",
   "metadata": {},
   "source": [
    "So for this example this formula does indeed give us a matrix $B$ such that \n",
    "$AB = BA = I$."
   ]
  },
  {
   "cell_type": "markdown",
   "metadata": {},
   "source": [
    "### $n\\times n$ case\n",
    "\n",
    "A general formula for the inverse of a square, invertible matrix is (<https://en.wikipedia.org/wiki/Invertible_matrix#Analytic_solution>):\n",
    "\n",
    "$$A^{-1} = \\frac{1}{|A|}\\text{adj}(A),$$\n",
    "\n",
    "\n",
    "where $\\text{adj}(A)$ is the adjugate matrix defined in the optional section above.\n",
    "\n",
    "Note that this is consistent with the $2 \\times 2$ case above.\n",
    "\n",
    "We will demonstrate/prove this in the section on \"Cramer's Rule\" below.  "
   ]
  },
  {
   "cell_type": "markdown",
   "metadata": {},
   "source": [
    "## Using SciPy to compute the inverse matrix\n",
    "\n",
    "A quick review of some useful SciPy/NumPy functions.\n",
    "\n",
    "Let's try a $3\\times 3$ example."
   ]
  },
  {
   "cell_type": "code",
   "execution_count": 53,
   "metadata": {},
   "outputs": [
    {
     "name": "stdout",
     "output_type": "stream",
     "text": [
      "[[ 0.142857 -0.075188  0.022556]\n",
      " [-0.285714  0.518797 -0.255639]\n",
      " [ 0.142857 -0.285714  0.285714]]\n",
      "\n",
      " [[ 0.142857 -0.075188  0.022556]\n",
      " [-0.285714  0.518797 -0.255639]\n",
      " [ 0.142857 -0.285714  0.285714]]\n",
      "133.00000000000003\n",
      "\n",
      " 133.0\n",
      "array([[ 1.0000e+00, -1.1102e-16,  5.5511e-17],\n",
      "       [-1.1102e-16,  1.0000e+00,  2.2204e-16],\n",
      "       [-8.3267e-17, -3.3307e-16,  1.0000e+00]])\n",
      "\n",
      "\n",
      "array([[ 1.0000e+00, -1.1102e-16,  5.5511e-17],\n",
      "       [-1.1102e-16,  1.0000e+00,  2.2204e-16],\n",
      "       [-8.3267e-17, -3.3307e-16,  1.0000e+00]])\n",
      "\n",
      " True\n",
      "array([[ 1.0000e+00, -1.1102e-16,  5.5511e-17],\n",
      "       [-1.1102e-16,  1.0000e+00,  2.2204e-16],\n",
      "       [-8.3267e-17, -3.3307e-16,  1.0000e+00]])\n",
      "\n",
      "\n",
      "array([[ 1.0000e+00, -1.1102e-16,  5.5511e-17],\n",
      "       [-1.1102e-16,  1.0000e+00,  2.2204e-16],\n",
      "       [-8.3267e-17, -3.3307e-16,  1.0000e+00]])\n",
      "\n",
      "\n",
      "array([[ 1.0000e+00, -1.1102e-16,  5.5511e-17],\n",
      "       [-1.1102e-16,  1.0000e+00,  2.2204e-16],\n",
      "       [-8.3267e-17, -3.3307e-16,  1.0000e+00]])\n",
      "\n",
      "\n",
      "[[ 1.4286 -0.1504  0.0226]\n",
      " [-1.7143  2.594  -1.0226]\n",
      " [ 0.1429 -1.1429  2.    ]]\n"
     ]
    }
   ],
   "source": [
    "A = np.array([[10., 2., 1.],\n",
    "                 [6., 5., 4.],\n",
    "                 [1., 4., 7.]])\n",
    "\n",
    "# the inverse of the matrix A - computed using a scipy algorithm\n",
    "print(sl.inv(A))\n",
    "\n",
    "# or via numpy\n",
    "print('\\n', np.linalg.inv(A))\n",
    "\n",
    "# see https://docs.scipy.org/doc/scipy/reference/tutorial/linalg.html \n",
    "# for comments on scipy.linalg vs numpy.linalg\n",
    "sl.inv?\n",
    "\n",
    "# the determinant of the matrix A\n",
    "print(sl.det(A))\n",
    "\n",
    "# OR\n",
    "print('\\n', np.linalg.det(A))\n",
    "\n",
    "# it sometimes makes our life a bit easier if we don't always print out all \n",
    "# significant figures. We can do this in notebooks with \n",
    "%precision 4\n",
    "\n",
    "# Multiply A with its inverse using numpy's dot. Note that due to\n",
    "# roundoff errors the off diagonal values are not exactly zero.\n",
    "pprint(np.dot(A,sl.inv(A)))\n",
    "\n",
    "# print a blank line just to make output easier to read\n",
    "print('\\n')\n",
    "\n",
    "# check the result with the @ operator as well\n",
    "pprint(A @ sl.inv(A))\n",
    "\n",
    "# use allclose to confirm this is indeed the identity (to round-off)\n",
    "print('\\n', np.allclose(A @ sl.inv(A), np.eye(np.shape(A)[0])))\n",
    "\n",
    "\n",
    "# three ways to achieve the same thing\n",
    "pprint(np.dot(A,sl.inv(A)))\n",
    "print('\\n')\n",
    "pprint(A.dot(sl.inv(A)))\n",
    "print('\\n')\n",
    "pprint(A @ sl.inv(A))\n",
    "print('\\n')\n",
    "\n",
    "# and how not to do it.\n",
    "print(A*sl.inv(A))\n",
    "# note that the * operator simply does operations \"element-wise\"\n",
    "# which is not the same thing as matrix-matrix multiplication\n",
    "# (so * in numpy is the same as \".*\" in matlab)"
   ]
  },
  {
   "cell_type": "markdown",
   "metadata": {},
   "source": [
    "We can ignore the very small numbers which are due to floating point round-off errors - `np.allclose` can be used to confirm that these are indeed the identity matrix."
   ]
  },
  {
   "cell_type": "markdown",
   "metadata": {},
   "source": [
    "## Singular matrices\n",
    "\n",
    "If $|A|=0$ then $A$ is termed a [*singular matrix*](http://mathworld.wolfram.com/SingularMatrix.html) and it does not have an inverse.\n"
   ]
  },
  {
   "cell_type": "code",
   "execution_count": 54,
   "metadata": {},
   "outputs": [
    {
     "name": "stdout",
     "output_type": "stream",
     "text": [
      "Marix A is singular:  True\n"
     ]
    }
   ],
   "source": [
    "# example from above\n",
    "A = np.array([[2., 3.], [4., 6.]])\n",
    "print('Marix A is singular: ', np.isclose(sl.det(A), 0.))"
   ]
  },
  {
   "cell_type": "markdown",
   "metadata": {},
   "source": [
    "What happens if we try to use SciPy to compute the inverse of a matrix with a zero (or very small) determinant?"
   ]
  },
  {
   "cell_type": "code",
   "execution_count": 55,
   "metadata": {
    "scrolled": true
   },
   "outputs": [
    {
     "ename": "LinAlgError",
     "evalue": "singular matrix",
     "output_type": "error",
     "traceback": [
      "\u001b[1;31m---------------------------------------------------------------------------\u001b[0m",
      "\u001b[1;31mLinAlgError\u001b[0m                               Traceback (most recent call last)",
      "\u001b[1;32m<ipython-input-55-8a87f247b3f1>\u001b[0m in \u001b[0;36m<module>\u001b[1;34m\u001b[0m\n\u001b[1;32m----> 1\u001b[1;33m \u001b[0msl\u001b[0m\u001b[1;33m.\u001b[0m\u001b[0minv\u001b[0m\u001b[1;33m(\u001b[0m\u001b[0mA\u001b[0m\u001b[1;33m)\u001b[0m\u001b[1;33m\u001b[0m\u001b[1;33m\u001b[0m\u001b[0m\n\u001b[0m",
      "\u001b[1;32m~\\Anaconda3\\lib\\site-packages\\scipy\\linalg\\basic.py\u001b[0m in \u001b[0;36minv\u001b[1;34m(a, overwrite_a, check_finite)\u001b[0m\n\u001b[0;32m    972\u001b[0m         \u001b[0minv_a\u001b[0m\u001b[1;33m,\u001b[0m \u001b[0minfo\u001b[0m \u001b[1;33m=\u001b[0m \u001b[0mgetri\u001b[0m\u001b[1;33m(\u001b[0m\u001b[0mlu\u001b[0m\u001b[1;33m,\u001b[0m \u001b[0mpiv\u001b[0m\u001b[1;33m,\u001b[0m \u001b[0mlwork\u001b[0m\u001b[1;33m=\u001b[0m\u001b[0mlwork\u001b[0m\u001b[1;33m,\u001b[0m \u001b[0moverwrite_lu\u001b[0m\u001b[1;33m=\u001b[0m\u001b[1;36m1\u001b[0m\u001b[1;33m)\u001b[0m\u001b[1;33m\u001b[0m\u001b[1;33m\u001b[0m\u001b[0m\n\u001b[0;32m    973\u001b[0m     \u001b[1;32mif\u001b[0m \u001b[0minfo\u001b[0m \u001b[1;33m>\u001b[0m \u001b[1;36m0\u001b[0m\u001b[1;33m:\u001b[0m\u001b[1;33m\u001b[0m\u001b[1;33m\u001b[0m\u001b[0m\n\u001b[1;32m--> 974\u001b[1;33m         \u001b[1;32mraise\u001b[0m \u001b[0mLinAlgError\u001b[0m\u001b[1;33m(\u001b[0m\u001b[1;34m\"singular matrix\"\u001b[0m\u001b[1;33m)\u001b[0m\u001b[1;33m\u001b[0m\u001b[1;33m\u001b[0m\u001b[0m\n\u001b[0m\u001b[0;32m    975\u001b[0m     \u001b[1;32mif\u001b[0m \u001b[0minfo\u001b[0m \u001b[1;33m<\u001b[0m \u001b[1;36m0\u001b[0m\u001b[1;33m:\u001b[0m\u001b[1;33m\u001b[0m\u001b[1;33m\u001b[0m\u001b[0m\n\u001b[0;32m    976\u001b[0m         raise ValueError('illegal value in %d-th argument of internal '\n",
      "\u001b[1;31mLinAlgError\u001b[0m: singular matrix"
     ]
    }
   ],
   "source": [
    "sl.inv(A)"
   ]
  },
  {
   "cell_type": "code",
   "execution_count": 56,
   "metadata": {},
   "outputs": [
    {
     "ename": "LinAlgError",
     "evalue": "Singular matrix",
     "output_type": "error",
     "traceback": [
      "\u001b[1;31m---------------------------------------------------------------------------\u001b[0m",
      "\u001b[1;31mLinAlgError\u001b[0m                               Traceback (most recent call last)",
      "\u001b[1;32m<ipython-input-56-ae645f97e1f8>\u001b[0m in \u001b[0;36m<module>\u001b[1;34m\u001b[0m\n\u001b[1;32m----> 1\u001b[1;33m \u001b[0mnp\u001b[0m\u001b[1;33m.\u001b[0m\u001b[0mlinalg\u001b[0m\u001b[1;33m.\u001b[0m\u001b[0minv\u001b[0m\u001b[1;33m(\u001b[0m\u001b[0mA\u001b[0m\u001b[1;33m)\u001b[0m\u001b[1;33m\u001b[0m\u001b[1;33m\u001b[0m\u001b[0m\n\u001b[0m",
      "\u001b[1;32m<__array_function__ internals>\u001b[0m in \u001b[0;36minv\u001b[1;34m(*args, **kwargs)\u001b[0m\n",
      "\u001b[1;32m~\\Anaconda3\\lib\\site-packages\\numpy\\linalg\\linalg.py\u001b[0m in \u001b[0;36minv\u001b[1;34m(a)\u001b[0m\n\u001b[0;32m    544\u001b[0m     \u001b[0msignature\u001b[0m \u001b[1;33m=\u001b[0m \u001b[1;34m'D->D'\u001b[0m \u001b[1;32mif\u001b[0m \u001b[0misComplexType\u001b[0m\u001b[1;33m(\u001b[0m\u001b[0mt\u001b[0m\u001b[1;33m)\u001b[0m \u001b[1;32melse\u001b[0m \u001b[1;34m'd->d'\u001b[0m\u001b[1;33m\u001b[0m\u001b[1;33m\u001b[0m\u001b[0m\n\u001b[0;32m    545\u001b[0m     \u001b[0mextobj\u001b[0m \u001b[1;33m=\u001b[0m \u001b[0mget_linalg_error_extobj\u001b[0m\u001b[1;33m(\u001b[0m\u001b[0m_raise_linalgerror_singular\u001b[0m\u001b[1;33m)\u001b[0m\u001b[1;33m\u001b[0m\u001b[1;33m\u001b[0m\u001b[0m\n\u001b[1;32m--> 546\u001b[1;33m     \u001b[0mainv\u001b[0m \u001b[1;33m=\u001b[0m \u001b[0m_umath_linalg\u001b[0m\u001b[1;33m.\u001b[0m\u001b[0minv\u001b[0m\u001b[1;33m(\u001b[0m\u001b[0ma\u001b[0m\u001b[1;33m,\u001b[0m \u001b[0msignature\u001b[0m\u001b[1;33m=\u001b[0m\u001b[0msignature\u001b[0m\u001b[1;33m,\u001b[0m \u001b[0mextobj\u001b[0m\u001b[1;33m=\u001b[0m\u001b[0mextobj\u001b[0m\u001b[1;33m)\u001b[0m\u001b[1;33m\u001b[0m\u001b[1;33m\u001b[0m\u001b[0m\n\u001b[0m\u001b[0;32m    547\u001b[0m     \u001b[1;32mreturn\u001b[0m \u001b[0mwrap\u001b[0m\u001b[1;33m(\u001b[0m\u001b[0mainv\u001b[0m\u001b[1;33m.\u001b[0m\u001b[0mastype\u001b[0m\u001b[1;33m(\u001b[0m\u001b[0mresult_t\u001b[0m\u001b[1;33m,\u001b[0m \u001b[0mcopy\u001b[0m\u001b[1;33m=\u001b[0m\u001b[1;32mFalse\u001b[0m\u001b[1;33m)\u001b[0m\u001b[1;33m)\u001b[0m\u001b[1;33m\u001b[0m\u001b[1;33m\u001b[0m\u001b[0m\n\u001b[0;32m    548\u001b[0m \u001b[1;33m\u001b[0m\u001b[0m\n",
      "\u001b[1;32m~\\Anaconda3\\lib\\site-packages\\numpy\\linalg\\linalg.py\u001b[0m in \u001b[0;36m_raise_linalgerror_singular\u001b[1;34m(err, flag)\u001b[0m\n\u001b[0;32m     86\u001b[0m \u001b[1;33m\u001b[0m\u001b[0m\n\u001b[0;32m     87\u001b[0m \u001b[1;32mdef\u001b[0m \u001b[0m_raise_linalgerror_singular\u001b[0m\u001b[1;33m(\u001b[0m\u001b[0merr\u001b[0m\u001b[1;33m,\u001b[0m \u001b[0mflag\u001b[0m\u001b[1;33m)\u001b[0m\u001b[1;33m:\u001b[0m\u001b[1;33m\u001b[0m\u001b[1;33m\u001b[0m\u001b[0m\n\u001b[1;32m---> 88\u001b[1;33m     \u001b[1;32mraise\u001b[0m \u001b[0mLinAlgError\u001b[0m\u001b[1;33m(\u001b[0m\u001b[1;34m\"Singular matrix\"\u001b[0m\u001b[1;33m)\u001b[0m\u001b[1;33m\u001b[0m\u001b[1;33m\u001b[0m\u001b[0m\n\u001b[0m\u001b[0;32m     89\u001b[0m \u001b[1;33m\u001b[0m\u001b[0m\n\u001b[0;32m     90\u001b[0m \u001b[1;32mdef\u001b[0m \u001b[0m_raise_linalgerror_nonposdef\u001b[0m\u001b[1;33m(\u001b[0m\u001b[0merr\u001b[0m\u001b[1;33m,\u001b[0m \u001b[0mflag\u001b[0m\u001b[1;33m)\u001b[0m\u001b[1;33m:\u001b[0m\u001b[1;33m\u001b[0m\u001b[1;33m\u001b[0m\u001b[0m\n",
      "\u001b[1;31mLinAlgError\u001b[0m: Singular matrix"
     ]
    }
   ],
   "source": [
    "np.linalg.inv(A)"
   ]
  },
  {
   "cell_type": "markdown",
   "metadata": {},
   "source": [
    "Remember - read the error message!"
   ]
  },
  {
   "cell_type": "markdown",
   "metadata": {},
   "source": [
    "## Solvability of linear systems\n",
    "\n",
    "If $\\det(A)=0$ ($A$ is singular) a linear system featuring the matrix $A$ with any RHS does **not** have a **unique** solution, it **may have either infinite *or* no solutions**.\n",
    "\n",
    "For example, consider\n",
    "\n",
    "$$\n",
    "\\left(\n",
    "  \\begin{array}{rr}\n",
    "    2 & 3 \\\\\n",
    "    4 & 6 \n",
    "  \\end{array}\n",
    "\\right)\\left(\n",
    "  \\begin{array}{c}\n",
    "    x \\\\\n",
    "    y\n",
    "  \\end{array}\n",
    "\\right) = \\left(\n",
    "  \\begin{array}{c}\n",
    "    4 \\\\\n",
    "    8\n",
    "  \\end{array}\n",
    "\\right),\n",
    "$$\n",
    "\n",
    "where the matrix on the LHS clearly has a zero determinant.\n",
    "\n",
    "Considering now the values in the RHS vector as well, the second equation is simply twice the first, and hence a solution to the first equation is also automatically a solution to the second equation.  In this case as the equations do not contradict one another we say that the equations are **consistent**.\n",
    "\n",
    "If we think geometrically, and interpret the two equations as constraints, they are **both** constraining our $x,y$ values to the same 1D subspace - any solution along this line in 2D satisfies **both** equations, and hence any of them is a solution to our linear system.\n",
    "\n",
    "We hence only have one *linearly-independent* equation here, and our problem is under-constrained: we effectively only have one equation for two unknowns and this problem has *infinitely many* possibly solutions (or said another way, we have *existence*, but *non-uniqueness*): e.g. $\\boldsymbol{x}=(2,0)^T$ is a solution, so is $\\boldsymbol{x}=(-1,2)^T$, etc.\n",
    "\n",
    "\n",
    "<br>\n",
    "\n",
    "If we instead replaced the RHS vector with $(4,7)^T$, then the two equations would now be contradictory: in this case we have *no solutions* (or *non-existence*).\n"
   ]
  },
  {
   "cell_type": "markdown",
   "metadata": {},
   "source": [
    "### Linear (in)dependence\n",
    "\n",
    "Note that a set of vectors where one can be written as a linear sum of the others are termed [***linearly-dependent***](https://en.wikipedia.org/wiki/Linear_independence). \n",
    "\n",
    "(As was the case for the rows and the columns in the example immediately above - the first row of $A$ is simply twice the second; the second column is $3/2$ times the first).\n",
    "\n",
    "<br>\n",
    "\n",
    "When this is **not** the case the vectors are termed [***linearly-independent***](https://en.wikipedia.org/wiki/Linear_independence).\n",
    "\n",
    "<br>\n",
    "\n",
    "When the rows are linearly dependent what can you conclude about the expected structure of the [***row echelon form***](https://en.wikipedia.org/wiki/Row_echelon_form) of the matrix? I.e. what do you expect to end up if you add and subtract multiples of rows to other rows in order to simplify the matrix? ............ [it's possible for us to obtain a row made up of all zeros!]\n"
   ]
  },
  {
   "cell_type": "markdown",
   "metadata": {},
   "source": [
    "### A basis for a vector space\n",
    "\n",
    "A <a href=\"https://en.wikipedia.org/wiki/Basis_(linear_algebra)\">*basis*</a> for a vector (or linear) space is a set of *linearly-independent* vectors such that every vector (or location) in the vector space is a linear combination of this set.\n",
    "\n",
    "<br>\n",
    "\n",
    "[This a [goldilocks](https://en.wikipedia.org/wiki/Goldilocks_and_the_Three_Bears) like definition - we have exactly the right number of vectors - too few and we can't reach every point in the space through their combination, and too many some will be redundant and the set of vectors will be linearly dependent.]\n",
    "\n",
    "<br>\n",
    "\n",
    "The number of vectors in this set is called the **dimension** of the vector space.\n",
    "\n",
    "For example, the unit vectors $\\,\\boldsymbol{i}$, $\\boldsymbol{j}$, $\\boldsymbol{k}\\,$ are linearly-independent and form a basis for the [three-dimensional space $\\mathbb{R}^3$](https://en.wikipedia.org/wiki/Three-dimensional_space). These unit vectors are defined as\n",
    "\n",
    "$$\\boldsymbol{i} = \\left(\n",
    "  \\begin{array}{c}\n",
    "    1 \\\\\n",
    "    0 \\\\\n",
    "    0     \n",
    "  \\end{array}\n",
    "\\right),\n",
    "\\;\\;\\;\\;\\;\\;\\;\\;\n",
    "\\boldsymbol{j} = \\left(\n",
    "  \\begin{array}{c}\n",
    "    0 \\\\\n",
    "    1 \\\\\n",
    "    0     \n",
    "  \\end{array}\n",
    "\\right),\n",
    "\\;\\;\\;\\;\\;\\;\\;\\;\n",
    "\\boldsymbol{k} = \\left(\n",
    "  \\begin{array}{c}\n",
    "    0 \\\\\n",
    "    0 \\\\\n",
    "    1     \n",
    "  \\end{array}\n",
    "\\right).\n",
    "$$\n",
    "\n",
    "By definition, these three vectors **forming a basis means that we can reach any point in $\\mathbb{R}^3$ through summing appropriate multiples of them**.\n",
    "\n",
    "These are the basis vectors which we commonly choose (as they're in some sense the simplest and cleanest choice), but clearly they are not unique - with any linearly independent set of three vectors we can reach any point in 3D space through their weighted summation - start thinking about these basis vectors being columns of a matrix forming a linear system!"
   ]
  },
  {
   "cell_type": "markdown",
   "metadata": {},
   "source": [
    "### An example | the geometrical interpretation of matrix vector multiplication\n",
    "\n",
    "Consider our $2\\times 2$ example from earlier\n",
    "\n",
    "\n",
    "$$\n",
    "\\begin{align*}\n",
    "  2x + 3y &= 7 \\\\[5pt]\n",
    "   x - 4y &= 3 \n",
    "\\end{align*}\n",
    "   \\quad \\iff \\quad\n",
    "  \\begin{pmatrix}\n",
    "    2 & 3 \\\\\n",
    "    1 & -4  \n",
    "  \\end{pmatrix}\n",
    "  \\begin{pmatrix}\n",
    "    x \\\\\n",
    "    y \n",
    "  \\end{pmatrix}=\n",
    "  \\begin{pmatrix}\n",
    "    7 \\\\\n",
    "    3 \n",
    "  \\end{pmatrix}   \n",
    "$$\n",
    "\n",
    "If we define two vectors given by the columns of the matrix, which we plot below in blue and red, \n",
    "\n",
    "along with the point $\\boldsymbol{b}$ we want to arrive at,\n",
    "\n",
    "\n",
    "we can then visualise the problem of solving the linear system as wanting to reach the black point through the appropriate weighted sum of the blue and red vectors.  Why is this?\n"
   ]
  },
  {
   "cell_type": "code",
   "execution_count": 57,
   "metadata": {},
   "outputs": [
    {
     "data": {
      "text/plain": [
       "<matplotlib.legend.Legend at 0x1cc7d0f52e8>"
      ]
     },
     "execution_count": 57,
     "metadata": {},
     "output_type": "execute_result"
    },
    {
     "data": {
      "image/png": "[encoded data removed]",
      "text/plain": [
       "<Figure size 432x432 with 1 Axes>"
      ]
     },
     "metadata": {
      "needs_background": "light"
     },
     "output_type": "display_data"
    }
   ],
   "source": [
    "fig = plt.figure(figsize=(6, 6))\n",
    "\n",
    "ax1 = fig.add_subplot(111)\n",
    "\n",
    "ax1.set_xlabel(\"$x$\", fontsize=14)\n",
    "ax1.set_ylabel(\"$y$\", fontsize=14)\n",
    "ax1.set_title('Position as a sum over matrix cols', fontsize=14)\n",
    "#ax1.grid(True)\n",
    "\n",
    "i = np.array([1,0])\n",
    "j = np.array([0,1])\n",
    "\n",
    "# plot the unit vectors\n",
    "ax1.quiver(i[0], i[1], angles='xy', scale_units='xy', scale=1, color='k')\n",
    "ax1.quiver(j[0], j[1], angles='xy', scale_units='xy', scale=1, color='k')\n",
    "\n",
    "ax1.set_xlim(-1,8)\n",
    "ax1.set_ylim(-5,5)\n",
    "\n",
    "A = np.array([[2, 3], [1, -4]])\n",
    "vec1 = A[:,0] # NB. This is the same as A*x\n",
    "vec2 = A[:,1] # NB. This is the same as A*y\n",
    "\n",
    "# plot them\n",
    "ax1.quiver(vec1[0], vec1[1], angles='xy', scale_units='xy', scale=1, color='b', width=0.02,  label='vec1')\n",
    "ax1.quiver(vec2[0], vec2[1], angles='xy', scale_units='xy', scale=1, color='r', width=0.02,  label='vec2')\n",
    "\n",
    "# add point b\n",
    "b = np.array([7., 3.])\n",
    "ax1.plot(b[0], b[1], 'ko',  label='${b}$')\n",
    "\n",
    "ax1.legend(loc='lower left', fontsize=14)"
   ]
  },
  {
   "cell_type": "markdown",
   "metadata": {},
   "source": [
    "As already stated, we know trivially how to write the position $\\boldsymbol{b}$ as a sum over the unit vectors $\\boldsymbol{i}$ and $\\boldsymbol{j}$ (the black vectors indicate the unit vectors $\\boldsymbol{i}$ and $\\boldsymbol{j}$ in the plot above):\n",
    "\n",
    "$$\\boldsymbol{b} = \n",
    "\\begin{pmatrix}\n",
    "b_1\\\\\n",
    "b_2\n",
    "\\end{pmatrix} =\n",
    "\\begin{pmatrix}\n",
    "b_1\\\\\n",
    "0\n",
    "\\end{pmatrix} +\n",
    "\\begin{pmatrix}\n",
    "0\\\\\n",
    "b_2\n",
    "\\end{pmatrix} =\n",
    "b_1\\begin{pmatrix}\n",
    "1\\\\\n",
    "0\n",
    "\\end{pmatrix} + b_2\n",
    "\\begin{pmatrix}\n",
    "0\\\\\n",
    "1\n",
    "\\end{pmatrix} =\n",
    "b_1 \\boldsymbol{i} + b_2\\boldsymbol{j}\n",
    "$$\n",
    "\n",
    "Finding the solution to our linear system is equivalent to asking how far along direction given by column one (blue vector), and then how far along the direction given by column two (the red vector), do I need to go to arrive at point $\\boldsymbol{b}$.\n",
    "\n",
    "This is exactly what the following interpretation of matrix-vector multiplication is telling us\n",
    "\n",
    "$$ A \\boldsymbol{x}=\\boldsymbol{b} \\quad \\iff \\quad\n",
    "\\begin{pmatrix}\n",
    "    b_1\\\\\n",
    "    b_2\\\\\n",
    "    \\vdots\\\\\n",
    "    b_m\n",
    "\\end{pmatrix}\n",
    "=\n",
    "\\begin{pmatrix}\n",
    "      &     &         &     \\\\\n",
    "      &     &         &     \\\\      \n",
    "  \\boldsymbol{a}_{\\,:1} & \\boldsymbol{a}_{\\,:2} &  \\ldots & \\boldsymbol{a}_{\\,:n} \\\\\n",
    "      &     &         &     \\\\\n",
    "      &     &         &     \n",
    "\\end{pmatrix}\n",
    "\\begin{pmatrix}\n",
    "    x_1\\\\\n",
    "    x_2\\\\\n",
    "    \\vdots\\\\\n",
    "    x_n\n",
    "\\end{pmatrix}\n",
    "=\n",
    "x_1 \n",
    "\\begin{pmatrix}\n",
    "       \\\\\n",
    "       \\\\\n",
    "   \\boldsymbol{a}_{\\,:1} \\\\\n",
    "       \\\\\n",
    "    ~   \n",
    "\\end{pmatrix}\n",
    "+\n",
    "x_2 \n",
    "\\begin{pmatrix}\n",
    "       \\\\\n",
    "       \\\\\n",
    "   \\boldsymbol{a}_{\\,:2} \\\\\n",
    "       \\\\\n",
    "    ~   \n",
    "\\end{pmatrix}\n",
    "+ \\cdots +\n",
    "x_n\n",
    "\\begin{pmatrix}\n",
    "       \\\\\n",
    "       \\\\\n",
    "   \\boldsymbol{a}_{\\,:n} \\\\\n",
    "       \\\\\n",
    "    ~   \n",
    "\\end{pmatrix}\n",
    "$$\n",
    "\n",
    "\n",
    "or in our case\n",
    "\n",
    "$$ \n",
    "\\begin{pmatrix}\n",
    "    7\\\\\n",
    "    3\n",
    "\\end{pmatrix}\n",
    "=\n",
    "\\begin{pmatrix}\n",
    "      2 & 3   \\\\\n",
    "     1  & -4    \n",
    "\\end{pmatrix}\n",
    "\\begin{pmatrix}\n",
    "    x_1\\\\\n",
    "    x_2\n",
    "\\end{pmatrix}\n",
    "=\n",
    "x_1 \n",
    "\\begin{pmatrix}\n",
    "       2 \\\\\n",
    "       1\n",
    "\\end{pmatrix}\n",
    "+\n",
    "x_2 \n",
    "\\begin{pmatrix}\n",
    "     3 \\\\\n",
    "     -4\n",
    "\\end{pmatrix}\n",
    "$$\n",
    "\n",
    "<br>\n",
    "\n",
    "We can use the solution $\\boldsymbol{x}$ we have already found (`x = np.array([37./11, 1./11])`) to emphasise this visually/geometrically: \n"
   ]
  },
  {
   "cell_type": "code",
   "execution_count": 58,
   "metadata": {
    "scrolled": false
   },
   "outputs": [
    {
     "data": {
      "text/plain": [
       "<matplotlib.quiver.Quiver at 0x1cc7d1e0160>"
      ]
     },
     "execution_count": 58,
     "metadata": {},
     "output_type": "execute_result"
    },
    {
     "data": {
      "image/png": "[encoded data removed]",
      "text/plain": [
       "<Figure size 576x576 with 1 Axes>"
      ]
     },
     "metadata": {
      "needs_background": "light"
     },
     "output_type": "display_data"
    }
   ],
   "source": [
    "fig = plt.figure(figsize=(8, 8))\n",
    "\n",
    "ax1 = fig.add_subplot(111)\n",
    "\n",
    "ax1.set_xlabel(\"$x$\", fontsize=14)\n",
    "ax1.set_ylabel(\"$y$\", fontsize=14)\n",
    "ax1.set_title('Position as a sum over matrix cols', fontsize=14)\n",
    "#ax1.grid(True)\n",
    "\n",
    "i = np.array([1,0])\n",
    "j = np.array([0,1])\n",
    "\n",
    "# plot the unit vectors\n",
    "ax1.quiver(i[0], i[1], angles='xy', scale_units='xy', scale=1, color='k')\n",
    "ax1.quiver(j[0], j[1], angles='xy', scale_units='xy', scale=1, color='k')\n",
    "\n",
    "\n",
    "ax1.set_xlim(-1,8)\n",
    "ax1.set_ylim(-5,5)\n",
    "\n",
    "A = np.array([[2, 3], [1, -4]])\n",
    "vec1 = A[:,0] # NB. This is the same as A*x\n",
    "vec2 = A[:,1] # NB. This is the same as A*y\n",
    "\n",
    "# plot them\n",
    "ax1.quiver(vec1[0], vec1[1], angles='xy', scale_units='xy', scale=1, color='b', width=0.02,  label='vec1')\n",
    "ax1.quiver(vec2[0], vec2[1], angles='xy', scale_units='xy', scale=1, color='r', width=0.02,  label='vec2')\n",
    "\n",
    "# add point b\n",
    "b = np.array([7., 3.])\n",
    "ax1.plot(b[0], b[1], 'ko',  label='${b}$')\n",
    "\n",
    "ax1.legend(loc='lower left', fontsize=14)\n",
    "\n",
    "# Now move x_1 in the direction given by column one, followed by x_2 in the direction given by column 2\n",
    "# and add to the plot with thinner lines\n",
    "x = np.array([37./11, 1./11])\n",
    "ax1.quiver(x[0]*vec1[0], x[0]*vec1[1], angles='xy', scale_units='xy', scale=1, color='darkblue', width=0.005,  label='vec1')\n",
    "ax1.quiver(x[0]*vec1[0], x[0]*vec1[1],x[1]*vec2[0], x[1]*vec2[1], angles='xy', \n",
    "           scale_units='xy', scale=1, color='darkred', width=0.005,  label='vec2')"
   ]
  },
  {
   "cell_type": "markdown",
   "metadata": {},
   "source": [
    "So we need to take 37/11 multiplied by the blue arrow and add 1/11 multiplied by the red arrow to reach the black dot.\n",
    "\n",
    "[Note we don't say something like \"move 37/11 in the direction of the blue arrow, as we might with i,j,k, since these vectors are not normalised\"].\n",
    "\n",
    "Note that the columns are not orthogonal in this case, which we can demonstrate by:"
   ]
  },
  {
   "cell_type": "code",
   "execution_count": 59,
   "metadata": {},
   "outputs": [
    {
     "name": "stdout",
     "output_type": "stream",
     "text": [
      "2\n"
     ]
    }
   ],
   "source": [
    "print(vec1.dot(vec2))"
   ]
  },
  {
   "cell_type": "markdown",
   "metadata": {},
   "source": [
    "if they were orthogonal the answer should have been zero,\n",
    "\n",
    "but that's fine as we can still reach any position in 2D space from their weighted sum as long as they are linearly independent, i.e. in the 2D case as long as they don't point in the same direction."
   ]
  },
  {
   "cell_type": "markdown",
   "metadata": {},
   "source": [
    "### Solvability theory - some equivalent properties\n",
    "\n",
    "\n",
    "The following properties of a square $n\\times n$ matrix are equivalent:\n",
    "\n",
    "\n",
    "\n",
    "* $\\det(A)\\ne 0$, i.e. $A$ is non-singular.\n",
    "\n",
    "\n",
    "\n",
    "* The columns of $A$ are linearly independent.\n",
    "\n",
    "\n",
    "* The rows of $A$ are linearly independent.\n",
    "\n",
    "\n",
    "* The columns of $A$ [*span*](https://en.wikipedia.org/wiki/Linear_span) an $n$-dimensional space (this means that we can reach any point in $\\mathbb{R}^n$ through a linear combination of these vectors - recall we saw previously that this is simply what the operation $A\\boldsymbol{x}$ is doing if you write it out - the entries of $\\boldsymbol{x}$ are the weights in the linear combination - we wrote this out explicitly above.)  \n",
    "\n",
    "\n",
    "* [what this means is that for **any** given point in our space (described for example by a given $\\boldsymbol{b}$), we can reach that point through the appropriate summation of multiples of the columns of $A$, and its the $\\boldsymbol{x}$ solution vector that gives us these multiples - see example above.]\n",
    "\n",
    "\n",
    "* $A$ is invertible, i.e. there exists a matrix $A^{-1}$ such that $A^{-1}A = A A^{-1}=I$.\n",
    "\n",
    "\n",
    "* The matrix system $A\\boldsymbol{x}=\\boldsymbol{b}$ has a unique solution for every vector $\\boldsymbol{b}$.\n",
    "\n",
    "\n",
    "<br>\n",
    "\n",
    "For even more equivalent properties for square matrices see <https://en.wikipedia.org/wiki/Invertible_matrix#The_invertible_matrix_theorem>."
   ]
  },
  {
   "cell_type": "markdown",
   "metadata": {},
   "source": [
    "### Rank, range and null-Space\n",
    "\n",
    "Above we wrote for a square $n\\times n$ matrix, that being non-singular (and hence the linear system having a unique solution for any RHS vector) is equivalent to\n",
    "\n",
    "<br>\n",
    "\n",
    "* The columns of $A$ [*span*](https://en.wikipedia.org/wiki/Linear_span) an $n$-dimensional space (this means that we can reach any point in $\\mathbb{R}^n$ through a linear combination of these vectors - note that this is simply what the operation $A\\boldsymbol{x}$ is doing of course if you write it out - the entries of $\\boldsymbol{x}$ are the weights in the linear combination!)  \n",
    "\n",
    "<br>\n",
    "\n",
    "The columns of $A$ will always span an $r$-dimensional space, for some $r$, and assuming the matrix isn't the zero matrix $r \\ge 1$. \n",
    "\n",
    "What we're saying in the statement above is that *if the columns of $A$ span an $n$-dimensional space* (i.e. if $r=n$) then ... all the other properties in the previous cell hold.\n",
    "\n",
    "<br>\n",
    "\n",
    "#### Rank\n",
    "\n",
    "Let's explain a bit better what this means.\n",
    "\n",
    "The ***rank*** of an $n\\times n$ matrix $A$, written $\\text{rank}(A)$, is equal to the number of linearly independent columns that form it. It is also equal to the number of linearly independent rows that form it (as these two quantities, the column rank and the row rank can be proved to be equal). \n",
    "\n",
    "The matrix $A$ is said to have ***full rank*** if $\\text{rank}(A)=n$ and is said to be ***rank deficient*** if $\\text{rank}(A)<n)$ (in the square case - see below for the non-square case).\n",
    "\n",
    "\n",
    "<br>\n",
    "\n",
    "#### Rank\n",
    "\n",
    "The ***range*** (sometimes the ***image***) of an $n\\times n$ matrix $A$, written $\\text{range}(A)$, is the *space spanned by the columns* of $A$ (so it's also sometimes also called the [***column space***](https://en.wikipedia.org/wiki/Row_and_column_spaces)), i.e. every point in that space can be reached through a linear combination of the columns of $A$, equivalently every point in the space can be written as $A\\boldsymbol{x}$ for some $\\boldsymbol{x}$. Said another way, the columns of $A$ provide a ***basis*** for $\\text{range}(A)$.\n",
    "\n",
    "This is telling us that if our matrix has full rank then we can reach ***any*** location in $\\mathbb{R}^n$ through a weighted sum of the columns, i.e. no matter what the RHS vector is (the point we want to reach after we multiply by $A$) the corresponding linear system always has a unique solution and hence the matrix has an inverse. \n",
    "\n",
    "<br>\n",
    "\n",
    "If the matrix does not have full rank (i.e. $r<n$), that means we cannot reach all point in $\\mathbb{R}^n$ through a weighted sum of the columns. \n",
    "\n",
    "We will have (**non-unique**) solutions as long as the RHS vector (the location we want to get to geometrically) is in the range of $A$, as we are able to reach some points (i.e. some RHS vectors) with a weighted sum of our columns. \n",
    "\n",
    "If our given RHS vector is not in the range of $A$ then we simply cannot reach it through the weighted summation of columns (this is the **non-existence** case).\n",
    "\n",
    "Note that the difference between the last two points is completely down to the RHS vector and is nothing to do with the entries of the matrix $A$.\n"
   ]
  },
  {
   "cell_type": "markdown",
   "metadata": {},
   "source": [
    "\n",
    "#### The null-space\n",
    "\n",
    "The ***null-space*** of the matrix $A$, written $\\text{null}(A)$, is the set of vectors $\\boldsymbol{x}$ that satisfy $A\\boldsymbol{x} = 0$.\n",
    "\n",
    "Why is the null-space important? Well for lots of reasons including: \n",
    "\n",
    "\n",
    "1. this is how we find eigenvectors (next lecture) \n",
    "    \n",
    "    \n",
    "    \n",
    "2. when solving a linear system $A\\boldsymbol{x}=\\boldsymbol{b}$, we can add any vector (or linear combination of vectors) from the null-space to a solution and get another solution, this will demonstrate non-uniqueness of solutions for this problem if the null-space contains anything other than the zero vector. \n",
    "\n",
    "\n",
    "Note that the null-space always contains the zero vector, we are not really interested in that solution, it's non-zero vectors that are important. Note if we have a non-zero vector in the null-space, then any scalar multiple of that vector will also be in the null space ($A\\boldsymbol{x}=\\boldsymbol{0}\\Rightarrow A(\\alpha\\boldsymbol{x})=\\alpha A \\boldsymbol{x}= \\boldsymbol{0}$).\n",
    "\n",
    "\n",
    "<br>\n",
    "\n",
    "#### The rank-nullity theorem\n",
    "\n",
    "A fundamental result for any matrix $A \\in \\mathbb{R}^{m\\times n}$, which maps vectors from $\\mathbb{R}^{n}$ into $\\mathbb{R}^{m}$, is the so-called [rank-nullity theorem](https://en.wikipedia.org/wiki/Rank%E2%80%93nullity_theorem).\n",
    "\n",
    "This states that the dimension of the span of the columns of $A$ (i.e. its rank) and the dimension of its null space (termed the nullity) must sum to $n$ - the number of columns:\n",
    "\n",
    "$$ \\text{rank}(A) + \\dim(\\text{null}(A)) = n$$\n",
    "\n",
    "This means that if you have worked out the rank you automatically know the dimension of the null space (and vice-versa), in particular if it contains any non-zero vectors $\\boldsymbol{x}$ such that $A\\boldsymbol{x}=\\boldsymbol{0}$.\n",
    "\n",
    "\n",
    "<br>\n",
    "<br>\n",
    "\n",
    "\n",
    "A homework exercise walks you through the calculation of the rank and the null space for a matrix.\n"
   ]
  },
  {
   "cell_type": "markdown",
   "metadata": {},
   "source": [
    "\n",
    "\n",
    "### Solving our simple example (again) \n",
    "\n",
    "Let's finish up by solving our simple $2\\times 2$ example again.\n",
    "\n",
    "In the following, as well as multiplying through by the inverse matrix obtained with `sl.inv`, we also demonstrate how to use a numerical linear algebra **solver** via `sl.solve` - this **solves the problem without actually forming the inverse**. "
   ]
  },
  {
   "cell_type": "code",
   "execution_count": 60,
   "metadata": {},
   "outputs": [
    {
     "name": "stdout",
     "output_type": "stream",
     "text": [
      "det(A) =  -11.0\n",
      "[3.3636 0.0909]\n",
      "[3.3636 0.0909]\n",
      "\n",
      "Our two numerical solutions agree:  True\n",
      "\n",
      "and sl.solve(A,b) agrees with the exact solution we computed by hand:  True\n"
     ]
    }
   ],
   "source": [
    "# form the LHS matrix\n",
    "A = np.array([[2., 3.], [1., -4.]])\n",
    "\n",
    "# check first whether the determinant of A is non-zero \n",
    "print('det(A) = ', sl.det(A))\n",
    "\n",
    "# form the RHS vector\n",
    "b = np.array([7., 3.])\n",
    "\n",
    "# compute A inverse and multiply by b (could also use np.linalg.inv(A) rather than sl.inv(A))\n",
    "print(sl.inv(A) @ b)\n",
    "\n",
    "# alternatively we can \"solve\" the linear system using SciPy \n",
    "# - actually this does the same thing as the line above but using \n",
    "# an \"LU decomposition\" of A.\n",
    "print(sl.solve(A,b))\n",
    "\n",
    "# Check our two numerical solutions using the numpy allclose function\n",
    "print('\\nOur two numerical solutions agree: ', np.allclose(sl.solve(A,b), sl.inv(A) @ b))\n",
    "# and check further that this agrees with the solution we computed by hand\n",
    "print('\\nand sl.solve(A,b) agrees with the exact solution we computed by hand: ', \n",
    "      np.allclose(sl.solve(A,b), [37./11., 1./11.]))"
   ]
  },
  {
   "cell_type": "code",
   "execution_count": 61,
   "metadata": {},
   "outputs": [
    {
     "name": "stdout",
     "output_type": "stream",
     "text": [
      "[3.3636363636363633 0.0909090909090909]\n",
      "[3.3636363636363638 0.0909090909090909]\n",
      "sl.solve(A,b) == sl.inv(A)@b: True\n",
      "sl.solve(A,b) == sl.inv(A)@b: False\n"
     ]
    }
   ],
   "source": [
    "# but let's just check the answers with lots of significant figures\n",
    "%precision 16\n",
    "A = np.array([[2., 3.], [1., -4.]])\n",
    "b = np.array([7., 3.])\n",
    "print(sl.inv(A)@b)\n",
    "print(sl.solve(A,b))\n",
    "\n",
    "# use a very tight tolerance to check equivalence\n",
    "print('sl.solve(A,b) == sl.inv(A)@b:', np.allclose(sl.solve(A,b), sl.inv(A)@b, \n",
    "                                                   rtol=0.0, atol=1e-15))\n",
    "# an even tighter tolerance\n",
    "print('sl.solve(A,b) == sl.inv(A)@b:', np.allclose(sl.solve(A,b), sl.inv(A)@b, \n",
    "                                                   rtol=0.0, atol=1e-16))"
   ]
  },
  {
   "cell_type": "markdown",
   "metadata": {},
   "source": [
    "So if we really look closely these two approaches do not yield identical results."
   ]
  },
  {
   "cell_type": "markdown",
   "metadata": {},
   "source": [
    "<div class=\"advanced\">\n",
    "\n",
    "# Cramer's rule [**]\n",
    "\n",
    "As stated above, a general formula for the inverse of a square, invertible matrix is \n",
    "\n",
    "$$A^{-1} = \\frac{1}{|A|}\\text{adj}(A)$$\n",
    "\n",
    "where the adjugate or [*adjugate matrix*](https://en.wikipedia.org/wiki/Adjugate_matrix) is\n",
    "\n",
    "$$\\text{adj}(A) = C^T$$\n",
    "\n",
    "where $C$ is the *cofactor matrix*:\n",
    "\n",
    "$$C = \n",
    "\\begin{pmatrix}\n",
    "    C_{11} & C_{12} & \\cdots\\\\\n",
    "    C_{21} & C_{22} & \\cdots\\\\\n",
    "    \\vdots & \\vdots & \\ddots\\\\\n",
    "\\end{pmatrix}\n",
    "$$ \n",
    "\n",
    "where $$C_{11} = \n",
    "\\begin{vmatrix}\n",
    "    a_{22} & a_{23}\\\\\n",
    "    a_{32} & a_{33}\n",
    "\\end{vmatrix}, \n",
    "\\quad\n",
    "C_{12} = -\n",
    "\\begin{vmatrix}\n",
    "    a_{21} & a_{23}\\\\\n",
    "    a_{31} & a_{33}\n",
    "\\end{vmatrix}\n",
    "$$\n",
    "\n",
    "etc.\n",
    "\n",
    "<\\div>"
   ]
  },
  {
   "cell_type": "markdown",
   "metadata": {},
   "source": [
    "<div class=\"advanced\">\n",
    "\n",
    "By establishing this result rigorously we can also derive a solution method for a corresponding linear system - called Cramer's Rule. Let's do this.\n",
    "\n",
    "For a given $n\\times n$ matrix $A$, consider the product with the cofactor matrix $C$ defined above:\n",
    "\n",
    "$$AC^T = \n",
    "\\begin{pmatrix}\n",
    "    a_{11} & a_{12} & \\cdots\\\\\n",
    "    a_{21} & a_{22} & \\cdots\\\\\n",
    "    \\vdots & \\vdots & \\ddots\\\\\n",
    "\\end{pmatrix}\n",
    "\\begin{pmatrix}\n",
    "    C_{11} & C_{12} & \\cdots\\\\\n",
    "    C_{21} & C_{22} & \\cdots\\\\\n",
    "    \\vdots & \\vdots & \\ddots\\\\\n",
    "\\end{pmatrix}^T= \n",
    "\\begin{pmatrix}\n",
    "    a_{11} & a_{12} & \\cdots\\\\\n",
    "    a_{21} & a_{22} & \\cdots\\\\\n",
    "    \\vdots & \\vdots & \\ddots\\\\\n",
    "\\end{pmatrix}\n",
    "\\begin{pmatrix}\n",
    "    C_{11} & C_{21} & \\cdots\\\\\n",
    "    C_{12} & C_{22} & \\cdots\\\\\n",
    "    \\vdots & \\vdots & \\ddots\\\\\n",
    "\\end{pmatrix}\n",
    "$$\n",
    "\n",
    "The result will be an $n\\times n$ matrix $[(AC^T)_{ij}]_{n\\times n}$.  Let's consider some of its entries:\n",
    "\n",
    "$$(AC^T)_{11} = a_{11} C_{11} + a_{12}C_{12} + \\ldots$$\n",
    "\n",
    "which we recognise as the formula for the determinant using the expansion over the first row.\n",
    "\n",
    "Similarly $(AC^T)_{22}$ is the determinant using the expansion over the second row, and so on - all the diagonal entries\n",
    "of this product turn out to be the determinant $|A|$.\n",
    "\n",
    "What about the off-diagonals? Let's consider one representative entry:\n",
    "\n",
    "$$(AC^T)_{12} = a_{11} C_{21} + a_{12}C_{22} + \\ldots$$\n",
    "\n",
    "where\n",
    "\n",
    "$$C_{21} = -\n",
    "\\begin{vmatrix}\n",
    "    a_{12} & a_{13} & a_{14} & \\cdots\\\\\n",
    "    a_{32} & a_{33} & a_{34} & \\cdots\\\\\n",
    "    a_{42} & a_{43} & a_{44} & \\cdots \\\\\n",
    "    \\vdots & \\vdots & \\vdots &\n",
    "\\end{vmatrix}\n",
    "$$\n",
    "\n",
    "$$C_{22} = +\n",
    "\\begin{vmatrix}\n",
    "    a_{11} & a_{13} & a_{14} & \\cdots\\\\\n",
    "    a_{31} & a_{33} & a_{34} & \\cdots\\\\\n",
    "    a_{41} & a_{34} & a_{44} & \\cdots \\\\\n",
    "    \\vdots & \\vdots & \\vdots &\n",
    "\\end{vmatrix}\n",
    "$$\n",
    "\n",
    "etc. \n",
    "\n",
    "So we have that\n",
    "\n",
    "$$ \n",
    "(AC^T)_{12} = \n",
    "-a_{11} \n",
    "\\begin{vmatrix}\n",
    "    a_{12} & a_{13} & a_{14} & \\cdots\\\\\n",
    "    a_{32} & a_{33} & a_{34} & \\cdots\\\\\n",
    "    a_{42} & a_{43} & a_{44} & \\cdots \\\\\n",
    "    \\vdots & \\vdots & \\vdots &\n",
    "\\end{vmatrix} + \n",
    "a_{12}\n",
    "\\begin{vmatrix}\n",
    "    a_{11} & a_{13} & a_{14} & \\cdots\\\\\n",
    "    a_{31} & a_{33} & a_{34} & \\cdots\\\\\n",
    "    a_{41} & a_{34} & a_{44} & \\cdots \\\\\n",
    "    \\vdots & \\vdots & \\vdots &\n",
    "\\end{vmatrix}\n",
    "+ \\ldots\n",
    "$$\n",
    "\n",
    "But notice that this is the determinant of the following matrix:\n",
    "\n",
    "$$(AC^T)_{12}=\n",
    "-\\begin{vmatrix}\n",
    "    a_{11} & a_{12} & a_{13} & \\cdots\\\\\n",
    "    a_{11} & a_{12} & a_{13} & \\cdots\\\\\n",
    "    a_{31} & a_{32} & a_{33} & \\cdots \\\\\n",
    "    a_{41} & a_{42} & a_{43} & \\cdots \\\\\n",
    "\\vdots & \\vdots & \\vdots &\n",
    "\\end{vmatrix}\n",
    "$$\n",
    "\n",
    "i.e. a matrix with a repeated row.  \n",
    "\n",
    "What do we know about matrices with repeated, i.e. non linearly independent rows - they have zero determinants. Hence this off-diagonal entry is zero. This argument can be repeated to show that every off-diagonals entry must be zero.\n",
    "\n",
    "</div>"
   ]
  },
  {
   "cell_type": "markdown",
   "metadata": {},
   "source": [
    "<div class=\"advanced\">\n",
    "\n",
    "If you don't quite follow this, let's look at the $2\\times 2$ example. In this case \n",
    "\n",
    "$$AC^T = \n",
    "\\begin{pmatrix}\n",
    "    a & b \\\\\n",
    "    c & d \n",
    "\\end{pmatrix}\n",
    "\\begin{pmatrix}\n",
    "    d & -c \\\\\n",
    "    -b & a\n",
    "\\end{pmatrix}^T= \n",
    "\\begin{pmatrix}\n",
    "    a & b  \\\\\n",
    "    c & d \n",
    "\\end{pmatrix}\n",
    "\\begin{pmatrix}\n",
    "    d & -b\\\\\n",
    "    -c & a\n",
    "\\end{pmatrix}\n",
    "$$\n",
    "\n",
    "So \n",
    "\n",
    "$$(AC^T)_{11} = ad - bc =|A|$$\n",
    "\n",
    "and \n",
    "\n",
    "$$(AC^T)_{12} = a_{11} C_{21} + a_{12}C_{22} = a(-b) + b(a) =  \n",
    "\\begin{vmatrix}\n",
    "a & b \\\\\n",
    "a & b\n",
    "\\end{vmatrix}\n",
    "=0$$\n",
    "\n",
    "as for the general case this is zero - the determinant of the matrix where we have replaced the second row with the first. \n",
    "\n",
    "</div>"
   ]
  },
  {
   "cell_type": "markdown",
   "metadata": {},
   "source": [
    "<div class=\"advanced\">\n",
    "\n",
    "Hence we have that \n",
    "\n",
    "$$ AC^T = |A| \\; I \\; \\implies \\; A \\left( \\frac{1}{|A|} C^T \\right) = I $$\n",
    "\n",
    "and so having divided through by an assumed non-zero scalar determinant we have constructed a \"right inverse\" to our matrix $A$.  \n",
    "\n",
    "\n",
    "A similar argument would show that we also have a left inverse, as $C^T A = |A|I$ - this time entries of $C^TA$ can be interpreted as the sum of cofactors multiplied by entries from a column of $A$. For the diagonals this is the determinant of $A$ (computed via a column expansion), and for off-diagonals the determinant of matrix with repeated columns, i.e. zero.\n",
    "\n",
    "Together this proves that we indeed have the inverse matrix:\n",
    "\n",
    "$$A^{-1}=\\frac{1}{|A|} C^T = \\frac{1}{|A|} \\text{adj}(A)$$\n",
    "\n",
    "</div>"
   ]
  },
  {
   "cell_type": "markdown",
   "metadata": {},
   "source": [
    "<div class=\"advanced\">\n",
    "\n",
    "Establishing that the above formula for the inverse is true points us to a method for computing the solution of the linear system, i.e.\n",
    "\n",
    "$$ A\\boldsymbol{x}=\\boldsymbol{b} \\implies \\boldsymbol{x} = A^{-1}\\boldsymbol{b} = \\frac{1}{|A|} C^T \\boldsymbol{b}, $$\n",
    "\n",
    "directly.\n",
    "\n",
    "Consider the first entry of our unknown, $x_1$. The above formula tells us that this is equal to one over the determinant of $A$, times the first row of $C^T$ multiplied by the column vector $\\boldsymbol{b}$:\n",
    "\n",
    "$$x_1 = \\frac{1}{|A|} \\left(C_{11}b_1 + C_{21}b_2 + \\ldots\\right)$$\n",
    "\n",
    "but, as above, the expansion of cofactors that appears here can be recognised as the determinant of a particular matrix, and thus an expression for the first entry of the solution vector is:\n",
    "\n",
    "$$x_1 = \\frac{1}{|A|} \n",
    "\\begin{vmatrix}\n",
    "b_1 & a_{12} & a_{13} & \\cdots \\\\\n",
    "b_2 & a_{22} & a_{23} & \\cdots \\\\\n",
    "b_3 & a_{32} & a_{33} & \\cdots \\\\\n",
    "\\vdots & \\vdots & \\vdots &\n",
    "\\end{vmatrix}\n",
    "$$\n",
    "\n",
    "Call the matrix that appears here $B_1$ (which is defined as $A$ but with the first column replaced by $\\boldsymbol{b}$).\n",
    "\n",
    "Define $B_j$ similarly as the matrix $A$ with the $j$-th column replaced by $\\boldsymbol{b}$:\n",
    "\n",
    "$$B_j = \n",
    "\\begin{pmatrix}\n",
    "      &     &         &   &&&&   \\\\\n",
    "  \\boldsymbol{a}_1 & \\boldsymbol{a}_2 &  \\ldots & \\boldsymbol{a}_{j-1} & \\boldsymbol{b} & \\boldsymbol{a}_{j+1}  & \\ldots & \\boldsymbol{a}_n \\\\\n",
    "      &     &         &   &&&&  \\\\\n",
    "      &     &         &   &&&&  \n",
    "\\end{pmatrix}\n",
    "$$\n",
    "\n",
    "Then as an extension of above we have\n",
    "\n",
    "$$x_j = \\frac{|B_j|}{|A|}, \\quad  1\\leq j \\leq n$$\n",
    "\n",
    "This solution method is called [Cramer's rule](https://en.wikipedia.org/wiki/Cramer%27s_rule), and a homework exercise asks you to implement this method in a function.\n",
    "\n",
    "</div>"
   ]
  },
  {
   "cell_type": "markdown",
   "metadata": {},
   "source": [
    "<div class=\"optional\">\n",
    "    \n",
    "# Geometric interpretation of linear transformations [* - assuming we have run out of time, please read through this section as we will pick up the next lecture from these ideas]\n",
    "\n",
    "If we consider a vector describing a position relative to the origin then we can interpret pre-multiplication of this vector by a matrix as a linear transformation applied to this position. \n",
    "\n",
    "Alternatively, in Euclidean 2D space consider two vectors describing a basis for that space (e.g. $\\boldsymbol{i}$ and $\\boldsymbol{j}$), then we can interpret pre-multiplication of these vectors by a matrix as a linear coordinate transformation. (And this is also true for any (finite) number of dimensions).\n",
    "\n",
    "Other words for transformation here include 'function' or 'map' - the action of applying it maps objects between spaces.\n",
    "\n",
    "Linear means that it does so in a manner that preserves the operations of addition and scalar multiplication: if $f(\\cdot)$ represents our transformation/mapping/function then mathematically this means that \n",
    "\n",
    "$$ f(\\boldsymbol{x}+\\boldsymbol{y}) =  f(\\boldsymbol{x}) + f(\\boldsymbol{y}) \n",
    "\\quad \\text{and}\\qquad \n",
    " f(\\alpha \\boldsymbol{x}) = \\alpha f(\\boldsymbol{x})\n",
    "$$\n",
    " \n",
    "for all objects $\\boldsymbol{x}$ in the space we're considering (e.g. Euclidean space), and all scalars $\\alpha$.\n",
    " \n",
    "In the finite dimensional case (e.g. Euclidean space, not function spaces), such a linear transformation is equivalent to multiplication by a matrix. If we map between spaces that are the same dimension then this matrix is square, non-square matrices given us mappings between spaces of different dimension (think different number of model inputs than model outputs - this case comes up in the module Inversion and Optimisation).\n",
    "\n",
    "</div>"
   ]
  },
  {
   "cell_type": "markdown",
   "metadata": {},
   "source": [
    "A few common examples in 2D are given in the cells/images below.\n",
    "\n",
    "For some additional examples see <https://en.wikipedia.org/wiki/Linear_map#Examples_of_linear_transformation_matrices>\n",
    "and <https://en.wikipedia.org/wiki/Transformation_matrix>.\n",
    "\n",
    "[Note that the examples below are all in 2D for ease of plotting/visualisation/thinking! These can all be extended to higher dimensions: parallelograms become [parallelepipeds](https://en.wikipedia.org/wiki/Parallelepiped) in 3D, ellipses become [ellipsoids](https://en.wikipedia.org/wiki/Ellipsoid) etc].\n",
    "\n",
    "For each of these tranformation we will check the statement we made above about the determinant:\n",
    "\"Geometrically it gives the scaling of the volume (area in 2D) of a shape under the linear transformation represented by the matrix.\"\n"
   ]
  },
  {
   "cell_type": "markdown",
   "metadata": {},
   "source": [
    "Firstly let's consider a point in a two dimensional space\n",
    "\n",
    "$$\\boldsymbol{p} = \n",
    "\\begin{pmatrix}\n",
    "p_1\\\\\n",
    "p_2\n",
    "\\end{pmatrix}\n",
    "$$ \n",
    "\n",
    "you can also think of this as a vector from the origin (you might write this as $\\;\\overrightarrow{op}\\;$ to avoid any ambiguities, with $o$ indicating the origin).\n",
    "\n",
    "Firstly consider what multiplication by a matrix $A$ does to this point's location, or equivalently the vector - i.e. let's compute a new point $\\boldsymbol{p}'=A\\boldsymbol{p}$ for a random matrix $A$ and plot it:"
   ]
  },
  {
   "cell_type": "code",
   "execution_count": 62,
   "metadata": {},
   "outputs": [
    {
     "data": {
      "text/plain": [
       "(-0.166, 3.4859999999999998, -0.11499999999999999, 2.415)"
      ]
     },
     "execution_count": 62,
     "metadata": {},
     "output_type": "execute_result"
    },
    {
     "data": {
      "image/png": "[encoded data removed]",
      "text/plain": [
       "<Figure size 432x432 with 1 Axes>"
      ]
     },
     "metadata": {
      "needs_background": "light"
     },
     "output_type": "display_data"
    }
   ],
   "source": [
    "fig = plt.figure(figsize=(6, 6))\n",
    "\n",
    "ax1 = fig.add_subplot(111)\n",
    "\n",
    "ax1.set_xlabel(\"$x, x'$\", fontsize=14)\n",
    "ax1.set_ylabel(\"$y, y'$\", fontsize=14)\n",
    "ax1.set_title('Transforming point', fontsize=14)\n",
    "#ax1.grid(True)\n",
    "\n",
    "# unit vectors\n",
    "i = np.array([1,0])\n",
    "j = np.array([0,1])\n",
    "\n",
    "# plot the vectors\n",
    "ax1.quiver(i[0], i[1], angles='xy', scale_units='xy', scale=1, color='k', zorder=10)\n",
    "ax1.quiver(j[0], j[1], angles='xy', scale_units='xy', scale=1, color='k', zorder=10)\n",
    "# add some text\n",
    "ax1.text(i[0]+0.1, i[1], '$i$', fontsize=12)\n",
    "ax1.text(j[0], j[1]+0.1, '$j$', fontsize=12)\n",
    "\n",
    "# a point p\n",
    "p = np.array([1.4, 2.3])\n",
    "\n",
    "# plot it\n",
    "ax1.plot(p[0],p[1],'bo')\n",
    "\n",
    "# add some text\n",
    "ax1.text(p[0],p[1]+0.1, '$p$', fontsize=12)\n",
    "\n",
    "# consider a random matrix\n",
    "A = np.array([[0.4,1.2],[-0.1,0.4]])\n",
    "\n",
    "# transform the point\n",
    "p_ = A@p\n",
    "\n",
    "# plot the transformed point\n",
    "ax1.plot(p_[0],p_[1],'ro')\n",
    "\n",
    "# add some text\n",
    "ax1.text(p_[0],p_[1]+0.1, \"$p'$\", fontsize=12)\n",
    "\n",
    "# make the axis lengths equal - so i and j are same size\n",
    "ax1.axis('equal')"
   ]
  },
  {
   "cell_type": "markdown",
   "metadata": {},
   "source": [
    "We can interpret what's happened here in terms of a coordinate transformation.\n",
    "\n",
    "Given the unit vectors which are the typical basis used for $\\mathbb{R}^2$\n",
    "\n",
    "\n",
    "$$\\boldsymbol{i} = \\left(\n",
    "  \\begin{array}{c}\n",
    "    1 \\\\\n",
    "    0     \n",
    "  \\end{array}\n",
    "\\right),\n",
    "\\;\\;\\;\\;\\;\\;\\;\\;\n",
    "\\boldsymbol{j} = \\left(\n",
    "  \\begin{array}{c}\n",
    "    0 \\\\\n",
    "    1\n",
    "  \\end{array}\n",
    "\\right),\n",
    "$$\n",
    "\n",
    "then of course we can write\n",
    "\n",
    "$$\\boldsymbol{p} = \n",
    "\\begin{pmatrix}\n",
    "p_1\\\\\n",
    "p_2\n",
    "\\end{pmatrix} = p_1 \\boldsymbol{i} + p_2 \\boldsymbol{j} \n",
    "$$\n",
    "\n",
    "the transformed point is then\n",
    "\n",
    "$$\\boldsymbol{p}' = A\\boldsymbol{p} = A(p_1 \\boldsymbol{i} + p_2 \\boldsymbol{j})\n",
    "= p_1 (A\\boldsymbol{i}) + p_2 (A\\boldsymbol{j})\n",
    "$$\n",
    "\n",
    "(by linearity of matrix multiplication).\n",
    "\n",
    "This emphasises that we can interpret multiplication by a matrix as a change of coordinates - our coordinate basis has been transformed from $(\\boldsymbol{i},\\boldsymbol{j})$ to $(A\\boldsymbol{i},A\\boldsymbol{j})$.\n",
    "\n",
    "Now in this case, due to the particularly simple/special form of the starting basis: $\\boldsymbol{i}$ and $\\boldsymbol{j}$, this new basis is made up of the columns of $A$!\n",
    "\n",
    "The transformation of a summation will then just be\n",
    "\n",
    "$$(\\boldsymbol{p}+\\boldsymbol{q})' = A(\\boldsymbol{p}+\\boldsymbol{q}) = A((p_1+q_1) \\boldsymbol{i} + (p_2+q_2) \\boldsymbol{j})\n",
    "= (p_1+q_1) (A\\boldsymbol{i}) + (p_2+q_2) (A\\boldsymbol{j})\n",
    "$$\n",
    "\n",
    "[A homework exercise asks you to plot a demonstration of this]\n",
    "\n",
    "and similar for a scalar multiple.\n"
   ]
  },
  {
   "cell_type": "markdown",
   "metadata": {},
   "source": [
    "## Some examples\n",
    "\n",
    "Let's plot a few simple examples of transformations/matrices"
   ]
  },
  {
   "cell_type": "code",
   "execution_count": 63,
   "metadata": {},
   "outputs": [
    {
     "data": {
      "text/plain": [
       "(-0.1, 2.1, -0.05, 1.05)"
      ]
     },
     "execution_count": 63,
     "metadata": {},
     "output_type": "execute_result"
    },
    {
     "data": {
      "image/png": "[encoded data removed]",
      "text/plain": [
       "<Figure size 432x432 with 1 Axes>"
      ]
     },
     "metadata": {
      "needs_background": "light"
     },
     "output_type": "display_data"
    }
   ],
   "source": [
    "from matplotlib.patches import Polygon\n",
    "\n",
    "fig = plt.figure(figsize=(6, 6))\n",
    "\n",
    "ax1 = fig.add_subplot(111)\n",
    "\n",
    "ax1.set_xlabel(\"$x, x'$\", fontsize=14)\n",
    "ax1.set_ylabel(\"$y, y'$\", fontsize=14)\n",
    "ax1.set_title('Linear transformation (shear)', fontsize=14)\n",
    "ax1.grid(True)\n",
    "\n",
    "i = np.array([1,0])\n",
    "j = np.array([0,1])\n",
    "\n",
    "# plot the vectors~\n",
    "ax1.quiver(i[0], i[1], angles='xy', scale_units='xy', scale=1, color='b', zorder=10)\n",
    "ax1.quiver(j[0], j[1], angles='xy', scale_units='xy', scale=1, color='b', zorder=10)\n",
    "# add a unit square image\n",
    "ij = np.column_stack([np.zeros(2,),i,i+j,j]) # don't need to add zero at end as we will assume closed polygons\n",
    "ax1.add_patch(Polygon( ij.T , facecolor='lightblue', alpha=0.7))\n",
    "\n",
    "A = np.array([[1,1],[0,1]])\n",
    "i_ = A@i\n",
    "j_ = A@j\n",
    "\n",
    "# and the vectors\n",
    "ax1.quiver(i_[0], i_[1], angles='xy', scale_units='xy', scale=1, color='r', zorder=10)\n",
    "ax1.quiver(j_[0], j_[1], angles='xy', scale_units='xy', scale=1, color='r', zorder=10)\n",
    "# plot how the square transforms\n",
    "ij_ = np.column_stack([np.zeros(2,),i_,i_+j_,j_]) # don't need to add zero at end as we will assume closed polygons\n",
    "ax1.add_patch(Polygon( ij_.T , facecolor='mistyrose', alpha=0.7))\n",
    "\n",
    "\n",
    "ax1.axis('equal')"
   ]
  },
  {
   "cell_type": "markdown",
   "metadata": {},
   "source": [
    "Additionally in this figure we have plotted in light blue the unit square of area 1 which is spanned by the two original unit vectors. Under the coordinate transform, as well as the unit vectors transforming into the red vectors, the light blue square transforms into the light red parallelogram.\n",
    "\n",
    "The area of a parallelogram is `base` $\\times$ `height`, but for this example this is just $1\\times 1$, i.e. the area has not changed under the transformation.\n",
    "\n",
    "Note also that the determinant of the matrix is given by\n",
    "\n",
    "$$\n",
    "\\begin{vmatrix}\n",
    "1 & 1\\\\\n",
    "0 & 1\n",
    "\\end{vmatrix} = 1\n",
    "$$\n",
    "\n",
    "and hence we have verified for this particular case the statement we made about the determinant: \"Geometrically it gives the scaling of the volume (area in 2D) of a shape under the linear transformation represented by the matrix.\"\n",
    "\n",
    "This is an example of shear <https://en.wikipedia.org/wiki/Shear_mapping>.\n",
    "\n",
    "Let's try another common example:"
   ]
  },
  {
   "cell_type": "code",
   "execution_count": 64,
   "metadata": {},
   "outputs": [
    {
     "data": {
      "text/plain": [
       "(-0.23233058655027686,\n",
       " 1.0586824088833464,\n",
       " -0.057922796533956926,\n",
       " 1.2163787272130953)"
      ]
     },
     "execution_count": 64,
     "metadata": {},
     "output_type": "execute_result"
    },
    {
     "data": {
      "image/png": "[encoded data removed]",
      "text/plain": [
       "<Figure size 432x432 with 1 Axes>"
      ]
     },
     "metadata": {
      "needs_background": "light"
     },
     "output_type": "display_data"
    }
   ],
   "source": [
    "fig = plt.figure(figsize=(6, 6))\n",
    "\n",
    "ax1 = fig.add_subplot(111)\n",
    "\n",
    "ax1.set_xlabel(\"$x, x'$\", fontsize=14)\n",
    "ax1.set_ylabel(\"$y, y'$\", fontsize=14)\n",
    "ax1.set_title('Linear transformation (rotation)', fontsize=14)\n",
    "ax1.grid(True)\n",
    "\n",
    "i = np.array([1,0])\n",
    "j = np.array([0,1])\n",
    "\n",
    "# plot the vectors\n",
    "ax1.quiver(i[0], i[1], angles='xy', scale_units='xy', scale=1, color='b', zorder=10)\n",
    "ax1.quiver(j[0], j[1], angles='xy', scale_units='xy', scale=1, color='b', zorder=10)\n",
    "# add a unit square image\n",
    "ij = np.column_stack([np.zeros(2,),i,i+j,j]) # don't need to add zero at end as we will assume closed polygons\n",
    "ax1.add_patch(Polygon( ij.T , facecolor='lightblue', alpha=0.7))\n",
    "\n",
    "theta = 10 *np.pi/180 # convert 10 degrees into radians\n",
    "A = np.array([[np.cos(theta),-np.sin(theta)],[np.sin(theta),np.cos(theta)]])\n",
    "i_ = A@i\n",
    "j_ = A@j\n",
    "\n",
    "\n",
    "# and the vectors\n",
    "ax1.quiver(i_[0], i_[1], angles='xy', scale_units='xy', scale=1, color='r', zorder=10)\n",
    "ax1.quiver(j_[0], j_[1], angles='xy', scale_units='xy', scale=1, color='r', zorder=10)\n",
    "# plot how the square transforms\n",
    "ij_ = np.column_stack([np.zeros(2,),i_,i_+j_,j_]) # don't need to add zero at end as we will assume closed polygons\n",
    "ax1.add_patch(Polygon( ij_.T , facecolor='mistyrose', alpha=0.7))\n",
    "\n",
    "ax1.axis('equal')"
   ]
  },
  {
   "cell_type": "markdown",
   "metadata": {},
   "source": [
    "In this case the matrix\n",
    "\n",
    "$$A = \n",
    "\\begin{pmatrix}\n",
    "\\cos(\\theta) & -\\sin(\\theta)\\\\\n",
    "\\sin(\\theta) & \\cos(\\theta)\n",
    "\\end{pmatrix}\n",
    "$$\n",
    "\n",
    "corresponds to a rotation in the anti-clockwise direction by the angle $\\theta$.  This is called a *rotation matrix*.\n",
    "\n",
    "\n",
    "1. Based upon the matrix (rather than the above image which tells you what the answer should be) what is the area of the red area compared to the blue?\n",
    "\n",
    "\n",
    "2. Are the transformed basis vectors orthonormal (unit length (normalised) and orthogonal to each other)? \n",
    "\n",
    "\n",
    "3. Consider a point $\\boldsymbol{p}$ and corresponding vector from the origin  $\\overrightarrow{op}$. Show that  $|\\overrightarrow{op}|$ = $|\\overrightarrow{op'}|$ where the latter is the length of the vector from the origin to the transformed point."
   ]
  },
  {
   "cell_type": "markdown",
   "metadata": {},
   "source": [
    "<div class=\"optional\">\n",
    "\n",
    "## A general transformation and the determinant again [\\*]\n",
    "\n",
    "Let's revert back to a general matrix \n",
    "\n",
    "$$\\begin{pmatrix}\n",
    "a & b \\\\\n",
    "c & d\n",
    "\\end{pmatrix}$$ \n",
    "\n",
    "and plot how the point\n",
    "\n",
    "$$\\boldsymbol{p} = \n",
    "\\begin{pmatrix}\n",
    "p_1\\\\\n",
    "p_2\n",
    "\\end{pmatrix} = p_1 \\boldsymbol{i} + p_2 \\boldsymbol{j} \n",
    "$$\n",
    "\n",
    "transforms:\n",
    "    \n",
    "</div>"
   ]
  },
  {
   "cell_type": "code",
   "execution_count": 65,
   "metadata": {},
   "outputs": [
    {
     "data": {
      "text/plain": [
       "(-0.2000000000000000, 2.5000000000000000)"
      ]
     },
     "execution_count": 65,
     "metadata": {},
     "output_type": "execute_result"
    },
    {
     "data": {
      "image/png": "[encoded data removed]",
      "text/plain": [
       "<Figure size 576x576 with 1 Axes>"
      ]
     },
     "metadata": {
      "needs_background": "light"
     },
     "output_type": "display_data"
    }
   ],
   "source": [
    "fig = plt.figure(figsize=(8, 8))\n",
    "\n",
    "ax1 = fig.add_subplot(111)\n",
    "\n",
    "ax1.set_xlabel(\"$x, x'$\", fontsize=14)\n",
    "ax1.set_ylabel(\"$y, y'$\", fontsize=14)\n",
    "ax1.set_title('Linear transformation (general)', fontsize=14)\n",
    "ax1.grid(True)\n",
    "\n",
    "# plot some larger axes for this image\n",
    "ax1.quiver(2,0, angles='xy', scale_units='xy', scale=1, color='k', zorder=10)\n",
    "ax1.quiver(0,2, angles='xy', scale_units='xy', scale=1, color='k', zorder=10)\n",
    "\n",
    "# basis functions\n",
    "i = np.array([1,0])\n",
    "j = np.array([0,1])\n",
    "\n",
    "# transform them\n",
    "A = np.array([[0.9,0.2],[0.6,1.1]])\n",
    "i_ = A@i\n",
    "j_ = A@j\n",
    "\n",
    "# plot how the square transforms\n",
    "ij_ = np.column_stack([np.zeros(2,),i_,i_+j_,j_]) # don't need to add zero at end as we will assume closed polygons\n",
    "ax1.add_patch(Polygon( ij_.T , facecolor='mistyrose', alpha=0.7))\n",
    "\n",
    "# some borders\n",
    "ax1.plot([0,i_[0]], [0,i_[1]], color='r', zorder=10)\n",
    "ax1.plot([0,j_[0]], [0,j_[1]], color='r', zorder=10)\n",
    "ax1.plot([i_[0],i_[0]+j_[0]], [i_[1],i_[1]+j_[1]], color='r', zorder=10)\n",
    "ax1.plot([j_[0],i_[0]+j_[0]], [j_[1],i_[1]+j_[1]], color='r', zorder=10)\n",
    "\n",
    "# add a point\n",
    "p = i+j\n",
    "\n",
    "# transform it\n",
    "p_ = A@p\n",
    "\n",
    "# plot the transformed point\n",
    "ax1.plot(p_[0],p_[1],'ro')\n",
    "\n",
    "# add some text\n",
    "ax1.text(p_[0],p_[1]+0.1, \"$p'=(a+b,c+d)^T$\", fontsize=12)\n",
    "ax1.text(i_[0]-0.3,i_[1]+0.01, \"$(a,c)^T$\", fontsize=12)\n",
    "ax1.text(j_[0]+0.025,j_[1]-0.1, \"$(b,d)^T$\", fontsize=12)\n",
    "\n",
    "ax1.set_xlim(-0.2,2.5)\n",
    "ax1.set_ylim(-0.2,2.5)\n"
   ]
  },
  {
   "cell_type": "markdown",
   "metadata": {},
   "source": [
    "<div class=\"optional\">\n",
    "    \n",
    "In this case under multiplication by $A$ the basis vectors transform as: \n",
    "\n",
    "$$\\boldsymbol{i} = \n",
    "\\begin{pmatrix}\n",
    "    1\\\\\n",
    "    0\n",
    "\\end{pmatrix}\n",
    "\\longrightarrow\n",
    "\\begin{pmatrix}\n",
    "    a\\\\\n",
    "    c\n",
    "\\end{pmatrix}=\n",
    "\\begin{pmatrix}\n",
    "    0.9\\\\\n",
    "    0.6\n",
    "\\end{pmatrix},\n",
    "\\quad\n",
    "\\boldsymbol{j} = \n",
    "\\begin{pmatrix}\n",
    "    0\\\\\n",
    "    1\n",
    "\\end{pmatrix}\n",
    "\\longrightarrow\n",
    "\\begin{pmatrix}\n",
    "    b\\\\\n",
    "    d\n",
    "\\end{pmatrix}=\n",
    "\\begin{pmatrix}\n",
    "    0.2\\\\\n",
    "    1.1\n",
    "\\end{pmatrix}\n",
    "$$\n",
    "\n",
    "What's the area of the resulting parallelogram ... it's the determinant. \n",
    "\n",
    "Let's confirm this after we first update the plot a little:\n",
    "    \n",
    "</div>"
   ]
  },
  {
   "cell_type": "code",
   "execution_count": 66,
   "metadata": {},
   "outputs": [
    {
     "data": {
      "text/plain": [
       "[<matplotlib.lines.Line2D at 0x1cc7e59ec88>]"
      ]
     },
     "execution_count": 66,
     "metadata": {},
     "output_type": "execute_result"
    },
    {
     "data": {
      "image/png": "[encoded data removed]",
      "text/plain": [
       "<Figure size 576x576 with 1 Axes>"
      ]
     },
     "metadata": {
      "needs_background": "light"
     },
     "output_type": "display_data"
    }
   ],
   "source": [
    "fig = plt.figure(figsize=(8, 8))\n",
    "\n",
    "ax1 = fig.add_subplot(111)\n",
    "\n",
    "ax1.set_xlabel(\"$x, x'$\", fontsize=14)\n",
    "ax1.set_ylabel(\"$y, y'$\", fontsize=14)\n",
    "ax1.set_title('Linear transformation (general)', fontsize=14)\n",
    "ax1.grid(True)\n",
    "\n",
    "# plot some larger axes for this image\n",
    "ax1.quiver(2,0, angles='xy', scale_units='xy', scale=1, color='k', zorder=10)\n",
    "ax1.quiver(0,2, angles='xy', scale_units='xy', scale=1, color='k', zorder=10)\n",
    "\n",
    "# basis functions\n",
    "i = np.array([1,0])\n",
    "j = np.array([0,1])\n",
    "\n",
    "# transform them\n",
    "A = np.array([[0.9,0.2],[0.6,1.1]])\n",
    "i_ = A@i\n",
    "j_ = A@j\n",
    "\n",
    "# plot how the square transforms\n",
    "ij_ = np.column_stack([np.zeros(2,),i_,i_+j_,j_]) # don't need to add zero at end as we will assume closed polygons\n",
    "ax1.add_patch(Polygon( ij_.T , facecolor='mistyrose', alpha=0.7))\n",
    "\n",
    "# some borders\n",
    "ax1.plot([0,i_[0]], [0,i_[1]], color='r', zorder=10)\n",
    "ax1.plot([0,j_[0]], [0,j_[1]], color='r', zorder=10)\n",
    "ax1.plot([i_[0],i_[0]+j_[0]], [i_[1],i_[1]+j_[1]], color='r', zorder=10)\n",
    "ax1.plot([j_[0],i_[0]+j_[0]], [j_[1],i_[1]+j_[1]], color='r', zorder=10)\n",
    "\n",
    "# add a point\n",
    "p = i+j\n",
    "\n",
    "# transform it\n",
    "p_ = A@p\n",
    "\n",
    "# plot the transformed point\n",
    "ax1.plot(p_[0],p_[1],'ro')\n",
    "\n",
    "# add some text\n",
    "ax1.text(p_[0],p_[1]+0.1, \"$p'=(a+b,c+d)^T$\", fontsize=12)\n",
    "ax1.text(i_[0]-0.3,i_[1]+0.01, \"$(a,c)^T$\", fontsize=12)\n",
    "ax1.text(j_[0]+0.025,j_[1]-0.1, \"$(b,d)^T$\", fontsize=12)\n",
    "\n",
    "ax1.set_xlim(-0.2,2.5)\n",
    "ax1.set_ylim(-0.2,2.5)\n",
    "\n",
    "# add some lines\n",
    "ax1.plot([0,p_[0]],[p_[1],p_[1]],'b',lw=1)\n",
    "ax1.plot([p_[0],p_[0]],[0,p_[1]],'b',lw=1)\n",
    "ax1.plot([i_[0],p_[0]],[i_[1],0],'b',lw=1)\n",
    "ax1.plot([j_[0],0],[j_[1],p_[1]],'b',lw=1)"
   ]
  },
  {
   "cell_type": "markdown",
   "metadata": {},
   "source": [
    "<div class=\"optional\">\n",
    "\n",
    "Using the following notation for the matrix entries\n",
    "\n",
    "$$A =\n",
    "\\begin{pmatrix}\n",
    "a & b\\\\\n",
    "c & d\n",
    "\\end{pmatrix}\n",
    "$$\n",
    "\n",
    "the area of red parallelogram in the image above can be computed as the area of the large blue square (which is $(a+b)\\times (c+d)$) minus the areas of the four outer triangles, each of which can be computed as half their base multiplied by their height (the latter of which is easy to read off for each triangle as the distance from one of the horizontal or vertical lines). In the formula below I've started at the \"Western\" triangle (which has area: $(c+d)b/2$) and proceeded clockwise.\n",
    "\n",
    "\\begin{align*}\n",
    "\\text{Volume} &\n",
    "= (a+b)(c+d) - \n",
    "\\frac{1}{2}\\left(\n",
    "(c+d)b + (a+b)c + (c+d)b + (a+b)c \n",
    "\\right)\\\\\n",
    "& = ac+ad+bc+bd- \n",
    "\\frac{1}{2}\\left(\n",
    "bc+bd+ac+bc+bc+bd+ac+bc\n",
    "\\right)\\\\\n",
    "& = ac+ad+bc+bd- \n",
    "\\frac{1}{2}\\left(\n",
    "4bc+2bd+2ac\n",
    "\\right)\\\\\n",
    "& = ac+ad+bc+bd- \n",
    "2bc-bd-ac\\\\\n",
    "&=ad-bc = |A|\n",
    "\\end{align*}\n",
    "\n",
    "This is not the only way to do this. Firstly we could have spotted that the area of the two top-left triangles is the same as the two bottom right by symmetry to simplify our calculation a bit. We could also have split each these up into one rectangle and two right-angled triangles.\n",
    "\n",
    "A homework exercise asks you to demonstrate the same thing using a [cross product](https://en.wikipedia.org/wiki/Cross_product).\n",
    "    \n",
    "</div>"
   ]
  },
  {
   "cell_type": "markdown",
   "metadata": {},
   "source": [
    "<div class=\"optional\">\n",
    "\n",
    "# An animation [*]\n",
    "\n",
    "With this knowledge we can create some interesting images/animations - a simple example now, a more exciting example displayed at the start is a homework exercise.\n",
    "\n",
    "For some pointers on generating animations see the discussions here:\n",
    "\n",
    "<https://jakevdp.github.io/blog/2012/08/18/matplotlib-animation-tutorial/>\n",
    "\n",
    "<https://matplotlib.org/api/_as_gen/matplotlib.animation.FuncAnimation.html>\n",
    "\n",
    "<https://matplotlib.org/3.1.1/gallery/animation/animated_histogram.html>\n",
    "\n",
    "<https://stackoverflow.com/questions/16037494/x-is-this-trailing-comma-the-comma-operator>\n",
    "\n",
    "</div>"
   ]
  },
  {
   "cell_type": "code",
   "execution_count": 67,
   "metadata": {
    "scrolled": false
   },
   "outputs": [
    {
     "data": {
      "text/html": [
       "<video width=\"576\" height=\"576\" controls autoplay loop>\n",
       "  <source type=\"video/mp4\" src=\"data:video/mp4;base64,AAAAHGZ0eXBNNFYgAAACAGlzb21pc28yYXZjMQAAAAhmcmVlAACKv21kYXQAAAKuBgX//6rcRem9\n",
       "5tlIt5Ys2CDZI+7veDI2NCAtIGNvcmUgMTUyIHIyODUxIGJhMjQ4OTkgLSBILjI2NC9NUEVHLTQg\n",
       "QVZDIGNvZGVjIC0gQ29weWxlZnQgMjAwMy0yMDE3IC0gaHR0cDovL3d3dy52aWRlb2xhbi5vcmcv\n",
       "eDI2NC5odG1sIC0gb3B0aW9uczogY2FiYWM9MSByZWY9MyBkZWJsb2NrPTE6MDowIGFuYWx5c2U9\n",
       "MHgzOjB4MTEzIG1lPWhleCBzdWJtZT03IHBzeT0xIHBzeV9yZD0xLjAwOjAuMDAgbWl4ZWRfcmVm\n",
       "PTEgbWVfcmFuZ2U9MTYgY2hyb21hX21lPTEgdHJlbGxpcz0xIDh4OGRjdD0xIGNxbT0wIGRlYWR6\n",
       "b25lPTIxLDExIGZhc3RfcHNraXA9MSBjaHJvbWFfcXBfb2Zmc2V0PS0yIHRocmVhZHM9NiBsb29r\n",
       "YWhlYWRfdGhyZWFkcz0xIHNsaWNlZF90aHJlYWRzPTAgbnI9MCBkZWNpbWF0ZT0xIGludGVybGFj\n",
       "ZWQ9MCBibHVyYXlfY29tcGF0PTAgY29uc3RyYWluZWRfaW50cmE9MCBiZnJhbWVzPTMgYl9weXJh\n",
       "bWlkPTIgYl9hZGFwdD0xIGJfYmlhcz0wIGRpcmVjdD0xIHdlaWdodGI9MSBvcGVuX2dvcD0wIHdl\n",
       "aWdodHA9MiBrZXlpbnQ9MjUwIGtleWludF9taW49MTAgc2NlbmVjdXQ9NDAgaW50cmFfcmVmcmVz\n",
       "aD0wIHJjX2xvb2thaGVhZD00MCByYz1jcmYgbWJ0cmVlPTEgY3JmPTIzLjAgcWNvbXA9MC42MCBx\n",
       "cG1pbj0wIHFwbWF4PTY5IHFwc3RlcD00IGlwX3JhdGlvPTEuNDAgYXE9MToxLjAwAIAAABKSZYiE\n",
       "AD///vdonwKbWkN6gOSVxSXbT4H/q2dwfI/pAwAAAwAAAwAAgOA79ZKUW+1spAAADxgBX8zP4jH5\n",
       "GYBs+fAFeKFrBFoO9mW/+CgsXekL7CUBrfjCLnb6WousHHHx89hynPS+HeNZVmeFgRXhVoflLxmX\n",
       "eaeEGcmFU3MI4GnZrYECLC7qc/ftJ4O6JsMsyMz2gwKQ4impTXHTNnsWIoaTGew/2vgi4gjJbbm6\n",
       "XkDNtMd1C0Sc/pWAT54lc2LC6YreEDJ/QmG5SimeMwBjZ2NWsCQj0YsMjjD5Xu+HSsQDpp/KMppo\n",
       "Y0tB2H+0LNfwBH5FdBFwkFqb8fL4gjQ20qD+4HvJQdVzSBce3veNo86jR6nhhQRJG8tbLrZj+AVt\n",
       "jcJAhSrfK/G8eMbSTB+PZ3kX1hFmnH5imdRqQNcbI1+SwKzHl08ZcxwF5gxvGNz1qFQBTj2PFXBl\n",
       "XDBRSfAWzhpczWUBgoTb3GdxEQ/WIz0gyB+ps5magpnyK9/3o/8IEBIRpu2sJvhFCNSeH9cwwF7j\n",
       "HPUbkt2bMkcFWc/454zzk0evLtLl67yz3qN0XUVRKALHoE5KoquEu1V/zGElbAOx0qMM9Gcv4isP\n",
       "Z0Z23WQcDGq2ITEeuGhByFWb/kvw4AU3meqDogafj+OeJmCvOSrbQ8oD8qJYV/PVbndLDXz707dG\n",
       "uJ+tIR4NZQ7fS079J6+q5K2+tun+3aWpGgk1fb7cBmMggD5dhuCXgLOQVYqVRU+kFkipel0MCkuI\n",
       "zDgzcMdVVrN1GevERB0r+uHCFvJuI2RNoaL4lu6K/qexG2ntmiBTMLfGye5IIr+5DQImRiEfdcW5\n",
       "hZvB3vlnYDVCcDhAjysjWLz5shIqUrYQCxMtleSlZNf0wO2+tetmETHdZmhxwE08YFzXDAR/psDl\n",
       "DL8d9a6L1Lx0nvzffPpkz1KSL5SPqkx5U8X5BmaZcDvpTj2mL7ezgH97nKS+gtWlXHpbkzfxxyWF\n",
       "2XidFK0jMZEat6ScsCxtld3xahwe7gstSHu4tWOL1lrzOwCsXVETdJ2Kq1cu7gBvXUBHWZgPr3UG\n",
       "qGHwG9u8Cv+kOP3daEE3teoZNxOQyW/WeLT3yuW5ymOfmym9VWOWyHuNc+/PF3oSTCiC0l9Vd8zQ\n",
       "7OoKcaGNia1ntDulLTTkFqT37zcqgRVuQUgUF/jwkojm2qAb3swFHLzARAiiet9O1v2rU4pZ1lYm\n",
       "qzEQ7MVWMpPeqmz/s53Xdvb+5aNWTHR7dPCvcRjKxLSEzalF9breuPGGZzz9WqOQISBUng0Xldbz\n",
       "UygjfsFxEBUL7+J3GeclcsmpD/jiEsoncojxRaUxnF/7AZw2icQsy8iap8vcROiRieGexFr8Ky+k\n",
       "Y8IbI47U3E68+qyWV5B1ZWLbHPZ8IeVpcFS1hLli6Aap17b9YtYdlPauHSOVESYjXJm0hZx0sb9T\n",
       "6mqo7jA4qLId9paYUGgDcsmDj11uRh32kzyAahR/JNLU22sdtWxtZk2uHhD4OSrPspji9bCZnv7q\n",
       "KGb8dsKpe7133P4ey6nkCQsfmZNQA/SjWx4tvX6mXtGL5wkHzym6bPS+A968AH5FAEhgJSCyIW+z\n",
       "p+YWdrtSCNIx1dfR6kTnIPbxU93otABrMYwV124QAxLgIShmYkWCuLqH3XFStJ0p2++OZdcbl0wg\n",
       "TVkmGnSDnZI2bgH6mqqmRiYnWKFh5wQfAk5GFZJShKr/HX5h/g1MABoOcUPnwYEf5hrK7N5IS8fd\n",
       "MG4sJk2hv+kg32Nj2Qlqw1B0SzIbpoMAv+IRZ4JboL0dxTLI5HtRX0NPyNJBL3TlEJfx4hhuV6Rw\n",
       "Txe6aeDgITVbbEgZqyIAAAMAU9ABcAAAhZrAzJ4JKOUhIUFfMoADxIu/L8ycItvnG6YXk8Fpq9/l\n",
       "vvGLLenqL3AGtx5xNPh3FPz4lNDDrZLe0KWkFu3umfhQQRrxH0ch1s8rwlocPh2AyyCrgwDPoVOV\n",
       "nVNOm3vXqB6pRpN+TF3ZpxR3Ydfv2+HFz1TupgH+Cm5nRWzcMIsrjx++Ukwq2Bah1eG7dVQFsihA\n",
       "6H1GTOh6iP47VSNvby9kpIr4cjm6Ueb9vQPmsJtGBb2OdShRj7wpkoeITbonnno/caq3J5YnYqto\n",
       "a5kgut/3LiGe/7iMWwDCaQBujgqf86ybNAL9hQ7zMnRuKtVSdfOapKDzE5yL9f3Eqj2taJysxiCF\n",
       "0ljTG6pNcetoiGxZFM2hlB7CMLToekm0xEpKAlOn0FMjQ8jVEIH8koJWV+/eANeZUTnaPVwOtE8h\n",
       "z/5LwGpnfOhhV0nHPdBfP6QQDkPKg/WndXF5eFLj/MCd4GRQUDSWjBG7hgT5AN9Sr016OPsdPpNZ\n",
       "jw3WYVy4jeWS/wxfBqH2JcgVD65gD6gWsZTy0ZiKj5JQjuKrK1L1cBqVscSePXlJktmaCQuVvuvt\n",
       "t8NCzE5K8TClJhL9J5mXBWhR1YHo1HGEgd73hBOgm/925QTC+AARr2pz+TejF5xEe8+8YBlXg3s+\n",
       "uDgzoAdqw0VGwJwROGqze2245dYp6HpTKYljPzEBmNTn46R9OORm10ypAgOOEoswKqPZ0schw0zb\n",
       "qFdxEvja2rk1OjM2jNJ23+8OjOqZnhbwlIsem7JnLYpFRsFWplLk1JsLwMjvIjmfxuRWT6Xd7/jZ\n",
       "UshvRW4Amk4dI71d0l/SJ6JN+GP5t/3aC7ZyUaLVduuaLgpJPDpBo3f49x+YvHppCLAD71gxqEgZ\n",
       "fxFORhVY7Bo97QHOjs2J2Fs1P5/mh+vSOAvk7Fwf2Z/ap99ehdZqJSLLljj0Ll6KFy5up/6flps7\n",
       "5ZnJf1BWpZZUofpM4TBstgnQfr9NSe3CtjxfumFXvqt6c8xPVCZfERvEro9/BBe7IvC7+8bILgtd\n",
       "+DmwZdVaHYlHpJZ9RbWVbkKnEanBYv+0dnISWTkxOie9sWGlf+Ti+g2EgIa0LLPLSQOBc0QG4j7E\n",
       "PY1ayxIIIAFt41fjAA6RIdi0n1qrm1PTeBBlix3T7XR40xOspr/zaDGuGfQHZ64g0O2xnMzynZH9\n",
       "IB3Ig3TimyUDweOyd1x32Gh8X37j///jFNBRZZ/3E8gPH0ACriRWKLA2Sx5rO/e8NQX4iT1Chkcs\n",
       "CbqeNL2fRfWwZSJbVeMs36xbPk4lfxS+KjyNbYgLKRT/235ZeB2t/OmFsFJQpbTUg3XHw3C7PJdx\n",
       "6CB+y2WlGRwaClMLEc/KrI53dspob5TXHnMwUSPe/qPYm3n4DMSzQ86I0EcRocVM57cSAZZGZCzK\n",
       "2CKPFiegnE0WDuSQzRliB+NtD68fX7q4npdkLEuPinHkX+aNb52tgsw1tVFKiyxcbngPclfyECZz\n",
       "NO2czYoaBlAT8qBEDZ8L0MfTp4SI5QO2Z8s50y1q58zS38FXS0YrS6L8LALnakAGmW8HTwb/fK06\n",
       "fzG01/lRakFlOT+OeFAyKaN2Kdx70Ku2ZdLNLTbe6uxCzddnMmHeKiNhtPGLW+osAOwa1EcGjxCO\n",
       "1//ugXKh7iHVqoWZrOzHLQRnKbZct9lwo1FWoyhjtGUXwKqmjaBc8biNJ1hQUhLuz42sAV9y8MHL\n",
       "4Jsd9SlusG946aCAKBIgH5fdTan7b2aRkf/Eau+GA0yMUr8KBc+Fc3FMRCQ1zywK7On5SJG5whtx\n",
       "8CcAmQpzW4pYYQ3bsImvY0Cq/nU3t0osmDkUOG5se0YZBFOxLIUEqeqtceHvSBlvzvrxcseN5WHu\n",
       "LiL43Py/xKo/82F5SnqCrRlvvkcysjRlZyTPPucRUJWBR49+aeOdajvM3ZlMx8b0e9j20AyVmXKp\n",
       "bRGtn2OFSLtJx/pD+nAYRBsW3f0nHdvnbBHIlKjgQ6s+De8YLewMLXpUrZlL3offNfWShfEaK+9d\n",
       "Mw74fPYYZaTKC5DcHkAR7N5FQpxbQVPmGbPIAMNzKqUCLvtc+4hbtYHgM7sB0sDhm1NU2TW4YbmH\n",
       "UovEXghhXnfv02V4vnOyfw/suX9V34bgLl6B/6R0qe0yOHh9jgM1RTu8zWe8vN2+pqVxNwNCR9IH\n",
       "AFa6yifBjzxSzxGQQAHvL0hQ10SdKu31itN364xvaIAbhkK0EVFnrCpiCyy5/90IUpo40KuStw/S\n",
       "/mKIDpEhdlE3KUST7t20IEt+/PC5rcKGzZvtqdN8rwYaILOOxPU05i+E4LWYzXl/oXOewEfJx60v\n",
       "LRNJrco/5z5+X34Neh9sgPmjdm9kzompguvPa/drmmqX9lyhhpyO8q6cFMq9JxZhz6+H2ap6Q2V1\n",
       "5oljHqdqucCT55qJ/vL570qFNAFO4CDXpG4kbI4qiwhRf+2pXwPX+Udp8PpKM5TJoZAN3SPmT5p4\n",
       "qaiZpkHrbCzhH6R6e2Ufg85nCRnNTU8zrGFkOawJOKhlDsgmcjnBA8UkJLgDmai///esYiC1S+bo\n",
       "/Vw5itIvPdkxAJmABLl+2AAAAwA4E/515jkUi0pt6whuQz1qWydlWeTbXK+Epaym4gD2X2lXxrAk\n",
       "25zZmpzFFdO8u1oYBJZ9cd0C2Yy9DG4NX/81sMHvp49xoaOJspeSLEu19E+PYlPP1yoHbB9b/yYw\n",
       "YdqKRVICbZTFyPr6WrmYDijkPu4jwXisdbhWoHuQTVhuRpQ4XPmgbqc5kWz+91aAgOsOABIZbymX\n",
       "BTEPAQSpWRVA6oGvJB0iMeX8GLUPVlJcmFDMhAha8b9uLDVXhWQWAsBsQ4HxOXIx7RZAQM+4jjWE\n",
       "zfKEs9KKpJkiqt4Amm4AlPQS2EJ+89iCsFuadup6eC4CewyY0I8u+vOwGEwH9f12YwtwwSKHXGdC\n",
       "6KZ81egY21P8L20hxGOW5M5oWMGOaHD9muh4T+npLoVcgUCmNco7ucbmyQYQnJggEXJOvSclOfom\n",
       "H/Fjrpn9bALH1KfRGHHKt/5WMjCVJiDeCfvwM8ouiK6pJqD1ZiR8KBW7jwDuAjj+qKbjJ8uuNvYw\n",
       "dAeV7Sa8OQXSu0qfAq+QzkfDqGQ6i+qR4xrEOdEfe2A3FaQHd4qZLrGzIqOqEu0CADHKhxghn8Yv\n",
       "zKAK8pWK/7SdGrDTF5SnwQZ8Ilj7zb4VOA3olr+Twi/M27XwM2THTMHb5k3NXo14zG9kUSF7EBE7\n",
       "ABVOognayUev4hSQyZSxUhJ86GCBr3kVqE8kLjjZExjRi+jOYcfglcCv0JbOP9jNa03hDL2hzXPn\n",
       "KZhTU9nOq+V27ZqU0Wo27jdVsJd65q4ccc7vmCnfaOB09+IcUiSczwDhMuy2nttZsb8mG4ZCCLor\n",
       "7zPH22X/0CaHCYWn5ExotprMmVq6HGANtlePjalMnqEGXdDsfK5DrE8Krha5v17T3urCm7JGu5c+\n",
       "4xN/tvRap7GEdHkzC7YvyoAIHrPGoAhR60oRlLztO2/hga0VSgmZLiDwCZFTJeGog0hDgBEZrxLI\n",
       "6YSRFB6nSbYCsy//v2FID0kUP/jLlr6hwamo0xrhF7QGF8KcLwKWQq9Jech8hRsQl400lJ0WjbAA\n",
       "AoLWxlxA4m99U9HnqQ7Z8m+JE6iksIQjeUEnMjSu16rLDPZ0nPIz3GVOfjOMVYyGiLZBZXFYvJ6s\n",
       "SGB2+fxUZmOEhnZZRwJFueIZQn9svMUMuy/CZKGlnqrxb2Gcjdy+3hjvVx3QT+BL5pnF9T4trwzF\n",
       "ceeo3XG2Yqo8dVwJMroJns0G1mtaWqwhEidPeEeK52cQiSX/2b/nHEeDty9sLsjxLgiiA7Gz+OvI\n",
       "/o47dWpx8/QaAuryl2986/1QQg3KO2E18x90jUTxprkV58OFUeHVjggcOZAwlzEq0Vtl1AoWAlfd\n",
       "zlkNaQnLLHn1cFrpPGd3QGjNqEXPJckMY8A1c3sg1wjLbUwKCFeCf46iJJJXME4mU0KkuMILTzCO\n",
       "ff1bEWM9V6t7St/ytZBFLfooOQmCaKz1bvQMrvYcpz+FtteynTS8ivG4OzvDwmQo4Y8G0JVavDkF\n",
       "UDNKEsQ2ywJj8OY0/UqnqinHAPwtBsm2bWTqrtPMYdnCLeB10ITvyIOZKchQgq10wHWtHMdEaWfO\n",
       "mTq8EPaKQqiyYotODXngioxvOias6VDHWlS1DjIvVxqlgtNGZ8jyd3xgqJRYpxLwFihwgfd3ay40\n",
       "P8G0EWnOdyqUwUvyIOc1oxcE7bkVed/YYq0X82Bn+9gYVeixvVHjSV1L7edb4I3vHsLWPxKh4B0S\n",
       "+KvWrnCuv2Lt0oqCFznuoBhEbvJTgNj4U/3y0OgVTis6wnwTjvcL82ZH3JoIF2DAhtW9obUnOn+h\n",
       "NDwknsAsVNr/qmT5lxiFwm2dIlG4Zo36E4NV4jHPaYw0XxqUiAGOSSIC9igI/GgO8MwJOtYf3zoN\n",
       "BonMrnPa+iWDoUW0AAADAAADA2MAAAa/QZohbEP//qmWAAADAA7/utP8BG82dn1iKW5SsOoUjUt/\n",
       "gM5V1bZAHASIe858hCnE0vGwbQUdQS/d4b58ihX2Sg13oQmGmoSXUUvUewC+j6cmyNPdCxA8hlDS\n",
       "m7Db/PcE32Jr7/U41udVDKU09zavxFBR3CkSoVfR1lYNSMNOgeu0SIe751ve8wfTuZA+FEpgrdQb\n",
       "njAM9nSANcekhCbo5sWCH04pe/APdtBcijyPwla6LFf53B5WwWagUkSlrl2piqKT3YxFjvAPJ7s1\n",
       "Hpft7GVW+Hb3Cq46TAZPWwJqkI5AQo9zxh/F78aFAAKliih8WLvS1VGCdI64OEBtnjFiacsjoVPi\n",
       "MN8EWEUdgsHnLUt+oWMhMaTrY6J3f/kzw78STYxShedgHb/anfZmlSdy9NSVh81dU3eLqmXR9Myo\n",
       "A2XYej5/v/TTaVrwQq5ZHsY8NW/tFAmy1/AXc9JXpVOQ8iGvuiJh2c1CtS8Uih7MkDicsidEygm3\n",
       "oGtjfakb3ujQYSF+tM8xjMZXLItx/g9CGo1YnFUqRJM2LlpBymXf5KWdWpWcK8f14gP6bvEGRg0w\n",
       "mepvmvEZe9wJUDURNXDvA05oPr2zuPmc404HFm1VP/n0FhR5Pt+NsXoSuKwNPoEY2h1F7UFEhJXD\n",
       "tgagZ291J9o9WzCtfnTP0lTXDUXc6qfh8iBdenCdk3PC3Jjdv7YR2+vcLEOiRz0LhInxAtw/Xa8f\n",
       "yCmuIOFavEWJFvrdx6B9w1EkkVoZC1iyW+XUTKHZolwcSPP/0+bqpE1bxq2PPa6cgtpbJNYrZSon\n",
       "ATNaMt9NTrQ1f1BvxHSXELL/+ZJc4Kyz8N+WJxEg1Y1iMJDs308CORys+X9qnjoaFrxfayS/rWjv\n",
       "zt8kLi/ESUD3geoNJz71JibpHarxZjXQjE/aK/zJU3VMcPoVRKGluHSDt+kW0mtjWIC7Y9pAjgPp\n",
       "51YTK4R1NYjPTwdX3L3ZIaZftQKCHyUXtTDHaLOIzhNsfXPlOl9gyOuZj990x/fQkhMLzj9zWr54\n",
       "cdllyB8kMtRtxm6ojpF/QvZQCiAXd/h1Nl5oiaVnIaAvDc2YY+FSBZ+LYDOGCt0w8m/AAKKr9n38\n",
       "jNLSIbBMRN4Df+O/PFytGbJELSYOCWpQxlaBQfMVrdXkSZy27xWbcn61Rkhox40Rj3ppVZ3EOphn\n",
       "c6SS/EA+NlTcnzUEpNf8mZGy8jUZPgNllyFguUwQXCHmUNwFm1QhwTpi/xkUkipwnxVD6rIPtGhZ\n",
       "F1qhLzm7Yxw7uueAywxlSeK/Ldc4/Lc+ZgYXghwxpQdIb3O70R1JT2fxoDjiUMmpjPtjegVgngPA\n",
       "d39v0aALCHYQOuqVBFi44iUxI8rn3rLMQf/JYvHPt7lEZ6ppiWjpggIcduXLufmZe1AzNHBLh6ET\n",
       "J+M2OTamucuZUNOQa+CbhorujRSEs9osvOSfVpc2MGP5dCSYx0cmTfFprRLtt9+I6yP091Mr4NLI\n",
       "Ep+Q3KCicBXwQfNjiggRr17ukZcf5R6SaalfeapGOVe4amxJVRyh8XmILcqWD9Ky9mgG1lnR/yqb\n",
       "jax9syguXwoqVsJk0exIX+QyagjvgTda5aG5uIac1zl6i1hPUrYtOePjQNuBK2i7XgVUsu00JkSe\n",
       "RjeGKJQt+cBcewnprfy6CdcPMwmztPnMPynDAJSNtyKa/jilOsRDS4vwwbMcwgPPIOSq6x9Jpgy3\n",
       "U3G0bDBtK8GIma6vYRyNYw0q59BGAfvWuvWLynKPa5O/4CPNd1K6TCu2gv0cH3eUwWxRZ21HQVgg\n",
       "m+V/P4ZxjusKge1ltDkCr3kRwI9V9pFu1+kqqsrDw0sanz9wf5ePRyjH1thkzrFToEchGpr8qfHL\n",
       "Kxv+AgTaHXWwkt6DfsMyljSklEe7UdubGypYsN7gbHwIRl+dHopueTsdr/66fyZeigydkXtwUjDA\n",
       "wUiBCquPcaGSoRdR2aji7iXl4U6Tbo5gOZwUg+fdoCY9NsuARXw+pPqbSHTBuuwd8Ohyr4lR5gcp\n",
       "pwIha33CPWeYZJH2d/uuinkv1s1yzbR2ybSqZ4wMJ7TNTY1vT8b6MF4F7fh/WvGUtUri2PS6UCQt\n",
       "B3sWkEFx/4rTAx7xA81I5tdu1L1ngst6nQ/XLCOas7OvNg4VzycAaTBe7jP0EReTGE6pd6jGzJRj\n",
       "3MkJTsHoBsRcAssJQ1seNS1F2GeYs/aZnXHQgaWp3xTV6zaAUz+hMZDlhAFnNVDEhtb2JwA/r3zB\n",
       "9YRPGAjdZM8wEXnqbNsX78tIYaUSoDRkhVhMD4XP4oMnXzf+TpyQoV8AAAZOQZpCPCGTKYQ///6p\n",
       "lgAAAwAGBLzI1BGADalxOmFuA9IQrw8G0qeU2Z2N9s+2MWAsdBcHemWXMUY4P6uvb35v0eEvcN0k\n",
       "tkilwL+JBCT07xOxVnlTT9ltaqm/VsFHFKtLRjVipuO/Zo6tlT76BAJe3V+4/q/voj0tnDAOdbvb\n",
       "W89ZPqwIYKHlmjLUDZXKjTYumhhy6dUd9VNUrd+hStY50sAXyj2dRSEMKuX4Td8GmlNToGbCVSa3\n",
       "IwoGQpkmAnmq1ctagymdg/Vd8Sva4l19yRJ0wwzo8aNp5t3t4oMZu6sibSUcEi1datvtP8sBIqkN\n",
       "LkWB041TxW9eXy3epAdRU6iTK9a+5t4xUZLBm+eSjMO7Sv3lwqYWgz98N8+a8u7ybtOKrlW/laTZ\n",
       "fkp9TWAPL1EL5I/eemHS3xocj1tqpBUTVNhAznNFk5LKHppFWWefBkIMSwGpVR8fLjSRLs5q7uhW\n",
       "hD9teqApA5S6POIrlotFw5GbAjTC4PtyIRrjRQ9oAoxR2xOKI31W5WEpHAXoFmG0EzoS76MazJBQ\n",
       "Y+7j5lUpcye5ya7/MxEQH82VWcQZJhguDVGfcGhrT5O8pa6d23Cjum5T8psfG/gnlzYetrCfLItL\n",
       "I6e9s/4C0NyYkse8JRHcI9L/bK07dFG8VMRGYOfEz+dE+ScPZD5763mnXlQ9AkmB6SGuEcBK3vBq\n",
       "VhEnIXDMW3tz22DznanilJsC7YJjEXZ89S/S1V0GCETFE66rfhEh3VqDMTHHbUvvzjGsTO62Zs6J\n",
       "m9X7pOz/bnlePU6KMsOzJbPVaw1isDHCqDiBAonma3l4TV9i3Wc+sWrse2ckMTjICHuA7aEpCTI8\n",
       "L/UveZvD65ZUkz9PTonZqFtC4dmFOLNhlloJN7cwmJJX0UI3+ZliuOMsnvn/BBHlRM/IB2+e1tS/\n",
       "nF/1xuyMubdMDdqxz7GAXA5IrmZyUpPYNa6NG7BX8vEXR5A4ZV4IVrgznyB1qrTxdYB0KixOXYNc\n",
       "LNTjbveGVQhZYQzYImObZnqU9UrQ6eYd5sSQ2gZsnYmrp3b2MmE3G8ISE8D3urA7q6Z3Kxf0yYyZ\n",
       "lN725iT9tqZNuznFKr99qx775sIiU8wNV+A9PMvBATWMHjqPLg9UsxodlhWQYPn5MCifb4puCKUl\n",
       "jZR0ruY9PY4MRRPnX24//UTdgdlxHzWTv/WXa5KrmtnUA/ocp8asx0ldjWDx5DWBxqmdy4BpaHBb\n",
       "RjLtwG8CtqHDWLQWWWGiqtdogpYNBHtT/ts07mRkb6tqEk3qipPom3xE3LsmqfPlmnvWYu+8x5fb\n",
       "29fFtZWWSMpNdyVpip4aMTZydSEmHGcXRZ3g55ePlYfGMnOyyVGZelg9s/SUyJqY2PAMmcO0rzWM\n",
       "gY7Dx2aAAUMtOMqzKgil+NCRe+MOfJZ0wqxhuXjOZZOWljwautM+j43Fn1HcPV08MpL93u5MR+Te\n",
       "8K8n746loIlQlk0VZX46awWL3GDCL41R8cN085gK+Rzxfwlxg06ijj683qU8jcEuk3SpIY5noLzV\n",
       "eWrgGHT6hFdqC+voe1iF69pfWUS6vycHm/HBgKwWCxJ0rfv/oFHl8MzOrM5JPy4FPyuT+JrRqmcL\n",
       "2MtJo8qIFP+XCFqDwXFDMPupCkPuDVjXpElxxjalD8f1t3IlI/7Py1C61aZmYtNEfND4yf+XUuXV\n",
       "5/JNbeo1/O7hC7CZqn/NhJTznDyh3cybP1OypSz9pFpBPOr4IlLAR0Nn0eh7tYf4K88VViTaBX/e\n",
       "rDWPuDLwFX6/oueWchNpC1F4eITn+p35Y8e9hcH0gQYJk7+BmPhyj8PtbmHON+LRVp6zmmWjsG75\n",
       "pIRQo46WDwhjhmfdh58Zlh8bDsOUGyrjveQE4Cm/qJnSh25HNmmtq9PGfGfFUBGJK6GsZ7OFg9aw\n",
       "uzdsLT4b7luuhhJGXZ4BRH6AYUTQI9yTzxDQKqMep3SVhAGwnfKSbPGBt/NNl9j1ESgp+j8333yj\n",
       "J6O10IDQzAIMiwUvFVz2uLwordRn015V3Yh8G2rkIunj18sfRWU6Kjyz32LtN7yl4ZIMPI7W+EwE\n",
       "hbocXOlK473BvXMXK7XJy4wuMHb5l5680iwrGFgAmUX3n0kPdVcJR1249QAKjH9+04mp2MXZqjC0\n",
       "ipjqIBWxAAAGV0GaY0nhDyZTAh///qmWAAADAAYEukX3sAH895uBAqMP2jJNWbp+XJ3RcfZCfHDn\n",
       "zLxgudLbZ/w0Qjjr7xYwt1ruLBnJLf7K+/cw8YrOxt+xeqa3wftuHx7ee6yoG8gld8Mz91QS8e7y\n",
       "IOdq8PYF4vfA4mXG2eu9gsVXIMwJNDYAn7HUm1+703jhFjnMSdb16EubCcVf6K4YoQBKId/F8qvw\n",
       "JMMWuiRwPOobK2gPTzqTzFWlGLFDwzfI3jwmez/T7Mk+MiesAJQ3Aua1xCzZwnpda3Kp6q5smSVk\n",
       "eeMJSwP50kEmwjF6NyKZy/TsCRHnsRAB1YLNUOEpMTH9g+N3JVrC/eas5MjYtLZIL0E3ADwKRr0s\n",
       "T+LwB+TanTyqu5qn9GHBarqZ8ro0LzmEoxuY27TH9ylh5fxzx4VBOrjOSdH12V8SPn12FCKSaolt\n",
       "4L7/05FwWBTklWW1IhSoXxyq0xUj87ncOeEda5/wchP/9oA0uIPTAO+VqjCN0O5fTAAhVR/suAqw\n",
       "PjA4HCgJMof6sHEAaeYLG08wWnNuUYPnbRe6t2U5UT30PuqrVMWjUnbrnaI4UO4nGPES6rUCpMrB\n",
       "r107PcGaLC67Kp2jrB57q9mK51ni1SmuS5DEMY4aiv2g1XaaGMKNZc9yTL+YJjNGnOchdP1HOUPN\n",
       "ncXsvhoq8lQcVFZ+BOW64UvdaTIlmnSecf6MMzR2ik1Y6xfxW1K2y41lCzHRGtvcTXCK8WtHW59Y\n",
       "+MhLN9DPHktbco7fkcUGozwkp2zdFCHRgqRkvFvZecyW5Bajtq0KTSGdtQmVNh4c96xjjfEMJaAX\n",
       "+kmzgHBT3Ou/DIFTWKSCL4m+8KIeiJ5fDB4NaF9j8HQZIjT5tT8LjNffNe6pNbP5tb26/+eHmv5Q\n",
       "GK47R7YziCwp8xfJuJKhszWhq04/T+QmQ3w20aT3yQSX4zrfBzYhos6SrzbsDAddGrOiq5DpQb0v\n",
       "OnHAmwShBTD7TSAb3bpw8yR3vLprePrC1nCTa0Uqe6+mWEoUJkTu0Fo+0xdvKSCU1rrSbHTf0KC8\n",
       "ua0AqCnppVbsbuGTN6EuNXkcdsuCJBAiqd1dmtv8Tt+3zbhEOX6kacrgac0A5kM73AoDGiWmAbgp\n",
       "KhyZ4QhOn2X1iitSY1IedSdbkOPYeIc4TswPHZxoLByv1/3cgN9k+ULnBml8roEUWdiHddcUAYQF\n",
       "q2WqjThkBuKqua573q36w2HSckxhjLL2GR5AMbtYYkCIVTJkj390wS7wz2yyhjoUcXP6ouXqp2+I\n",
       "W4Q8dxWIpm4MLnCrSFAl+pQeQs8FNBn/UzwNghDXP/T8azyl7f0j0qsx7o3cOOxr7xHvB/SkAxMS\n",
       "nSIWgYu2S+DQ+1EIZSpmaep3IMgcmBB9/eggh8672xpHX8GuQvvVgfrbK6ou7+O6AL2rdEChuasR\n",
       "KhEo3do/etXHytBXVN4lSNP9sCpU/TOm263DJzAPZl0DwygmXUVxNRvcQ0KkIvx0WcA94XYUOg+/\n",
       "5bgYqqzFI2q7OAqU6K7cim9d8BXT7wpJP5KSm9ocNKDaLjH9NaxSCoXvj1CkP5mMhRuD+gTv+OV7\n",
       "vMd+tApmunrERmktG7HAO/aAzAAnuWwLlWfs6NDzD0Bh8y04xk/8ken5+/62HtVPyJ/BleFBjTDi\n",
       "H6taZuXLSa8Do+7hza0cZL2B54JuMMKIZEsDDI0AkHbZbLBDX+x1+1+2ERymZOmAcIs3Lv5E1woG\n",
       "3ZTQYw7UgmQEXZ1765+YSmBip5I92FHB7bDNeQOXfLqlgB4RDxLMXhOoMxCHFXo1XCBfyvDCZHEv\n",
       "wZUGsE9RY15SDSwvQgE1xfVWWVYYtF/Cus+ghE8cpdFBn0D91d3rUH20kqlnp8qoAx0G+vm6aBeu\n",
       "kC8oolOaJ0UGiL0SgWlgXteDX8rFdA7YI33N8o4RBujbmjfe5w7hKTlSZS4UvFOQkLGQv1Y6xd8H\n",
       "Wc9o/3DHF2VTRdYIWWKkpaOXZ6IbpojfP3zgA9+EAHVg120SlU4qtGqje5NSUeBuldWmAGOR4CZB\n",
       "8hlPEgvAb4eQsyHPjvELx4bbPPsgkIFtMiU6b1lNwHpXAGoNbmz4WdV8p9eDPSE5p6KoAz1B2PBJ\n",
       "6ybHI761grxyFZBCVeckr2WkI8pqkAYYO8HrVxVC/+7JV223ZQAABfNBmoRJ4Q8mUwIf//6plgAA\n",
       "AwAGAW84hFaJHABdR6X8YIqHZUCG30hOgJ/yB5GsvXW3G4tRPQZJbDIWEnPyP9kX0awIyQM3CVIy\n",
       "8puHAGxbSLGCFf3rMQCX10WnPvneeo+7gj36yh1WYu3/LbxPrJFLK5CST74376YLVLDdAVezguor\n",
       "oCdiV8d/Jqyu4GaYPPDiHiSsS6r1Sojn5Ad7YaMb0fXwVPXTHZW4XVCOGAlNIZixGvgP9hpSsxHs\n",
       "oFnNBQaQU3q3d+ILbgkOvJ9gv9HP5SzVOCQ4ZOq0HgambOrvCt6E+Z7STeDRFQmFsscKly06tTGQ\n",
       "lAqH6805KzxDN1tQc+lv2R0RTKq35MFpTQVL1YXL4blio+KQZedEWlTuBj+AUryUbMwr7UlGb6ex\n",
       "sf+r/tDSshHiEBMbQhPpvvETfV5Y/4fgB9eHmSETg8g80Hk9crfiOkT7bwRur18PHxbFnvVUvtRP\n",
       "bI5S7GY61a4KbepKCSpkvoBfoX36zUjhL2ObrF15/+fsocg+Q9pzyT4B/HozstvEtMPjs5GjBcwc\n",
       "6AZvi7o20zSRzrOiucR/H/WnT8rroSUXBDBbGf1Zyyv9Twx2b4LFbvT/0kd2DLmqQXvsIKQwUZEG\n",
       "gwz7XVvs+vLbTPSN5mbq9ZOFBHniB6cA9HUBHJiKs6wXeXB3a3t9HA/atQLXdSt2nkinTYJXNpvq\n",
       "AjCUn850lWVBVapsBjAp/1Dw+LNZGoRqDjd9pbvgsrk5kGERkOwLGd32cAetHUkMvviZLv2+zyxB\n",
       "60oJNiBiuqoQSQzpvRM9lHnPT7vGF+dbkx6yey8AB6xuEb4axPQy2+9ebTosSB559tSOp3vh3ifB\n",
       "2KK7FkIiRBb12n/tKh3kZjjTAi6bW7rZGrqCUHFamJijYmI897+VKZ2U+++daoLusQf3M1dDhcP7\n",
       "hqKwc0QLLrk5GM+PRQiovpz2050hy80xfCXl070YLpBKy1mUhGGXdLkubaPDEkrnTLOnVh+OWZj7\n",
       "SgycVzflwmRwUFk3AJhXLiFuFYd/JSdzSaUn+yrssP10KRSKGe3AKFAnUAlvIEhN/m7UuNsQx4uA\n",
       "Hk4wT8RDHhokeEDQeu+hQuxt1neuyj9q9MvXwg3Nkjom91ojnQWwlvY8Q5QNS8SzQYxP4Pt7cqXT\n",
       "HVdWUlNpSTIfIx7Wbuii5TaZGcwkE0WBYJAajNsaDIokKBYW61nZ2KqQj0tKIpmN1ogIAYNgj4T7\n",
       "Ulj676Fo726Zhyq5kVVN5JuODfP+9ih+Kt+Voeed7zP05lBMfN597GXNYETEyfxmkUXtQEMrqtDA\n",
       "QAO6SQwLluM2OCOsBbKEe5NDnuHqfYfz0/5jZ57yWLGTtbWCqu0eixHXk/VWiZ6YbtszrWQL42fG\n",
       "NkVEg9NmCHl/fghYT7ItBjYpBIZPYGP9402QStNvPVYr0zGGUodoTmsfbeVVUSLvI5oJimUbyvHy\n",
       "566mt3xB7xUB6SbYNUdrMKJVCrsNt/kQDLugyVcJvRuP+JB4ojtf9eE8A0Ru9E0b2hXaif5xe5RO\n",
       "j2PwnVz+jxZEN4a9Lz+EYzigGpfl9Q2RRGWdYCBb0VFcf5MNY9QaOtX0iQHpcT0eFeTMoXzHeBDU\n",
       "YpfPsSEd3TGURqkWQ7TBLW8XBx94nXZrH7Eiew1uUy9E8x5q9jbYkIf0W4Ub5ijJqxiGw9wnH+DS\n",
       "eJJOi3pjlPqz6QGdzQoASZl2IkzCtwuaLvTn8fbifgFAOHUJsnaRnIIr+SB+FkmzUiRUBIJ52Ny2\n",
       "/P7R58OObJ/2SoQBGERNAwA26kVMmMqqNYlyzbSbaCoziasFnnYxuiK2w9pmDnguYvdv9m213GUZ\n",
       "epZhlgT38S/fHC8BpJTC3H5WomOFv+IttffFd2riP5Kfp0jXDtuapYatxrKHwjQ9EySRiqEJMXHI\n",
       "7GawVBxMzInSqvuhLgxxcqp4ehFzXJqeBiV3HYiimNVG81RcmxYccyuXYwMLWedpj0b8CwZXkh3f\n",
       "QIDpOz/aXNGvv1Lfi2fw9XJ523tPwcBosQAABVlBmqVJ4Q8mUwIf//6plgAAAwAGBT9raRh4wAbr\n",
       "K/Gmlk2uIsM/28nIGxD3qbgycxLk0bYfM4jucr7gJbIEAYV4T9z8xlBXumDzMPit1FI8VQ7ZWeGe\n",
       "0CVfk0ncXXnEceLu0Z+WuqZpdq03DsScR89xM3PO32cWPodZ6C7936r+yYpjVjga/zPDSF3QecUE\n",
       "2gIEFOilEndkUkoibJ1MklhkNxzrQ1dzxDZ6d1GZL5DcCqtGBrE27iXxQkuu52qz+Cgm3moUNEx9\n",
       "+FZx9d4/VNT6nURiQizlf3Jz9FZipWoueSF/xqouLvr6hRU1T1zdjJgWUVr2Ps4ngYH7TnQW1TBU\n",
       "GpKTGtQEWeBIfukamKV5cWd5lwV314d8NYev/Y0eNmI575VtsEpoPUPJNjmru5HD1CJeF0TgMDq3\n",
       "HGwK5Ds3aOb4cnzc/cyaHjYNU/5CPTaPAdnysIzZVXknIuumOgnxaEc1H47BgXtYJ7O24NYF5uKn\n",
       "YP8HxXpOSsvkVdLHGUkKyL6E7kt5rKuzLvOeRYJZ2vvMwxlCUiwj/NTaDfDaRBb7554HKVgUtD2E\n",
       "J263xIqHDkDAMNLoHQFvmckYOp7j+B6iTzuvRPdd6gQ7vHQq+kNOqVWZ+f1ZtyhNVw2xeGZey3t+\n",
       "dTb7EajFbI3OzhpvY66kuWrw6I1WX+EEOHzho1uSnVgGvkPuTqahBFdp0sXknvvqmvODtJEgwS/0\n",
       "3zidImhb0+NE5aLjVyh1Fw+Q3Y4ZN4msR39Z2+I8+mIm1p8JdLXpwOjWtd1KF/jksUosgi/NOp+R\n",
       "vDsL1OMZ7hyhzNedehc5BcXkTJHNWBK/byT1z/waTkOKGKYNq2tdOTdidLNw1OIgzOB7HsLYUzri\n",
       "OOjo3KjrgRwoQAkIFRoHRJGo1npYgMduZ2wocIYL0nvhohTYPMiKQTLPQtlhVNhmqPccYm50tgct\n",
       "t6MANdSqTju02uQ4AOxPt4V4jZRwfhxQ8mjud2to5kNIRdmEMFXJU5c6GIfh2B9lvGxAGCNybHkX\n",
       "N284R1tHeMwPaJWyv+RtHGEmIfG0Mzc+s4WWK6uRreJfE4lS60rF+Wsa1Wk8oWGYWm/edK3iBSni\n",
       "LK61E+MqY4FJuEQ95a190vCkwM5BlSXIZ0F63Zwpx5S1jriSWUPJ2yGYUxQnrExM4aWq9KsRvvl8\n",
       "lgFhSucVnEftn78a5zZJG8ByHk73FEdkc4h1FeI2icNshRxDAbFt4lajmjY1fVhqstHP157QCSW7\n",
       "xn/X/vHuoTTS2E3zSXHD9WK4PnE/TB5/3lexwm1IfyaYkBq2yx3cpJsZJE1vTi1V3IZiGban/k5v\n",
       "UrXDrBklBhhJpEtHCbhhwXHqMAknmFiPODWak1Uk4upYlZykGUUqe/+k/uLE/JpVbH0mOZxtQvT8\n",
       "MBCLP/EDD/RIBsnXAizwbHOQhzxlWMwFF7JVs31PWANVK7uR4hWgO2DbusIz6OoEIVoBXJNrXD/b\n",
       "EYdQTQUwDcEHNez2IKvWag5kTq7ldKqUV/UwoMPFDu1jOonfFGufM+Cu5/Roy2nvjTDu99ysY4W3\n",
       "O1WrqVUy/6lbosLGThUPTxaQhCRFhEHLLOk1+R4HMFBp0tWoiE5fusn6i3i3tciUdfkI+JlvqEI/\n",
       "iVzl6eGmdiaitQAJIS0WBq96mC4AF0otBse0F69CZjrHnokMq5M6hzA67iqSAa4nNbw4CwlEK0qS\n",
       "PvPdc2eTVbEYQeO210kt/2Uucrey6O5fxHP7kNftwW058axm30Xz6QZ47Ba4DLZ6k9tXVqopNExz\n",
       "QEVLvneG/0W3fyU2kv1nvuKKiux0FgBCEefy9QdNAAAGXEGaxknhDyZTAgh//qpVAAADAAGLHuu2\n",
       "ABb14p1QPU7tZTczn3m+PpGJNuSqH01aVXYUZwTSWztGizSwCYaSCAnpMZ6ECwrWsAFHoNA0UY83\n",
       "pcxcoL3YFd/fdsjWUWoddjdzU/2WFguOqufXCi9JJtS6plSEW+u4x8yeBOqf1WTuaMWKPTmovK+P\n",
       "heVUbJHAZmfKfm6rqwWmLjQu7bkOCYyWTRRcdDGyS+YHvMpcOH2Zq/Rkj3lHJOcaF68ARrnZ6M6p\n",
       "mU01wQ8SeNovWD4fVbnutEwZNccDRPsJbgnAaf+Eb+qJZ3rh7AQIqsz2muBO6ZYFTn14lM2f9zOx\n",
       "3BAXR6lSz705NjSLXpuv44EkqnUknyp+BBm7uCoLTyTBSn44j5cJ0FEvA8oJosY9JaSYR7utWdOb\n",
       "ACLl5r01hAZAonub5orEyeQ6XWsh6ij0sJj/llYGhRSrljqiuARummEkBRwWONzRcCAkoD9I3XI6\n",
       "gyzJqSoU7Ljjll6mDsPSA0QXKLgQXqE2CVthBfUoR8eZG49IYt5xjGT7YCH5hXI0sTaE49aBO6Pe\n",
       "Fi2XEyRlNtKMfWy6rxmbPOR1eToLFS37E+DkDZM+Wk5GJD57ddtEmnk1LgJlR2k+NhRkHNxzsbsg\n",
       "11raBEO0/G5y8hc5cJhKCNNq3+gST/CGU+ho9SHW+pFP4sDgFcXRT+aUi5oxfu0/MZCpouOcgnoN\n",
       "DnV7QlLsRlRLjC9xp2ZuZsjqd9bgCW478+qkVuSDFKW20Nw2KyVbqMZC8sPzCnK7COeJ3dp6tGg9\n",
       "UCZGAJYtbBUFDZ7Z+kF4d4oLfCUFqMqiO28hM4F3p+R/Eq55wWqyUUkSc38e1yayF8UsM5uWqwZx\n",
       "fHFto+1bSlTcqQeBATVyWG3FQAyP/D/sevU7a+GBF4BruH4Dthvk831aCPnvQ6plK5ykVM4m3Wpw\n",
       "KCOWtWr2H6T0HG9JUzgU/TCuiGf9csAITM4wnBqwI3D4s8PJxzzD5Pot7hdWauDm5le2jzINo6xA\n",
       "hR4gYl5jLKdyNam+oiZAtk+qBuqbNfrJ3wccIwFtodMg2r0Syf/JKOoNuXZxg7c8+j5R5P2oS9na\n",
       "Ud0WI2YnuOUfOn+8dCUuYiD1QdbSl1jo9Y0GgNhNJhh5QDE2ISmestubPw4taZkaSiCXlqkCj0Gg\n",
       "DBF/XHwdXdngr56ZFBLvYDHnxCqrDp4Qp5mC6qs18bqxlhdxGQa8Mj01O9pmp/A9CKnoRzk0ob1M\n",
       "wKEVbjRltoo6LZhSdkBJBcecCuaR0r+x/oSI0x7yGY7/jssSkUvDcqK2wldGx2SOYQmbEQcgSs/5\n",
       "ngk8NN01wDekAcqTPeGVLYAepMMm5g5yB0Z2KIj7KT7bH8QC6SpSHyYRPFSvW1XF5rNaQInc2YTt\n",
       "U8lXeTsRptYgVYi0wzqyhGDT+zwJItNAHYNZ/OIpEzpA3vYS7QXSSKH+PPUgx3oKeTp4Hxlg3/US\n",
       "dXoFBWbw7Zb1zIbohxnOKue/3SuGsQQS0upBUGcGAxrwkX/V+StLYaKT7+QQA2ApxfhZBXtt2va2\n",
       "k7G4v2OLW6cCP7iHmhzPJQxNyhJlpPyVgGqCwreoRpCRGnQDA1piNlP7f+ZVx1HVR6Mf0TrxtHG6\n",
       "SEzjSIZcAKfDm1T3oVPaRb9VDjxwQIDyFW5FcaLTmDgvFNGJSYbBpbk/yU5WOrJnTqO9E3Rq81x/\n",
       "ZQiNgfXyfBqLCQHrihSQeZP3YIsWFgVZZM5Au+XYXXXeVchAoNXKw/cxAnxaR87Zz5XvSpeaWMec\n",
       "SHBMM1M6WPYJVsTn9U/gndPVZixkM+eWPw/XumPIntyTn0eYwMCqyBZkBmZPXb4VMppX4nnHzVNT\n",
       "CN1UjXBPo4DAfDpDVy9FizQpaLxg6EaL8wLcSUe4VOdpUo1ISgvUYtn/kTAB5+5pFRTfcqZYLJp1\n",
       "p2hhqtreJ/7BDyTsiOWl+uImuCTdhMEqXDO2x4QQCIg0FQUtTO008p5j3uTv40FuNoIb04ISe/lT\n",
       "2+y6hBwBTg8D62EHWewCOLMFuw8fmbyxb4p6a2rXtHMvsLkr2TT8doPJ7r8xO5RuxBGny+FiF7Y9\n",
       "yEPM2IG1RJ+GSnwO/rxd04qPLRncH+vOBLrAAh15+kvEaa816A/oOC8PAS3zdlHtXz8AAMKjaCaY\n",
       "zY0ltjtvMAGBAAAGeEGa50nhDyZTAgh//qpVAAADAAGLK50j3AAt5Btrg//0+Zkmqt9dxUWRQkIf\n",
       "XdRN1M3FN2Jv7Z7+n8jDen32X3fHKUWdee0sIc99Z/gU2Co2R/8v0Chwax48m5nBRDRwpc5xO533\n",
       "Y3j85ZpwicLe+NTS/vJ1WSfzySxN3jANkige/QE861CsbTGxG9CwNSDqOfJEjxKib6iuorUKtSlk\n",
       "kyviKuHxtjjAkxDqHdg84ICdeKINDeK5R36vzh3HSyIIt9Wf/ab8piA5RNO7NTCN1lnabVwl7DkH\n",
       "BvekEna73NFUU+iX2wC8d9tDNYwVG6FxAd/NPq5/qUKU4IDjGEnnqp4EA9CyIeczxaDrroNvMhAd\n",
       "nZsBjlgfUKlggujB7HHUdxi9X26WtmEENekpTvl5tk+ImXazSSf7jsVCFyE4Q6KC2Sf3CK9Q8tZt\n",
       "kJVSvTby5d3I7gReNINojZoLvjYkduihGrKABAHb5AL6/q3K1OYd+zCqTTwrZLAMppsht3jPZAk1\n",
       "NU2Ph9WKa3FvRWfEuVdIDebmXR+j2QHvziVP3OdTwAKXYJaZdWeH7LJ99/h1tsIaCdyuCYuT1HXI\n",
       "4k00Ah4/gpNvgEXnPoeUavvSz93JSp/w1PvlugCBXE2QpT22zRq+e7NLwdEr+QxoB1gA7PDmEozK\n",
       "95MXnVWXChVKCr5Z5oLrtNiA6i1lWcoxvtJzV2m7Ejlrlmfi/I62KvNBpXjeIooHjw1S/sTJDsdJ\n",
       "WYKfvU2h++O/SwK17kHlLXcEN/vw2n3WQcs6OFLL3TMqZFasf2TawnZbsq/Q0rUxQ6KbPDji8jvU\n",
       "YbwiVvnfNg7y3E7o96WmFRIMPL7YGIIGqbOkrouvxB/Jw4EhQNkbcbleA+hmJg7IDawye0K9h4Oi\n",
       "Eb43kzHyuCWJiViM4Ab12hcOTywoaBeCFFmRRcs0vAnGMlarQ9QwXYb7kvoYLr2leJoFsBZG73Sx\n",
       "OvTQImNKJsUb6pBUJJJqGvbUSnKYrXyc21d2pRBAR8foQb+lKoOwnsEl5HSpk8XsLKugYTZ6EkFe\n",
       "ENR2M7KxMqzdoJuKAiTJSCZdVU9LUQgize2VZt/7jQ82jlQyfOncs2TXh0ipjd/XQwQui6jwMjh0\n",
       "X8uYRLoI+/vyZhdwkiuSFPYMWgx3cOFz9ksGAYziOe09o/bQ9OKqjVHiWXBNFUAZh6C7b/9UZZJx\n",
       "wTrTDvi93LDzK1WB4SDyyhzDDv4t/Ba6zjcCapdIjsvT87bqrKW0LP6ecakW8CI8p5ovwh9n+qRH\n",
       "uK6yABojELr6yWugc92Z3XxFE6ouHNy5sd5hR/6oD4C+8mxODockz7QAkuhDFxm3Nkutu2LN8NLt\n",
       "Yjk02LgaX3bS7aw2OoSv0H4MJc+3nAZhI86XuD7Rk3jt75Cda3mNEnPUP51ZRSCYuHwH97j7xD5j\n",
       "h2xXEdxBxN80ul2oPsQ5+ubD52+eMss49g5r+az8YlqoImfVf7iDoYYkDf6/gfszbFOZ9alqtQRc\n",
       "A+chFGl4JQ6QkH3CKALwK+mAIEYn8sG0AQBPf8rkhG1el2JvLUn4G4okeqrTZr7i6dKjgklGDj0h\n",
       "UIZARjgqjLxDNgfEAoE2LxGQh+fmmm+cTIJ5FInPX0oyBbDvOOH8fdQhf4Cvr5NB/0q/CEdcppWn\n",
       "Ni9L4LYXD+mgivlrAbVxmF43FThF21Gv9IZAV7KDU5RFQiiCIWQvFaadQFu2wdyyCyl6s1HctLLn\n",
       "1eitqqdKjwE7kO2tq5NSdFdiwxbbc8KWW7ZjeysUVAk9AQtn7w9mUaPmWlWyPbMjVTOFfCTmD7Fb\n",
       "1DyoQ61JSlTdLQ6PhTymQA4LQaGnIAPjGg6kO1RO2sgXYEjBmEUPaNMk91OJU83xhPIc4gktJNrw\n",
       "PQFUJ1PyJ6Q7GEFjoyGasJzswZF3M+il2WNvvb2Xy8tEElbYtekq3bbXiQY8ywM8+NYOcLKDKuyZ\n",
       "r2UBTpDiZ35NAHj0Idq/sOeg4zPasM7CVJIV4qu1YefsrgLMXj8/JqHoGE4dMOQEJukBI+i32QIC\n",
       "94e8LFl6OEwoUmOf/dsK/Y1omONZxmEYb8HSt/x5SI1xCCwIDWSwnUQqwBQuPh7rH79g8QhgIN5q\n",
       "FEdzyDTc8qESY3EeKGb81AzWg66k82zDRfEvU7VO/W1olpy0E0ULuRKbgTavLUNdh2pnFcuNuFJF\n",
       "ASY+NX3xodFcnrEAKAT/3QAABoZBmwhJ4Q8mUwIIf/6qVQAAAwABiynhVwATt8mcZv7Xmbo48oW3\n",
       "w5kK9RhRLK5LBy7F4nTThGdkOK4hRM/3jKQj/MSzh6fsI8gEnplqOePNqUPGJkrEkX2AGReoGV35\n",
       "cozTz1rxcna5y9iY4wFGkxAvv51U7wRbxyEb8V6+3R+LcCUormRgRNz8Q8roLmOFlw2Ck7vOktwn\n",
       "VwLIbb9/UITPd04XrNQnDZp9czglkoHZU6qfly074Dqag7UW6N7wkvBibzU+lGZAovUvNodY7a/T\n",
       "Z0CK8B1VWUYO6bq8QOE8BfVHkmSqxIjjXFrbjtgPbNAm8RrMvnJOXYhV3yyfiUP+vQp8DawdQDVn\n",
       "lqm97N3ybadJTh+fPOURQ01c3Uf07JmJT7GjsVly7YYHwAs6m1m8a0eAyT8eLCAsrxn+a/uwT6IO\n",
       "5wASewgW6Tisvd4/8/vk1Mv8JM4BxnWOnrWCiutK2RR7WasOJkZm3raT6Lk4b4v0JcXQGT278pEO\n",
       "SXk5y9zK/fTUJv8qmnw0ujkPVciS7IEUNEKs9R1mRazAWg02rQiKJ91XrAnEk2GaVObkeiAeILrs\n",
       "imclZzRWeWcxh/TZbEgPUNc/kaaINuGWvj6Ndmo8pWftjiFcw7iAt35Elr2nkfK+m4SlITfc63te\n",
       "kAH5RFeHq4OfFHWLgu0WzxaZs9CqwuwPmTG2v42nRJCshYa8gzHR8+KgsdIv1j/PYYywV08sp+Mq\n",
       "BNsnI5sIwHXBaJOM5I4eJY5PF22OkiVCtGZMyk2zeWIYhGinEbKLGsN9xwhPZl0znjAIQd0RxIOq\n",
       "FzLffns3YNvV23XHtUBaCoXb06KhZRHovT3048hf5ov3AgXfyd8KdiKmXwMJHUmBjSFCZC89hhUd\n",
       "3Q64VyLGjfjLMd4eTNjelbgPYNv+LMLe/6zoOzMNk1K2TxonwQ9iuA0oq1jlqmSXQL1fvfhNiDH9\n",
       "00wDbPDdzzRyiYN5zAe/YBabUvEKtpdNk0oqLg8YZJFDPO0OKF6t5FmwHD7B9WHJSxFGYQRvaJ/E\n",
       "fOgqr8QfwrRWfz96Pyd2TD1BU0vY/LfMYAoOcWxl8VPOOdqoitu77ZjvBKHHcfCl+nxt0/AVh9No\n",
       "PqVeVFjoUzbOV7xgZjc4u7Q2yMMOqHuo7NJS/V4UTUMzkexN1mYgGAkiGRgo8tn5Ld/7J4dWqs58\n",
       "c97/qi4ALWav7OWbNIV+tEYgJFR7rHiNlh9MHfVOQKQ59QmMutFsmmA0ybmTp5Gc5EkrK2yQygqF\n",
       "t/akBNeQ+g4faLxL3Mf+M/Tf2KFaj0R7q1MSoPaMIZQ4cES7rE8ggMqjZmGl9U1BeEfPLHGDOT/b\n",
       "mpVD1QFrsDjGYtqtIF4wPsEFKhRO8auXVX9hu7kDeOnU0ZTMOUyzHqfIHHTcM1T/IP918oEuRBHA\n",
       "eUqCQtiVC6yeS+159pcPxGxKaTXnCwmgePQt7dQCfW05kR1GElZbQdMGjw5VTES4VFFVozMqzHXV\n",
       "0mhuNjgP7nE0Iyynb14mEKmhAtThBRIIdq97AY1Zv39kjF6EK6+2Gg50FhyRQBkVst4Z2yjiCimp\n",
       "ySvGHOcvP0Yya1n85HIGT9VE6VXwDIZ03yu8slcN4454wd6uL7k3ZPcA5JnhJWowHJSEO64bgU3Y\n",
       "1kXnU2WK9Ghy6J2PJDdxh+OyflFvXhvVOYR3azh2RZSGbZ3+U2rVBf7Dd3lY4nvZ5P1PauhzULhO\n",
       "N/02vE0zk1auO9pBwNfmB8Zg0/KAKnwlamnu8tvqEYDzBZEFvcIwZwD3aKnQmuaLTkU+z0IkxkB6\n",
       "v2GMLvsrD7I0oYub/3nrX50ZHv/iW3s+Re2mQzUXzEdNZOSfcUfQRqEUU4R+itmw+ZzDM5de+3zW\n",
       "x3vl54tMv/QPcn+fofls5UTY2LXoHXtwpLwHUL1QAxPY7otaE1G+nfu8QCAnQNf3hPh+gHqKDkxx\n",
       "jKdGfAjZNiK1jEk/nw0YHcMxq2SC2yhUYJQmOH8jWg61RL1QplR+E71I3CYNeRkt4T7p0mJFLHaA\n",
       "/YFJZh4DhI45QOodP/aOdOLxzlchzjoH+JluezeEy+GaG08DMO0UMHCwMLWCWB2bc3Hk4PlnbBJz\n",
       "lKWg3tcyCEqXrJE8rpffAkuPmZHaUxD6+LhsKRCaBPN1JidVQ3nvLGrXMato7XhH8E+a8KlFuMDj\n",
       "OiDDbrpEpA+tN0JGW28s0ikk/O/7f+kzKAT944EYutOBFziu4AAABr9BmytJ4Q8mUwIIf/6qVQAA\n",
       "AwAhPLn8YXMBUAFSfPduY89ma9FGvvPY2oNdug7vLwYMMDq34KSVtfUX+7WIA0/ZYaOJZX/2Gzmq\n",
       "UkuKgzJwTv5n12CAQpRPTd2dPzBQFUPGfnldACBDToLwvUp2E4QuHdUhtRZfmdtuwqFOvBwOXvrz\n",
       "0KI0FM20vG7ggm4qwxXaSl8aY6q1AJpvgPdinsZi7H3h1PpvzSrNS6ElUbHjJo9rlitfWVSR3gBc\n",
       "xs3vh9czy1OeAApvMX28xeVW4NoYFdncV5sX3uqFG21NovkBpAOZ8Nyk1X9b7XH6z1mMe+gJfBMA\n",
       "my8s8YCe2sWzABfZqX6qUVksEADxU2OdIf89LX3CtqMd+G2eKoCtUwSLdZElUSBWm6J6XnzlZ0/9\n",
       "Cdzqi/3Dzw05UmWDf9gdf6xG2DawYWT8254e4g0zAeUQhsxR7/sqV28iRW8n4Kp438ZCYbJINQk/\n",
       "UV0Vq/+N9LddAomB7TpI2Rl11s39twrS6NAMXGvB4WT+nZ8QDneTQyqEOPLDB8TX6S8qwXvLgAmM\n",
       "1xb/tiKrVyz5G3GwMRF96NGgkA1X1TWcaFVgPhxZCUnyOq5rRfVOQxOwvjzyr7jv7nIe6W8w6s3k\n",
       "W8Ihya9h8aQL57CS8fz9H58wUacofYNzupUOa0Ji39rjOVrwmUXK4dBPF1kSCUuShdjbwohoDzAM\n",
       "IsPS3+UklImlH2WoRH7W6QvBCmlVQvIhN7pN0a6Nqnk+KSSf8K/bTbeNkvnNRcar8TlbD/utxcI5\n",
       "g0rHPeWnWcuO+6Ge0zjZRmD2SIorAvfUI4vjXNHf9mief/PnJfizC//dLHw/yzfZ3r0WBcWg3TLQ\n",
       "qu6xjxBcJyJy+wbX4uMPCS21rkkKowtC2heqQRahYnGymjlX5+oGpuKylxILIpTEdeNCnF1tnGtk\n",
       "Q19Deqx9kPLyeCAXYOTL6/11+PhMRuxLXWwJLDlinImTQkmaAe2e6dcnOnDyGdrzEWSfGgo/cJ8n\n",
       "mcL5Y/3BMndKJ7g+/uXVNRNRI0hVVZ/SBkXa4Xmsl0KgOZKWl1fON4zzh8rIBAjkSuKayO57OEr/\n",
       "DgXaWoyK4dUnLnPGa26qFx91KUEp/l7q/6pYPzy5XKUiFNQ+9Halq6GS5SRRGQd0YMYH4fFdPrnu\n",
       "Hf6HMawuI7JtMp9ok6MqAzELqlohmSMRW3HnuoDjOap3kAw1uDBLXK+tu3baGzhW7JxZDfUfVfGq\n",
       "yNXjTnUVIFb+i2XSqe92ShT37AmS7p77bxpsRFBGhRB40uh8M8RytXt4tz396AzewlbeyhMQVHvE\n",
       "YUNyIiDq1VQytLcs5J1LTcTs6CvXvekeIIJIcyN1hsxXHZjqsKBr/C4duw82jvo/Tjtu9jDkBx1R\n",
       "2wHz+roaChsnwtCmkpHzSjGklhkShMc3KxrLhdSy59g6VSLWZnrrfO0sCjnz+4AMXpKeHHzYguI6\n",
       "ExslC+IwM7rsE0PRqGZLmvSKi9aRW5NBa7JN4RZZvtpxpZJjFVmCHMEj+rlFz1lQMC5Mcp1sBjzX\n",
       "wGQ2whiiZaYP/TzkvDXn6xrRjdSy45jZoEqtLA52Kjd0bH1GfjseUTlTgklasZxEPLs5YLSkCeKw\n",
       "Fn+dpqEaksahG3HL8dHVkzXIcb0eq/qiJD374SUYmP5i+ldnjua4GjNU66srPo6fVRZl4NQMdjyU\n",
       "WUTtvOWX8ypLyCK1nDIa6djF1ucCFcISuXN6Gr2yauaS+TgZKHNEom/E+TdM3oxXoL95dtx9zPZb\n",
       "MK73qX1kOBkavSPvOgn2ks7VBOg9Q43YhhR0+4nKqK4roznZUnDj2LuGX2Cc5cKbpOyctStB8tTR\n",
       "ZGqY8tvNNXLpU4GK8klyYuKdBPvsr047P8WS8rnBXBR1zqOzMrPujlX3hNzV8765boUj2bTcDPiS\n",
       "FB5VYm/i4I154+ApEE4kDEC6B9H7ahhGYg4kWLfTy0lXj9GFB1VzlOhVNS1LpEDuOfg5ducbs7zW\n",
       "Ww0GBod7c00hxHERdo1NSy2kg0x5ZqtZ57tcnQO2MTdXKDsWjPNNNm5HyDBBQvOmOnqGrsr2Ut+2\n",
       "muIeKDcSmu5DkhLVh6/fFivAjBWGUwlThb5/m6s3wHpSRSIpB38Gz6G6YcWAEp7TYLcVZChpulCT\n",
       "WLdM5t2C+ZMvatAX/pMmhxLIZf2C4Gd94xfjHKk+3yN7AvSiPNdGB6pgTKGHBl/R6R0Lw62jgEvT\n",
       "Dy1slWYH7BxsPitJWz68EXhV4vGStu73Yoddss6bj1tMbQe/y1FcKLT5pF4Bggf5N/6OnWDR1mDu\n",
       "gAAABmtBn0lFETw3/wAAAwBdHnyOc9TJiJJw601rFe/tla2Zld7ZXv+mnMAEtHCMlL0uZJoDZ4iU\n",
       "JUvwJj7Xa1+WX05ucTqA6AWB8xdW/25c+djqVRrCRJ0Z6kkaYEWjugcNvxOjfIwwqyJaGohrPjbL\n",
       "LPM79UOot5lT4b+30ziSXF+mOyEP44IzfW5OqeoopFgOKtCTQDCuBvC0+R4pnfEvMaIuSZQ2o+9h\n",
       "5/3ks0JsNsPPXsW/HJyHjwCQ76STLVrPIB5d+eZQldllUrngv5z1OB+HFN/MltFX1KX4yRU88OKb\n",
       "2fNdTQBw9Q8bit+xqnY2OC7dlsIBmvcueLZkd3Ik0AjRs4dNoIusdYyJOd/WjCNSqqwSyE2L+/dZ\n",
       "adlQnU8TwFv1omUMOC3WNEzt3vB9eJSLUGBfbmOVScZTcqY7ZtWoJb744to2IHTfyPwdUWrCZKQo\n",
       "T9yrXESkb6SGvVrWDg9lG8RakEAAnARzvnSVdlw17TaY6qJNPimNFy+lRStx5F5saQa9HbDbreD/\n",
       "kenbHr9AXjdC2klgLprJzOdsIgpdEatUE/Ld3SEUEzjiyE1YQjE4zAh9bD62qxCPT+vcjX3olMfZ\n",
       "Y6X8EqtY++Q2pNb9+GrDFFTNUyAUcOMg26jvV0AQzo/uD59qhQBidr8FDo0vNHlm7mN5tmYkRNRI\n",
       "Tdu4u57ypchJx/0TYEjrvOrj24o9czGvTD/mFQxVWJIQH7DQn9uijP/PphBvtCY7Q06/lIU+ctja\n",
       "M8WDE2PDea+prk6iYut2RgSCG/iy6q0cpLTYWxqGvv0nwyGHf99k5u/V3fRkMx/GmIthaFJ5986M\n",
       "jUJF6ZNZg+3b24s9heIkokmeVquwoct4FbdziQrb9iMzA7n7UJeIbDqFhv1nw0Wlh1500Es0d4fc\n",
       "wGHv9uH5qd5LNuBm0/7cW9vEWG6bS9vrMB7f6SdwpZaPuDRsc0fAjRV5shS09WQsBVKFDkwwkFxM\n",
       "35re/t4ezzeHTDANH/r3ulvww/j+ZRDstv9FRBJc5P7tk36hLE5ieIwboQfuka0dteXlGWE3+Kxz\n",
       "QybDPWRCL7maFdXTv54mXhOyY13XGnSiGGDBMvPZ3cCNu4tU4Qc4OsbAgcdPyGrnRW4aN7pXtFS2\n",
       "ks2BjJLySro81n+57eXvSLs3ZmTN166Y+HWVW9Q0rmfRGB9q7zTAjsGuRnBWeovjfxer9GErjiUX\n",
       "N/62wN4funA3YuMbuYnFWLMv/+fHYLJVIYNKWqXt4A0v+YI8V7JMngEP3M9maP96zheV9IeWPQGP\n",
       "ENzZhBrPxgxLo5OxsTbVTRbeNKyGGRKEQayqHxbZxeE4VWbLv0IJLqY27uQAuVf8VelxDAFfrggR\n",
       "0Ag4peRmiVOKlW6g0hu1d0tPCb/JJ0r6unzeRVmeXVmlG7rohGzdckeXm+IQ5X6DdHVyK3Qx3bTk\n",
       "+oexAdzaucDENaQ5rFrFwQEQCt8bHCFddzPRu6RFCmFfvAT5b8VY6uKROmzam07wmVFKTOC4Zqem\n",
       "l/0aRnr3EgQmtsla5xqq8UkcBkKsr0XPYLU3ddRnlmNHr0+yhD4d+PLFMh9Bjp8hTKggE1kRTOog\n",
       "xFR6jSkykDbk+wX6+D6DluNQ1cv4ZwRFm0kUP7CsTTkyS0vDEl6s+5ytKPWqUMYd5P/VO5BpAsAy\n",
       "0SCV9hRSi8hS3YwYL2wxDI5YS1JxhMXfZn46Pq5lNXBiWWTmUihER7HjL5byg60HBnehtAdLKHvY\n",
       "TkD3ipOsMPkB8MaAMibJsF+9YQ9n5q4ki8xmCJVh5MXRoqqmxQIgfyx2KL7T0BslAPNdgKDtRe9g\n",
       "IrM0hJK1xdnuQjvH5J33I+Bzlqj3jLptK6QdMr7CRP7+B9nAmd29HRH1BTVPFwZAh2iCiFNSvfQf\n",
       "AaiwQ+vFSA1D04cG1BMGe/kARvWF6Fw8FQsuRBHjoyd9nodQ3i5gEuHkuiNFrDJKeqmLmYg6d3OY\n",
       "j34Exv9IWB0aXOHGkqPoE6oxW+VGD1BoifcIVe5qTu49FapTwByj5orMfdIbm0FQpIJ079xAb+qQ\n",
       "/ncEJjnpfiAn/OK67jC4XWb+LfTnbhYBV+fLYYQkCq+T2b3mhSJJDKC/mE1oXtSlzNYMuSgsqdPg\n",
       "qDPw/Uumtm3gjTRfi2PbN48f1ua3Y3XwoGKlu5sSR6eKh6oX4xpKLxdmD6uytTn/bOAGfQAABVAB\n",
       "n2pqQ38AAAMAXR58jnPRqsCyr0er+r2gcOcv78I1HywAH9HaY1wgeU6/GD1iTvDsZgb99kGW3wsY\n",
       "mPfvL/tDNOCnKtt11sS/jgDFgzCk5o47hGZaTpiearYlbiAFKXqdFpVfkN+hWYzagSEoz22j312C\n",
       "dGpojsgN56JhXENcM7JqEIlYqjglzDT7mhwxcuO2QWzYtMZpKfhUbWyxxUCuBJv+isWmINwTCd7k\n",
       "+wTKgb/iPvTo2VvyfIniMdnAP5ba2VatKhD5V5BR6/XjVVnp8LsG/Pi0FU2Ygeu/4nlm5H9tDmo0\n",
       "7tsRFag0sY0tdzI1fHV21yZ1yojKGZ8bPjxI1nto9mbsPd/xQb8aZhqzC786jQgTz4ju4SiQr4a2\n",
       "IiWIce0CK11ziIMisBDXDZU3Qbgp7TMLmBC48NBy6DUpHOeI6lQClzbEdz2KWf+J4Q387anYZRUD\n",
       "gHi42BZRiebIqqLkogDFVSs4Kl2AeizzGvgRNawu0zCpcYJrNaqlyscbmk7Ov0YOB1E6yMkpDxWz\n",
       "f95jiiKdwhMu4XMcc98IlUR3XzPo8tCT0nPBUI7fwIFUiTZxcDBzCEzXZnhQGzdTDrd13HsW1W+G\n",
       "TstXb3j3PDDN8R5RXA6Qxw8oIRUyFevAoHlv8GtRDY8SsShjvmcIDmfr+AL9IZRXD6UskOxJiNvT\n",
       "6WzIoG+80cpHouSG4Hqf6xcC0Rcvy/yl2iDVnABykZ6BYkWxiH2rUgezUPmnJOPBLjlWgcNmrWEU\n",
       "K6Kl1duCz9bLZGK6ey5aakJjQ3dunO73h96Ozj0vEF8M63ylq8u5zMOYE9m8b92osdKuyoQTc607\n",
       "KlTR+w84Ge2QcyPRBTmEbPGBGYNw5QGdBxURML3WePcFDv/88LL1yufP0bqBF4RHH3M7h4QR7N83\n",
       "CR3SkTnxzi8/fvbSOFrYIt3dpd4SddSWUAavJfvfJcb9ne+13v7iUWfmsHi0quV1ZwFjTg2H3+iw\n",
       "H/07E9ixGu206kpYAMhMpm/mRnH7h2rJ8AJT7AEgmO8ATjrc1RVBb/GdKXdPNWHVIrNsnVWlDlyU\n",
       "QTYEg2ytcjRy553RAOBtHjsAdYAJLGkBqq+hDAA6aRYxZk46n5wAXyf2glUQvK+0a6PKQRdF13GA\n",
       "2zD6psuXn2auxR5MYnAf35AkVOfyIGWH3aqPQDj+97qn0J+rbWwOwFk5V2jIPRWTnlAayzBgSD6z\n",
       "2KoAeuoXzAKvzFaX3ElI7zgYd03/v8eGya6DKBeHBc4HJK2D4M/p8z2e41glNW5b+6AF5C68perY\n",
       "rJX1KImfsYSVnC94WEt1ekHh1tXIlm+VB4OncHLxF2svl0rvA9iZ85Cxnby8+UnvInvOhdNO96wv\n",
       "NHSCfrqCADbxrH04yy3f0Ek7QMbPwXD6t/7QHlP2PvYq4mY1RR1JCuPNy80Ov3OBttYePRTmmFIB\n",
       "LSOxthCpNwYVCcOgEGMi6TTy7H9JkJcUMtuUQeKGNOKoie8C2zIdWljmGczlIyj+yoLIOGEJ2MMt\n",
       "1GB5ozcHEO9l7POfZlyVBDPbYEqdx89sTpv5Shc9Mh/UalTQ1Pm+FN1IleiRAf/YapRi9tAl18Mu\n",
       "2iIQcDM80TyxEFa1kEvJtjnefE0TIRcn71/iMByMDeCoS1R9cKlGwzj4+jNqH8BSnO4hTtN3OSN7\n",
       "+qem/1VMioPyJUvtvJ/7rCXNEEKNsRxuybjHT7UlzymQwiw0GMojWU1PB4WDbl49fXlsi4RTaCg/\n",
       "oPcQj86ylUfBvXRWzkBXKiapDtSOlPHp1aWa9X40nRYHGKpWERda53qyry4wAD5gAAAGIEGbbkmo\n",
       "QWiZTAgh//6qVQAAs3Df4J+BABzl5uOFQ7e+BD7Il6jcHgzrmyXBHtIk1t72MjZqrHehPSatBvIe\n",
       "RIYS1hZSJaORW07IA9Vrr6ElCU4iiOLuzY0sdXJtNVgbgMbbIy2dMVd780JpijLZ0mWfGFXRN+Ji\n",
       "AtMFbBjnxBUnUeEhipp3sX30In1pEwiH6j/PDhKCqx/83PUh+8peDjYJegiGYAR1SA0f+F+aDyTw\n",
       "m2RmM49/O6GNWxHdo4qqkXrcr++vkUerYUzewmAriStlB9dFLcuNz8WGuyxoEHW2WruaxXnIK5gm\n",
       "fTffQx58mpB7a7Rr2Ni6ula0nHYvYs6L+cdDepWQ46KYFeVuDp7UKp/zs1/WknCV/2fsuwvGL0BV\n",
       "38bGskcV83hCH6dnfRSR/6XHMBeS0jax676wh+sN0N8d5nZo5a2Rgdo+NF7E1TIngGzX+yoVEAbx\n",
       "oA1KwlmKFrnCCkmXBDBXHxYhy5v+l0GxNQMtZ4/a9Ap+Qnh+YNeWRKcENtId3m94VpxcBRyz3ccp\n",
       "8yCRl/r9Kza+2JXvnPcHiL4Urx5iMA3A6D6wnkTFSdfdroO+9pzq3ezYX60M/c+goEt65av5dYeg\n",
       "tRSV5x59wKiiW4fBTm7i2PlDV3bFqfN+F+1TyvEGzx/kItcYQJ79Ve8FpVrjNGhQLx3T0P57qkeV\n",
       "ksTYuhWINV+vOe7y1t50SPSB6QaYzv5Tpsj5QuPpFrRzBRC1J0i84tCK6apL1X0gfPiIa2qFpZ4k\n",
       "sButImUbgrkv73OrDtFY4dKKAMdcvhV28gj9ECO/gq7g5P5GVYPcReMP6swOvR7hZDZ0zyjRze5a\n",
       "1SQNf+f4p5gU5lx/AuNuBeD20JPOu9aqecwQ2pPyfx3A/V3ZdL5niry/KEgUGLnDJvbsFMiI26AX\n",
       "kC7zQgZkdHU6Ts53Jmf0qSQrQzEGmpbaOOHoQMn1cDVRIdo56rJSYJzPwKyYtW63uBNy7HGXQuNr\n",
       "9A246JbaUWbYUYeU1jErMhgZzA+rUqijIkftyV+y74ap7Z3sKWl7kKqI31xSnA3uiRGJ8tOK6rET\n",
       "u7WEsJlhaYkQ78JZNMH4kD4ltR4/pCkQuxpWbL8+W+/2jgrSqVGyZ6Rv6ZCGf5fuaWxeN+at7ihc\n",
       "qtkDjDeZLo2tXpSdyGXaqJotUQhmZSgVqs99bjkyNH+gV/Qp26k43UEfE9bq6TiyjHd74kImCXR5\n",
       "r6NKg2hrg7Ru6dt56j90MJilAEVFM+ihk3VXTIL7xVYGXBaKukk9SP9i6NEmnK/24H1PVJxU+iIh\n",
       "954sgkwhEhAV/OU/WF4+j2n+aLbkYpx2lNddSlgKlHCsnEZYdyLvtHnmQsOo47BjI8IRXb19pEN+\n",
       "IzFwvlOgjlPbwcxvOoy6ujq2234kHY2GPc3koIEQlN/Gyht7v7WGLq+VRDv7qTnHdyo00L70pg1R\n",
       "Ca6KZrOJS1NQEU8NW9TrkXcxJr8rxm9QXgTKSN3J9OxFdTBmBliFcCI5OwOKIZddmaLQ2pNYT65B\n",
       "96LjocB8/roYDIziCPpqp4XNQv6E6kOCMOlLjG3YxgbKYONTyaGUjQKiPQ8jSL5Mc6T/SSAlMYHJ\n",
       "wYT0MbJeYIWb+eFRYDqZFkIe2f0UForIR4o1UfL0x3XX86snmA7Vds0+dZDJ4lR9L5r1F2nM0D1Y\n",
       "gepTIs+4/0+ttTLmsAAADMVA9vFN8lbUGGjlbQfbDoB23bgEBSIZryFNUsrZK4kq2irL57fXL9XV\n",
       "o6vpotyQj0xmlT2R0mpMMvW0G8al6W2RsA74miQHdNffEgVidBr3VQ/d60om+5h5I9MFppswfsCB\n",
       "fbiXABHW+6g8VDm4JKPCGKqelr5Z5Tox6AlVNLC35jGvniEdlY0+XJO2q3zf4+V7z8XjWAA523Ip\n",
       "tK794j5pp7m4BgUSDpoYa5fZ5/MNhtZZ7u2yjiAwyGpj9xct7EHfcB7QZONR57Pq1j0xnZ+dubj4\n",
       "LIJiiiZpl1rZk+Ufrhk1/OulZWYNK45Mh1AU5eTjL5AxAkC+7jfW7GtE6NcPbH7u2o0ekq0dnZ+R\n",
       "W6peegyHV7QachYLLjRN4a1ExYKAAALaAAAGWEGfjEURLDf/AAHmKECHMBLCHoWjRUmjiD73tLEY\n",
       "Q04IKKqbSx/uGAB2ZYoZX/SN7n1Wl5DoHaaALZe+gRcjX83vmGrFfbl0XmdyCRKMWqd4QdC6JSJq\n",
       "InPKFfZWbD9qhG25ecN4sxNzcX577jOG2rzZkv8+WzaNqIM/vwsgpi//jd/bacMn26oQX/wByOXV\n",
       "HM96Bho9LKbAgp1VGLWtHCNoVJkXUlYRLjZqpWj863qQEngmwmFsQhYq7eQO7KNhmGRFlMkOyp9B\n",
       "rLnMYVCkVlObvE1j/9DGr6G6gyAmbe5JWJuU1j4tRYtXAKixZq4s7A3CAknDyHUoAeMKL03WSQRN\n",
       "rzz8SFx3gsuLe7txEhbBysYaiBISsG8cuejeyV4TdbcLkf7OcEPJUatjI5Erfw/ZyHT8D8usyv6d\n",
       "0xRWVF8+b5Txlqqrfbv29wUNwax+OW7+9yTgjD3XDyRWH6eN9eQrKPi7+YJtmcFR9B30u/Jiu2HT\n",
       "AceIyx6rgr44iJBFANHCSd33ZuSZT1Z9sxAS8MdT/LQEVBxf7pvsVPhX4YwRJMaVNEmouMwQU34V\n",
       "lAuuKfgD62ytNZeZHwGqzufvGEWFZOk1kQkiW1jBcK6Z/zTvuMd6Jtn8tTEqZK1Ya6BRpBm/bztF\n",
       "v8u3x2EdHbE9vRMz/8NlhYgWgIZ9WhlpFJbDU26jTIkadqIBd+KXyO4meP3j1heGbbKiYwWYc+1D\n",
       "oao/ZhJfadRNpUG9SSr9ensir+b9IA2v3RRPRHQi5h5hUiHUGjoLYtfuCb343BGi9iNoLnjgh6Dk\n",
       "1qjRHMMy65W+7/V7iGWQAZRTJ7QjdYR/PUiEnCv0X6+wqy8fuF4qI1eQbXFX3+XRsTwQHz9lfpxH\n",
       "KTmYCeYB6+bPzjI2j+1c3G2F0BEiiMhw/WO2DYixLqu8TY4CWbwa9c/zQoMTOedejkX3dNt2eIy1\n",
       "6XWPfig+DWamyXpTwALND71z+vEOqpVeHkp1ZI7TBuaq3J/61j35t5YxoqUmHK4gfKKJ73UIH67Q\n",
       "OuOJKuvSXi34i6i7866i6ma7f96NQcSLgnL8tndnKxRbP6wsKGVN4hG258yTA1ntkveBTfBget1w\n",
       "N8IFgpmOF8NARwQaWGstr7pxqIITo92pMftLt9V8QfI74VS9tgiJHvRqAEvxjy5o7qqhzOvTE7G/\n",
       "LcKS2lVfE/9SapUkRe93labkZYWnsrolnvBc3N5Iy33PndQygNuiBs5PST+OaGZWixHMzPGB6aT7\n",
       "AuF0XvSBZdVvXSAWiPkR+lkXqH8KCAnGksjEHPOA1y2G0qlp2v7MJomxp6bOfIx1xSTq9MoSkuh+\n",
       "DrmSQDhgrqO+3REbeEHGhi2196tnC4wB3eGHxqzSim80ymr7pq7DWet5qVjKC3fxSA0OEp2hoAzk\n",
       "AcFLhL2sROrYTS/gA9HtYWVwtnKycBX8OCzRZYnVQ/Seem9NZKZqLOr2iO1gNVfVSxj3E9s4cJRZ\n",
       "iWOnYpJ9S+KbIeNNVfrY7qmxEFmPKWXN1U6RuaKtZZVOxOPvueizmQoPRG/sFMDt5o4XVucZrzI+\n",
       "APhI62zIem44MGDLcEecrF/skMN8UxLSkWk3iBkQ7kaLT+ZKILIwqVu979lUsQTfieGNz8C1Jjb7\n",
       "QqliMx2QpxuElL0F0yoQ3+pzNEPPoB9SuY2d5x1zRwyJMqB5D0Iy27eOa8T3lPEgL0G/kT6x5PZz\n",
       "pZG/dGzOIJeyOjkajBAjcEIbnXP9PvAob3grZIbyodwOPzcYcfu3az81+LvZc5ACcwmbSUVC1TVb\n",
       "zBef48h/8v/PKdCkQ0yE8XkRZsg/mz9v6Q2eaWfXB5AuPUJPGUI4Y4JzvJXWoGd2EjobY6dwRxf4\n",
       "QYnRdIMiUFGUM2Mz7CpJt2knYxhLpIJq+ztbBmAAscH+/An/L5VnRVB5+jNfDC4n8COkL9hbvBk+\n",
       "A6WCllw33PfWNCMRakaZ41h8FB5WNjibi+zrNV3/qwMD9+kMXQBXx4PL32a0GDwVcVv9yt1nyeGo\n",
       "U2185I4U2maQ3PIh/nkcfnVxDGKjI7kop5YQB5RWqjZDcHLHH+MA2jZt8BM+kjMWsTo5s5Z5Sbg6\n",
       "yM/LiEtNYPTG4+QAIeDzT2+V8f79d96fPyc6N5MtvFR4fcSs/RzgEIgTHboiU7vMnU03pAAAEnEA\n",
       "AAVmAZ+takN/AAHmKECHMBLCXcKQJElWbgAhw+kUJA652yL4oDgjwKCSw4HCceYG//tsdk+pqaEx\n",
       "i1FYbRgNA1CMhtdYBQ6qc2z9rK6nH5+Gp5eF4AH8r+qWUIuMJMCno6I/OoH/oVNsrUIGr//CnA3S\n",
       "f/ullT0dpDe0WoHcLIwI7tnciYEkqZFHsim3Uy1yLUBziJc5Z/nLudJFKYvI+zitvObiRGmC5XiT\n",
       "7LvHUniH7dX0Wf5iBqjpvnWlAOaXDPN34RkB30ts9Pgt9YyO1wh3CUlZkphQ931ByZ9WQXg7uxkv\n",
       "UjGinmPLuiNERKIYzyU5v7WQim0DtBOsLKBWWaM68ITMZQR6QRBbHMmecs5GwfNiu5ShusineAGc\n",
       "eK7wUDPPTia/UxBd8mZ5AoHp3OXk1+YXm52DizFl86A+gvFSJjAo710RKZ89eB8dDROaW+L68oSV\n",
       "ZAIPPk/EChmfo0/i/3EzeYn51oK6gf3vKQech+dFaQPhrqqx+rXt/QhqS239udujyN2Xsezuv/Tu\n",
       "mnjiKzjgg+/yrXTRrkSWlr5mqpWSfTFOxE94sQ00RHJ3Uqoql2Qn4l7TI8UaEm0vAciJemLk06Ne\n",
       "wPDs9Sw3fUwisG4+t8WlNmxn5A3Y6W8W+MAhmQBb3N8gDQ2lng01fZT7+ySlg0fvLSHGD9FCo9G9\n",
       "0f5L08Ja+/TOpWWK2wH2PObtZuHVOazzH+nhkk6uuo7potqrJneXXJYgof4DgEhrKSy+SxHwhul9\n",
       "9aqAJIV1Vn5hcspc+4scb0dwstLmEXq9wOVYIcl8kLDEV5Q7NN5xLC5GQK7iCZlNp4/avEmiHqtW\n",
       "OY4qu+zNwL4NUJzqwOvuZRoUS4bHqXMZcD0zmXrk/x2OBr5A5Tjqyutae5h+yEMcazfnPUc3lArw\n",
       "tj5X4HQr9wSyA/hrXiGNA96DbhSwnn2CcHGJCG62HS7G2miTIFnenJW221Kx5cBVE4hbUOMFOWuS\n",
       "lqiE7W2/jM/nPKu9/fYCv+8Ssndcs3LqJOSndG7Nv3S2eJ2adrACfQA4AMNqhutf+QL7JWJ8DBCo\n",
       "uFY7iQcUV1Y0WD1eRbOZ6MuPz6c992j5tGaM8u3LDokCpwO3kWWy+yHx849aK3Z29sbwtNJI0t/a\n",
       "Lsrrf9lJUoQDVjvoVhEAxBsFfzgzgWwsddTQKG7DrEAAhDSKns3h9fxbaDfMV7v+uJyV4crmazUC\n",
       "aG/DYWkaMA6ElyJ/iEKHvywywG8pMJmkag4HLX3M2SgnoALCLsuEuViUuOisr0w04wQTjpUSPo3C\n",
       "8kP0Xf7FiARFigQESv35KT7yvsH+okYlBqQmk0CUMX6qnllh9Mc1Rq2BqEzxjnQM1hTAZ1ndtTkB\n",
       "5JZJXfuKCYsKm8kxjv91FqDjTykfJgySbKd+vQYz+z2AQWm0SiWIQE2/w6H+IiLTd4sexVrTAE1t\n",
       "k1ckGpQrYRHCJwpEIa5qsgvP4Yt7jWkATonk/ei1oDeBywH0k9PlIH4Fkqkh7P/ybw3gON2b52pO\n",
       "1uce/4sdiEvcA8zT6QaQldumFWuLSnfGipq52QK8TbR8hc9NuA/p9Dfh60j2C2Gpi9dpweqrqZ3r\n",
       "P+YOlEgM9Awx+a5/pvdOozpoLXvNaAMF4uBSxkYmjsFk1HdXZakeMrlwG+BnQ7Vxi4D0F2uwrim7\n",
       "y/yXq+TvYLS0ccif6mZIYGvpW9J/E1SdRAPvqmf91LuwFGvRQZo8gWpLcaJqA3Bjfl9C0KoGJ8Eg\n",
       "MrppZAZYsE6VS4EDVFXGruG489md376JJ7h7JxjSwXovm8W5QBc6bdakhLwS//8sx8zG9uFS///t\n",
       "Phyaf8mMUPlg7hnB6AAAb0EAAAb+QZuxSahBbJlMCH///qmWAAK78K2vFTSgudvJ+J/CBGBABzZr\n",
       "G2Zve6a4blBsWso8MVdhumKaDAB+VLyLPVQVO8fqFFNpTvYUF9zVUwisFtpPuCQkGDoQ7Pt07ReE\n",
       "njrk86FMbls+xBtDbWf3cn8szkpy8vy1bbGF+WDGekpF5uubG35ue9O7iWVMhCtCwBMo7WuuTwRj\n",
       "kzBPFq1wUzVhtiXruwAHRso0TgJpgWrOc7a4gAUyBgynk+UD+r65Kh45JyeGUhLoPHa74CGxHVH3\n",
       "lhRzWaKw/t3YLklHdOnm+4fX6gVBLSrvNFP+NjydQ15yAef6bFUvaf0nHgKh42zDwN+yt9eYokyv\n",
       "A1PEmy5+BbqYf6VEIvlqniYxk+JUYikeOrZUDoJLldECI1+leKhqlO8zlsYlC4Goa6hvvsvhIIwx\n",
       "NgNuFaNeQdCp+PtQCI7AVOquRr1OrTbfZ5KhDAtuEojBRrKct3rZEg3WhM5/xaMS49x7MnuES8W2\n",
       "TUa5HH6hE9sFcl4FIk+zAWHqwyArf53MnJryu2XZutrlyCEq3zbgRydPwacGAOrVSHtNigJU+sHg\n",
       "hkA3cBkiCh48QTIvVMlL0OY5v/f8PYyYbUix6HbZquSA1tWczEYHj7gU39GwCR4nveOv6lzLcUKC\n",
       "xrR/S+GWKVuT09pimc7TFzGQM6GJRxCD9GwRxlDXaI/SJ9d8YfibgAXmNsdoGRAjA5nGGxhbh/sE\n",
       "sFDhdYw8QSSn75uR0xBXLcIqIZsA9+r+CrMCDfVlATHggBOBBi6uNlH1dQoxpJn7N5zZ2MQD0c3K\n",
       "evdiFU0ucJjiPSgv/UOSrZ5icvkVQqlatlpbnoGsc/1wySOfBv0veuKbs3HdhXR1q8T33+DaX3kd\n",
       "/dGzHjwRIpt/9nNOmaa9B8VeBaY5BYb44NBi6GKkUiRavWG77sIZ99D8oda2U1ET/9EyHBCB1TDq\n",
       "2D0UE2sHygAxFWBvinHbu63oUVMT2OcNWYqV7us7JbYKUkvXFUzgZm7D7qJ14/gKcmgpPeDula3u\n",
       "TwJNhfO7d18aTY6B1DavRbu1BD6HjksvI3bwsHeCUXaqWEYwZes07bhsIfDFWXsG0bJ7PyCYFawz\n",
       "YSl+s0XxjfatYZBhC2W6ygnNb8uluJWV7Cfw55J/B3zJahuYBwDF3Pwtc7nJ73l2laSEwbyi2CFb\n",
       "PfLwvkH8zzDJAgAOnpCMv+uctiKUncHlGDAPraPhFWhm757M7jxtVEMiHS94+9YdjLjKJtmmMmDW\n",
       "+l9f91JxkPffm86lDUl8xWI3NLVAu0WQmmpJTtxct4UDacopkB3voZx/Tf4K3v4h26eqLqm2ykJw\n",
       "amxWwsZ3Os78L/0q/YPTRcGTnEfUeRSVSw7raQkuunq41+Lokrpb92JzadT5wygWDkQlAivY0iJQ\n",
       "c8WP9U3Q7w2VzzxiK0t7McDwwlCM03i14IOASfKqcqN2a5+IMKIuvBt5iHUptMetYHqWRUgjbwkN\n",
       "TOYTWLeEo+8oT2nmD6ADbRtnS3BvBJqLn8r2gAUwMO7d/5PUv0qT0z2sAP60RQ9wVHV6iJohUJw1\n",
       "cthqbH/klGf8tGGV4GGZ8EbzVLBVyReF/Gc5l2a1MHWP3Mz8DEVcBH4FehMhLmc+v1ezwfd839ix\n",
       "CcRB37vrCv0GmiebNicUkwcn03BAcc7V2Ypq2twYPhIP5NJf+u96/D+FyVmHDAyGQJU0nrRzL9HI\n",
       "IwMrw4zausHzg7R0DOACTk9/Xh605Zj1zWxf89oTb/ZtAOOfLlBI/KsnsIJlZJ6/kk7x6KBddyBk\n",
       "o1+8swHWFZenI/NqgxXjxxPHGqdh8fSzgZVU/D3FuTOwJzzvEwFZnppE+bnTWvKLpUlSRHDrD9C2\n",
       "/x50f86NVmAt5Yvw+oFMg6J1jdFDLLmk/UlqnDXMDAMZXZ66KJIDdahIXxp09eCrkMXKjxZS4e5F\n",
       "r17aoR1w7GHXbrXzy6+xT2d5wFviDMGwBE39T72CLVlN8pIqCpKKYfHFd7Iq/CHYi5KG82NLBRkN\n",
       "FOPSnDEyCxZL+oNmd3gpx2AsDxddHCVjuCcnP09aHxyxhOHbqGUUv3R1CBPhDvPUawEhvdYRDve8\n",
       "E2Q1472OzZdgYraiVofyzu90TT/OhkyriGK0SdV/QJb3hOyz5u0atrW9IlOjkjWlsi/tTJnsdv3W\n",
       "oeYioJlHsFrnjfvCBEztcoLMwY9z9ZaDHtSb9gb8fZNP0O/NMiR1vFws8Nh4vAraX/Jt6667pyc2\n",
       "X7aOZn7/GCAx8S7GsWfv9t/32WXp4GYpTH1yJKURH2kM5Qh2s31NriHr8ziggWZn08jIDFsG9YWx\n",
       "Sm9RnmScvVMDdn+5xSv6hQ2X0M35soK45HdeBXRKStBaOl3HjguehiAAVsEAAAViQZ/PRRUsN/8A\n",
       "AeXtYgmeV7FBcMww/AA64BGpXhHfbIfRmmR2Fmgq3xQ59Nmn+mL2CmpRr4Z/UtK+/4P/F0PlJjl1\n",
       "q0pNrqNfgxFo8N90JRFe5s3uYzbqbrwQnipqkidaonYhN/j1B9K6qEKwMeND5ptijU0pAM7qvlDl\n",
       "kVW2X9K3uKUoZgOd/94Kzj8dh4hL3QZelNj2LcWfp4Ie+xHfPDM6kn8dpro7GP/x+samH9chwF6g\n",
       "5GRDFNDH3P2XXhMzS/ALySShjlBZ3mFmOr99iM21PHPdigOmFx0ACa3HQk0gICsAKjIfKcXHCGQe\n",
       "9zjmQCz623KKLM1XvLF0KBzrk4BWxUCbR7YeLfoR3LlSwvX2U9gqzum2icu8Bt09NZeaJV+nvBhW\n",
       "zsQmeF/CnsvsORaVLTacoVFfxa3YnQr8Vp1+AOyOaXoov9kVusX03rqLHF/oLp4smh+EAUTNsp94\n",
       "pWOzKT7o3cyw9SlSul6mTWVlVSsOhzcDD+L9zNoergV6yVHoJcvs0ykHfNpbfKvqx65Who9GlDO9\n",
       "S8MOQuu3Sy3Y5xhDx/0MteVVOK0cU9KUHGgCiR9RRQdPVioweN70uqDLjizSLhqut7sD0dANM47/\n",
       "+N6bw2zhWUVYVc+kHJ3EaWT8zEdRIEDwogmr6h0jmKa1jgDOugLeyOy9YdqFXYVBYZjg2KXvlo0W\n",
       "hu4R4V8DmRiwYBBxiTMwbkOcPtTtCwwf+lB5CaLD/c7/tGL1CN1TXANPlSFBOj2rt0UyV+3OMfD0\n",
       "0XtCiwL9Y+dl5gwqKUo0C0gAZ0+59d+n+AFNcWS4f7ymc5VFSGMs/qX/G42LRFUvjDpKBbYlCnY5\n",
       "fVDRSh0LZd4weO6tKtGXvq0jGcluyCVKd7UpicU+FviynQHzoe7S8MwXZN2wI2Vlg1uWVXoBfy9A\n",
       "mHT2D4Ov/sQj6NvdSiGkmRtrPpX1U+yhHD9jOZ0/pH3XETpvoS80oi9zNn/pwioI+1kEH1v9oChX\n",
       "elmIbXqE/+t+6MvHlp+uh5fgoevelxWX8lW4CtN4zb7AQPrTTaPHl+TUI8Yw7mS62H0m+DQchDXd\n",
       "XwZtR19Et4UDKTxGIM69P+ztXfFGAMPUe+0J0onK7KoHOtcBR42PWGuWSri+v9Z7gFxYlizZpvwK\n",
       "SkLn2KEQD0TZe+u5DQflr3pB4vD08JuprWOk6oz9oPqQYaVLbAa/imBw6JOOWBWu5mbZR/QP+Xne\n",
       "NOVIHckeNZsVHL94LopNXgfWb8NOcRNw8M15a2KO9Wptib182m0VE7bD3h43PS2UPNw1cshBREhl\n",
       "YyjqgaD3ehpP97ld3rQKCePF2fivkNS8SdINY9RQafwN+qxFdOIlaMI7/BoCw619FBvBEc54z7Mg\n",
       "3PSdQPH9RL0EtCYeeFgYS+c0L/YeMIzLQdNazq38ZK1yEqgC0e5wrU8sQfV5dcsxgtBUIynn3tkm\n",
       "tg9HGeGuyD4zY/AgRPyX4wZC7AcXH4x9lot7OmgB0a6eIDMQwkyySNHR7fud7ThFr6j14tjABdOK\n",
       "fSUOFQiT4fwhzb9uwahJ4oBdj9YvADYLUKYiyJVK0RbGVf9duGj13Ao6VdkJss/8aoSlRYOCok2M\n",
       "HCv5aqUnF7J0nmBVLPCjxuGVYO0pFsBQ599cWlzgdCqTMAY32cGCHETkMT6qgmz0IyeR4Yzmxa/h\n",
       "xXbXC5IGDqt+FCldAYofmkOTMiC8Ot1NmvQ/vahD7ViHYZyJIcz4EdmtTvci+a3JTugay5ZY/yf3\n",
       "ZbRKAB+d6LO12hIlhoNwtUzgluYfhzhsg1+mcZd8sre/0eQ3OeXnufSqsaKw5rgIV2Ayh6nQAACp\n",
       "gAAABY0Bn/BqQ38AAboAUXHd+vsVeL2/AA7S44qOgWkZesE5WvZzr2vSnYKfsAdEfgZCAT0PlDOZ\n",
       "wPEnWS4md2axK38idD8si7AijNDWRNCagGtVtQ3GEDowI/YExLaONWebJ+ruhUqt/4nKgatYT/MJ\n",
       "5/6hYCnTM4aI4to34B+UVzPq8VtA8gNuVZlLrHf0YoIepHlK3W5B7rdJTd5bjx0hmK0gQYvrydAp\n",
       "EvCfs9n7CjVqEc+Nznw23OwckaBe25xTiViOvHT++eMljqAp3xppnBv1EJ3r3Yub5AZlhyxP1JkI\n",
       "sPFGDxy1UXTrTsP4AelanP6vlH5B7LutBm9T1edu3XxrkwSYddtS+IjKEdsora8UUUIUFZY6tZ0Q\n",
       "qA8kH1HpOQsIz/d0LtCcEmbeRlzS0XsuMh8W8sfi1XViHrKwRHDyzibjHASG+BRex9QKUtvpFcXR\n",
       "85EkQn3zIZZwTvUziIjBOVzEZu10VnIgClvbuEuKRQeY+xkP6A1Eg+z88PVdguQ1bIM4JzzYBKRP\n",
       "EXKm6ca0f5CjkiYw1TkHTPfNZLdHHNNiYAJ4Y9z7/1/CsdqgEaX/G2qkHCpv23nTOiF39CIsAH9U\n",
       "39JwTAXOqINx+dLmaLrxffznP3PD4iFdrckaWZ6OXqqfRQNgZKpDV9j8uDzSHX0OOycPfTQVqkxA\n",
       "h9gqcfNBvt5xHHC8WGSt7MrDIrns2aWeSbHxSywfVPUCqA+yeqAUpP/6m6CMuzikpoZLOO7NpMz2\n",
       "ZnJlRmE5JyKC7693QOmG+bebHUrprHqqvmWo/huj3W5CB9kjyApLJttF5NI+9F0eJ9yof6krVNZ/\n",
       "5niK31RfNd+yf8xTYBtI2dZqvhPQjq4YN2HxhvQBf65yp/1/2lzrpqA8yfsuqeToN0rFGD9bUN01\n",
       "bkPCF63TKZ/QCX4MoJLjyI+v1WU02Wm6z1FTzM8/tNC/FGhKiaNWgNcHOJrrCG19HbyloeKoEkor\n",
       "FYT9LX0igndejCJiTrbrM5VqSFcOH0aE48JvxrZ5iy1ItlXZ0p9SEWP0M4/gC28tZ2vI27AcNKuv\n",
       "cj8181QJAG6X0lahoJCyhaZMKoajudzKY3fpJFqvcydGYMUXTeFLh7fy+By8IUNppXgO3l/92gwU\n",
       "15sC5VSkTFTG5MZ2/8hMGvI3Zijpv7b52E6EETCfFSGs7CMFLqqaQ+NpxjCEYGTeqoC6lVb5EM0O\n",
       "C8C9U3sYLb6a3GIaWqW4I2ysaWXv19lMVRcWkUOebQB7w8YeUO3VDwWzkK3Gl4p0DHpfmMkSlX2l\n",
       "bC9/924k5KGQVmxjn+73twSk9NdRi3EV7mankcP/SoSRQH/874LlXnEBuy88OuMeM0wZX8wa7XQN\n",
       "9lrMOGlWdOYn8LeMIVmGwBGQve1kH+AmdmJVcooVke04B4XfIfFtmjN3S9cPXjW+6Vl3DCahVM8X\n",
       "QK+pVGcLkMmjdaxpWumfJDpLPVhdVNB6cbkr7XaJIYdH7p/GnndbSW39x/L1mKrikxT2o8vz/nEM\n",
       "P8e+/PlhgLHwG6fb+8OUUFt8xnow+jl1E3T0TyPOdmCv8rK9MqwM9uwEGZ8j8YbsCxmcZ0o7t0gT\n",
       "uBlJt+O6MjjOw1Jm/Se+TcbwKOz5k8E0M49DzVD9aKkmEnvmJR6UW6e51/xE6IHhEiV8S/gvOlo5\n",
       "H8ky3eLidFdLC2eeAgsVRRM9u/V/ldpHDZtBaPynG+mG0kD36grqNRLQLbP0KdhMQGWD1K/zLGP+\n",
       "qXgFlGnPUsGuCincWF4wjguHKSqKczkWgcl9q0yGKRpOBHQbZIvUQgj3JUGHwVq+sHeXq35Efm2v\n",
       "FYFiXv+rxKwJLWQWYdY/LAVjY/8ofaLG3go7Fqjb1zALSAc7cJFkI+wAmenaBwy8iCT0H/UPAADu\n",
       "gAAABmRBm/NJqEFsmUwUTDf//qeEAAGd9lPwXJjWZ1GNFJVBk4e9TPcXYQANm6AGRBr5bkGd6geC\n",
       "lpx+y8+wECusanNDnG4H5xty08+G5EnNOFTkFj4K+Bc3WUPB8nf6H6hlyDTwgOBXhq4eVSnjpSaR\n",
       "oa5Z7QoiRK8T8Ixrq0N7nuavsc/u4V71WWN1LbYOhm37GUk2rhk1634xfap32wOaQWo4sBcGEtYd\n",
       "IP4OYHYC97MXj+FA9thNbflUAlaRe6RhTk3pavxuyfjOi0+nqnpew21p9LEhgYn87GgqHPewer2o\n",
       "BUGUhwAyFj9SQmMuoKfAPk3BT/ibMUpBeTRJ94XwCRMmecCRsCA8XKzpWNAGrbW7YjwBUz5dIWrS\n",
       "PJV7Hs4DiHs0a13A6XrU7I6rXkJHOnD23al4UazPMKOvkifEEkmTTHy0H0KRi3h0en8uUV5wqMNr\n",
       "zHXxkwKW9epoGw+hOnxaE6+TmvobsEP4UFbaAkvwWGE5SbNIF0LOZmulVnVIRvll6ZuEK8Oew9gb\n",
       "wuvnAu4INdddu6yPHtfDNvrkB3hzI+Q9MoylXDqtb1bOSae2TAHHghJpVQu2Nn7VVPaWikSciU9v\n",
       "VZ0v0q0p0UTR/IZQ0YIoA4/76nxv4/inK0TERprIdEdooQLF1loVDgKp/wj5PRLr0X5gQ2mA0uVy\n",
       "uOyNUgHC+h10SNJtdodAp3D1pyfI5evotbIXc8wEa+r/9Aesc4QSWK6gKA8fw30eAAALGpnIoxcI\n",
       "P6JN6v71jX6rlP0MJV/eB6to0uANocVoo4BaSjd+9tgB35CovoYB1RtgvaGKf/wO0fCuiBwzq+ss\n",
       "pz6JOg4Adm3yr4Y+JNj9G/VtVyYlerp4R4IxgFhcb+SoeYlzcW0njSVAExsDxYOmPVtAbwWTDbHT\n",
       "2DMpgrJz1Ue6QM2AGOhwKZWxDAJ0vBf6JvK5BJVRdvwC1HyM0TC7FP1hobub7wWKfHUdknbk6FTB\n",
       "zNmTIE1MmFxrgc9evmiKYPX4hSmRBb98k19vGcsWZ1zu/x4uMG5q05JLNcugkG1P02K7jyfPGjQ3\n",
       "3XpCxOEs0Y/PamQU22t45hKdBAG5L26YweADN6dkLGndNHDzZv8NIB2bAOZm1CHfj/6XJ4PtC5VW\n",
       "Og4WoS+9yeRp9Rxs6BozYM72CTQgaYokb7sG0bKl2CgsEnApVmpbgSgQ+aTBjoNKL6w6luFipbWB\n",
       "yCsJpLLKM+npRWKZG8YnmMrQ4zIEKSdvkQthRPwUXcgZlYuX+wGd7uHYlOgMxWdCR3yIBicbvIcZ\n",
       "i+7ae0xzhDnONEzY2lZh2KuGnTKP/zVoEDot8F/ayQ779LgPQZVrM+KgbteOP+RMahSgsiewXm0I\n",
       "JA62YnPVJHR8DEReYPqGUTki2M9K6F4saFb8lvfCrUKqfXCZWVVmCqD8e7KFSvuUNG4aWGjAaop6\n",
       "4uSA0TTVmraK031SoB/rQaUSaeCe0/iYG4Q15O8trQ35y0O1VVgm3BHYjJSXkJDgiVc0LBh6xyde\n",
       "DMuDjp/hiHOIe4KVMEcu3qN73i2jsHG+NsGanDnA3ror7JArExYSmzbsudc8N6ENb+nYlAjhgTav\n",
       "aZgeN/Kx+l89tn3gBD0HVfjcnpdCFV14EPxxy9NVPR9gzSIEWEnSiMOvP93DVdHzVz9JkytgBouP\n",
       "Bzxy19ozzIDnmK7fYMemc3d6SYoyErR/+GhXLUR7ozw3IhIPuy+0Z03Z9S22IeAvbZ7dXrwaETBk\n",
       "CBn4otNl1NzSzpL3WFrpGAWEaa3uKn7bjsTZtDetNBkTSaVjmQOdkI9AZenqRhl3eCel+Qf4p4kK\n",
       "o++xHdIY1tzNDs2O0WaAwV0fYYL0m2q7cy98rcI9+G+D2ffRFKNJQBs1FD8DTx3sTdSgYRDSe5IP\n",
       "LbT5Z0Rgd/sC5+cvb28ogxYlX4uTkucdAfc02eJXsPa4TchVDdbbwn+xapS9h8QMLMnPNjaLenah\n",
       "Sl78Kp9T4tgF620YAW2diCB6RaJoRa5flK5PjJCkp6jyff7NDnTVQHBlx28G7DQ6nnMJb2z1KmQm\n",
       "D8KsS6LHhz9vH0kcrA+v4r111zyv1IuAmCdqAF99IR0EJsxDJKBrK40OGGdPbt9R03WDuE9QgzjI\n",
       "QsI7gk7N37QnOxFvlamYWB18obENG1aNVhJNDMV7fzdhA9Fa9wZU7O1tgAEHAAAGcAGeEmpDfwAA\n",
       "ksZKarLfIp/3qudTVP54oPwTlvuAEzImcn4jAoZdeUBIWNv/auleEAYrPj8gnJkUBms8hy3c5amN\n",
       "9YSfBtfTMi2+UlMM8ilZKQcR/Qg6J56mfYq5y9fvRzlceiL8dMcl967YzwTTidJbZxoVTNKQqry2\n",
       "ilcI8d4P378UF1hyrW6gjPJYKQvEFOSadi6OrBri3XMXXbMIZKzJIxZb73D9OY6m0fg8Ywxq193P\n",
       "wNa8Tkf0tT1kusayAsSf7zRvFljlxdGhkiP10Eq86iwl/pqn826q1BqEEJ8NqZausxkTPgqSE3cH\n",
       "ou/H67c0MwXhI3/exfQ+rXUdB1WymimNjzP38gmcVPJd0IQhmPOEEzkW1BEhn5N9vUD2NbwXKHDg\n",
       "aUppWqnAKg+vircz4wEYDZkw4qFQ3Zde+WgEVkhv+8YXs3CHjgzOwEBuErZPrwYaIvVXfrbKnMi8\n",
       "1AZy7V6Um3v+ACbFyb5ZvbHym4qNByVa6rIcwVkLfhAZmqyRZ+yqngGPMz1nWCRU2liZ5RKucZbc\n",
       "FIEzososA2ezLNJMfJ72bXYuJm4W5vUJxOyuizGY7rG0PpWYz86V+5QBTmOGwqQI3KiUklGhKkL6\n",
       "2Q94oDpch4zc1bCr7TgmVHQq2JF5/z2CIDvv/4cETbAv+vmf4UNR7ercGPHuv7pUkuTdVi/3yctw\n",
       "J8m7s+fMLtCMgM+rUFxzWqJ9LVzOTtYEVkTADSJzxk5LKT+pZcKUXFo78VKM4oRf6RePMYVKHQhM\n",
       "4xnC46zkrBv+6eTNi0sDX90EBE0a+2vIYWPv/mvCTWGJc0T2U7J/69Sx/GHKcImzF+vmBWp2H0GN\n",
       "LLOD5XT2+3bihD+IFBJFPFb9prZ9HGnwL53XSbhBkz5ZdfaJFD5JDaIvJYOeVcLHJ07un+WSVn/9\n",
       "c84goYCGSH0BXuNod9gVh1dZHtllsYHnR9OF0kBYe9Tlfkpifmv+eBv3bCKPCa+6QES+PH8KfFW+\n",
       "IA1lQQRA9z2Xa7QRgixYAEYPGr3436Y7Km1AbWcrUxtxjqE0rmyWkWMK2DFeX72I1ojZ7HF/qU0r\n",
       "8AH6R0U3Ef8ds5ut3mKaLiXpE1v8fqqLYPGvBWUV/GsKIv0uSbpHoPwqyf9KUposh1onTYdK1PyO\n",
       "jZ5jDVpGd7RrZ7Qd5StvWnPSYYmx1/KwxARFtaa9IR9YnvxIdxXqTuu6m3zuL/stCHWu4QJRc92n\n",
       "zYMSZKws7rlAt9ho4rFEgsYNqz5dObFPzmcaR6jyk6cn+T7mE1/1xulRGSJjBQYH2SfIAvgONxQb\n",
       "8+v80soznDlMXYyRxWr8Aj5No96JVW5MO1R1NBIcdTiz02+ZDPMErppsjrb5NDSkEbVPg8ony6dA\n",
       "vdE/G338532fhLuEQVspuwYKnavVQ1qNMW720dcpvR88faZPITK5OLBklHoMsyHb+ETehlo96TJq\n",
       "Js1QC0J7vVrESGcGOdIdmFYoIab8Nfca7FrPQqHW3s53O1AgSEgnLiTmrnujDnbP3Bo45R/8w55Y\n",
       "1YHp09PC4NzI+cjIsEm/pSsZcqGSnqwkGRlOKTgPV9OzB6KiNlqc42dA3Cm34F8G65dlLScqbGHz\n",
       "QjElrL9/RNWV65x97d3RR+QtkFGqIweNuqy2x4jT+uQsmdOKUN5fZ0npkjXvkalFhZM0n6DzR+FW\n",
       "UYedIxzBPCtge5yyQFh9KroULS08vuG5TqW6gmFRkB64Hks3qSkLUFIKD6nGJ72RoDilKymp1kcl\n",
       "85D4RiyVeZfFMFaW1yTqUTAEs8MCpaXhIIgFYkSCnPykox4NGmjuACSQS7w3Ak2QUEvy4yFF5wgz\n",
       "3bzQPEGho87pxunLV6tHLQM6ZNrb53Uv8sNHXXauNkC4uJxQs7P5OJUnF0MBfBO3XtgmmhmfFOz0\n",
       "gpmQawGDHZls/fgXpALf0lCama/Y8gabFna0P5EmDlYWSg5eU/HzKLMyjpKlrAz1x0R0pW7gDy9V\n",
       "M8S+vwpQeI3GBxlZlsd1Cm9b5CnemSBhRvZsWFhbug+K3lq2KncKK1lkWfakN6jjCNmqsg+fkDFr\n",
       "W5JpbSyrATtriuFAB1sinKlwx4ALTO94JjPM4AW4ZGfo4Yj4yIf1EK6FppuG2HaIMBTNKgO15WTT\n",
       "v8R4byeYi47lMT0iuq42Z45TeKdCNBl/rcr2C1xlzTDnkfSoDQ/YAAADAtoAAAPGbW9vdgAAAGxt\n",
       "dmhkAAAAAAAAAAAAAAAAAAAD6AAAB9AAAQAAAQAAAAAAAAAAAAAAAAEAAAAAAAAAAAAAAAAAAAAB\n",
       "AAAAAAAAAAAAAAAAAABAAAAAAAAAAAAAAAAAAAAAAAAAAAAAAAAAAAAAAAAAAgAAAvB0cmFrAAAA\n",
       "XHRraGQAAAADAAAAAAAAAAAAAAABAAAAAAAAB9AAAAAAAAAAAAAAAAAAAAAAAAEAAAAAAAAAAAAA\n",
       "AAAAAAABAAAAAAAAAAAAAAAAAABAAAAAAkAAAAJAAAAAAAAkZWR0cwAAABxlbHN0AAAAAAAAAAEA\n",
       "AAfQAAAIAAABAAAAAAJobWRpYQAAACBtZGhkAAAAAAAAAAAAAAAAAAAoAAAAUABVxAAAAAAALWhk\n",
       "bHIAAAAAAAAAAHZpZGUAAAAAAAAAAAAAAABWaWRlb0hhbmRsZXIAAAACE21pbmYAAAAUdm1oZAAA\n",
       "AAEAAAAAAAAAAAAAACRkaW5mAAAAHGRyZWYAAAAAAAAAAQAAAAx1cmwgAAAAAQAAAdNzdGJsAAAA\n",
       "s3N0c2QAAAAAAAAAAQAAAKNhdmMxAAAAAAAAAAEAAAAAAAAAAAAAAAAAAAAAAkACQABIAAAASAAA\n",
       "AAAAAAABAAAAAAAAAAAAAAAAAAAAAAAAAAAAAAAAAAAAAAAAAAAAGP//AAAAMWF2Y0MBZAAW/+EA\n",
       "GGdkABas2UCQEmhAAAADAEAAAAUDxYtlgAEABmjr48siwAAAABx1dWlka2hA8l8kT8W6OaUbzwMj\n",
       "8wAAAAAAAAAYc3R0cwAAAAAAAAABAAAAFAAABAAAAAAUc3RzcwAAAAAAAAABAAAAAQAAAFhjdHRz\n",
       "AAAAAAAAAAkAAAAJAAAIAAAAAAEAABAAAAAAAgAABAAAAAABAAAQAAAAAAIAAAQAAAAAAQAAEAAA\n",
       "AAACAAAEAAAAAAEAAAwAAAAAAQAABAAAAAAcc3RzYwAAAAAAAAABAAAAAQAAABQAAAABAAAAZHN0\n",
       "c3oAAAAAAAAAAAAAABQAABVIAAAGwwAABlIAAAZbAAAF9wAABV0AAAZgAAAGfAAABooAAAbDAAAG\n",
       "bwAABVQAAAYkAAAGXAAABWoAAAcCAAAFZgAABZEAAAZoAAAGdAAAABRzdGNvAAAAAAAAAAEAAAAs\n",
       "AAAAYnVkdGEAAABabWV0YQAAAAAAAAAhaGRscgAAAAAAAAAAbWRpcmFwcGwAAAAAAAAAAAAAAAAt\n",
       "aWxzdAAAACWpdG9vAAAAHWRhdGEAAAABAAAAAExhdmY1Ny44My4xMDA=\n",
       "\">\n",
       "  Your browser does not support the video tag.\n",
       "</video>"
      ],
      "text/plain": [
       "<IPython.core.display.HTML object>"
      ]
     },
     "execution_count": 67,
     "metadata": {},
     "output_type": "execute_result"
    }
   ],
   "source": [
    "from matplotlib.path import Path\n",
    "from matplotlib.textpath import TextToPath\n",
    "from matplotlib.font_manager import FontProperties\n",
    "from matplotlib.patches import PathPatch\n",
    "import matplotlib.animation as animation\n",
    "from IPython.display import HTML\n",
    "\n",
    "# set up a figure and axes\n",
    "fig = plt.figure(figsize=(8, 8))\n",
    "ax1 = fig.add_subplot(111)\n",
    "ax1.set_xlabel(\"$x$\", fontsize=14)\n",
    "ax1.set_ylabel(\"$y$\", fontsize=14)\n",
    "ax1.set_title('Linear transformation', fontsize=14)\n",
    "ax1.set_xlim(-550, 550)\n",
    "ax1.set_ylim(-550, 550)\n",
    "\n",
    "# set-up the thing we're going to change in the animation\n",
    "fp = FontProperties(family='Arial', style='italic', weight='semibold')\n",
    "verts, codes = TextToPath().get_text_path(fp, \"ACSE / EDSML 2021\")\n",
    "# turn verts into a numpy array of size Nx2\n",
    "verts = np.array(verts)\n",
    "path = Path(verts, codes, closed=True)\n",
    "patch = PathPatch(path, facecolor='r', lw=2)\n",
    "ax1.add_patch(patch)\n",
    "plt.close()\n",
    "\n",
    "## initialization function\n",
    "def init():\n",
    "    return patch,\n",
    "      \n",
    "def animate(i, verts, n_frames):\n",
    "    theta = -2.*np.pi*i/n_frames # minus sign to rotate clockwise; rotate once\n",
    "    A = np.array([[np.cos(theta),-np.sin(theta)],[np.sin(theta),np.cos(theta)]]) # rotation matrix\n",
    "    verts = (A@(verts.T)).T  # make verts 2xN, then convert result back to Nx2 \n",
    "    verts = 0.5*verts # scale to fit in window nicely\n",
    "    # update the vertics that make up our PathPatch\n",
    "    patch.get_path().vertices = verts\n",
    "    return patch,\n",
    "\n",
    "n_frames = 20\n",
    "anim = animation.FuncAnimation(fig, animate, init_func=init, frames=np.arange(0, n_frames), \n",
    "                               fargs=(verts, n_frames),\n",
    "                               interval=100, blit=True)\n",
    "\n",
    "# save the animation as gif or mp4 if needed\n",
    "#anim.save('animations/logo.gif', writer='imagemagick')\n",
    "#anim.save('animations/logo.mp4', extra_args=['-vcodec', 'libx264'])\n",
    "\n",
    "# display in notebook\n",
    "#HTML(anim.to_jshtml())\n",
    "HTML(anim.to_html5_video())"
   ]
  },
  {
   "cell_type": "markdown",
   "metadata": {},
   "source": [
    "# Summary\n",
    "\n",
    "We have covered:\n",
    "\n",
    "\n",
    "- A reminder on linear algebra - matrices, vectors and arithmetic with them.\n",
    "\n",
    "\n",
    "- How to formulate and solve linear systems.\n",
    "\n",
    "\n",
    "- When linear systems have a unique solution ... determinant ... the inverse of a matrix, Cramer's rule.\n",
    "\n",
    "\n",
    "- Vector bases, linear independence, rank of a matrix etc, and how this links to the solution of linear systems.\n",
    "\n",
    "\n",
    "- Some geometrical interpretations of linear systems/transformations; the solvability of linear systems in terms of columns/vector basis."
   ]
  },
  {
   "cell_type": "markdown",
   "metadata": {},
   "source": [
    "## Next lecture\n",
    "\n",
    "We will move the linear algebra review on to eigenvalues and eigenvectors, more geometrical interpretations, and use of linear algebra in the analysis and solution of (systems of) ordinary differential equations (ODEs).\n"
   ]
  }
 ],
 "metadata": {
  "celltoolbar": "Slideshow",
  "kernelspec": {
   "display_name": "Python 3",
   "language": "python",
   "name": "python3"
  },
  "language_info": {
   "codemirror_mode": {
    "name": "ipython",
    "version": 3
   },
   "file_extension": ".py",
   "mimetype": "text/x-python",
   "name": "python",
   "nbconvert_exporter": "python",
   "pygments_lexer": "ipython3",
   "version": "3.8.8"
  },
  "latex_envs": {
   "LaTeX_envs_menu_present": true,
   "autoclose": true,
   "autocomplete": true,
   "bibliofile": "biblio.bib",
   "cite_by": "apalike",
   "current_citInitial": 1,
   "eqLabelWithNumbers": true,
   "eqNumInitial": 1,
   "hotkeys": {
    "equation": "Ctrl-E",
    "itemize": "Ctrl-I"
   },
   "labels_anchors": false,
   "latex_user_defs": false,
   "report_style_numbering": false,
   "user_envs_cfg": true
  },
  "toc": {
   "base_numbering": 1,
   "nav_menu": {},
   "number_sections": true,
   "sideBar": true,
   "skip_h1_title": false,
   "title_cell": "Table of Contents",
   "title_sidebar": "Contents",
   "toc_cell": true,
   "toc_position": {
    "height": "calc(100% - 180px)",
    "left": "10px",
    "top": "150px",
    "width": "197.197px"
   },
   "toc_section_display": true,
   "toc_window_display": false
  }
 },
 "nbformat": 4,
 "nbformat_minor": 1
}
