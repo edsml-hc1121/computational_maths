{
 "cells": [
  {
   "cell_type": "markdown",
   "metadata": {
    "slideshow": {
     "slide_type": "slide"
    }
   },
   "source": [
    "# Computational Mathematics  <a class=\"tocSkip\">\n",
    "\n",
    "## Introduction to Modelling with Mathematical/Computational Techniques <a class=\"tocSkip\">\n",
    "    \n",
    "## Some supplementary reading <a class=\"tocSkip\">"
   ]
  },
  {
   "cell_type": "markdown",
   "metadata": {
    "toc": true
   },
   "source": [
    "<h1>Table of Contents<span class=\"tocSkip\"></span></h1>\n",
    "<div class=\"toc\"><ul class=\"toc-item\"><li><span><a href=\"#Terminology\" data-toc-modified-id=\"Terminology-1\"><span class=\"toc-item-num\">1&nbsp;&nbsp;</span>Terminology</a></span><ul class=\"toc-item\"><li><span><a href=\"#Different-Fields-Have-Different-Terminologies:-Learn-the-Language\" data-toc-modified-id=\"Different-Fields-Have-Different-Terminologies:-Learn-the-Language-1.1\"><span class=\"toc-item-num\">1.1&nbsp;&nbsp;</span>Different Fields Have Different Terminologies: Learn the Language</a></span></li></ul></li><li><span><a href=\"#What-do-we-mean-by-a-model-(or-modelling)?\" data-toc-modified-id=\"What-do-we-mean-by-a-model-(or-modelling)?-2\"><span class=\"toc-item-num\">2&nbsp;&nbsp;</span>What do we mean by a model (or modelling)?</a></span><ul class=\"toc-item\"><li><span><a href=\"#Model\" data-toc-modified-id=\"Model-2.1\"><span class=\"toc-item-num\">2.1&nbsp;&nbsp;</span>Model</a></span></li><li><span><a href=\"#Conceptual-Model\" data-toc-modified-id=\"Conceptual-Model-2.2\"><span class=\"toc-item-num\">2.2&nbsp;&nbsp;</span>Conceptual Model</a></span></li><li><span><a href=\"#Science-vs-engineering;-scientist-vs-engineer\" data-toc-modified-id=\"Science-vs-engineering;-scientist-vs-engineer-2.3\"><span class=\"toc-item-num\">2.3&nbsp;&nbsp;</span>Science vs engineering; scientist vs engineer</a></span></li><li><span><a href=\"#Scientific-Model\" data-toc-modified-id=\"Scientific-Model-2.4\"><span class=\"toc-item-num\">2.4&nbsp;&nbsp;</span>Scientific Model</a></span></li><li><span><a href=\"#Mathematical-Model\" data-toc-modified-id=\"Mathematical-Model-2.5\"><span class=\"toc-item-num\">2.5&nbsp;&nbsp;</span>Mathematical Model</a></span></li><li><span><a href=\"#Modelling-and-Simulation\" data-toc-modified-id=\"Modelling-and-Simulation-2.6\"><span class=\"toc-item-num\">2.6&nbsp;&nbsp;</span>Modelling and Simulation</a></span></li><li><span><a href=\"#Numerical-Model-(or-Computer-Simulation)\" data-toc-modified-id=\"Numerical-Model-(or-Computer-Simulation)-2.7\"><span class=\"toc-item-num\">2.7&nbsp;&nbsp;</span>Numerical Model (or Computer Simulation)</a></span></li><li><span><a href=\"#Surrogate-Model\" data-toc-modified-id=\"Surrogate-Model-2.8\"><span class=\"toc-item-num\">2.8&nbsp;&nbsp;</span>Surrogate Model</a></span></li><li><span><a href=\"#A-schematic\" data-toc-modified-id=\"A-schematic-2.9\"><span class=\"toc-item-num\">2.9&nbsp;&nbsp;</span>A schematic</a></span></li></ul></li><li><span><a href=\"#A-bit-of-fun(?):-Are-we-living-in-a-computer-simulation?\" data-toc-modified-id=\"A-bit-of-fun(?):-Are-we-living-in-a-computer-simulation?-3\"><span class=\"toc-item-num\">3&nbsp;&nbsp;</span>A bit of fun(?): Are we living in a computer simulation?</a></span><ul class=\"toc-item\"><li><span><a href=\"#The-simulation-hypothesis\" data-toc-modified-id=\"The-simulation-hypothesis-3.1\"><span class=\"toc-item-num\">3.1&nbsp;&nbsp;</span>The simulation hypothesis</a></span></li></ul></li><li><span><a href=\"#Computational-vs-Data-Science\" data-toc-modified-id=\"Computational-vs-Data-Science-4\"><span class=\"toc-item-num\">4&nbsp;&nbsp;</span>Computational vs Data Science</a></span></li></ul></div>"
   ]
  },
  {
   "cell_type": "markdown",
   "metadata": {},
   "source": [
    "# Terminology"
   ]
  },
  {
   "cell_type": "markdown",
   "metadata": {},
   "source": [
    "##  Different Fields Have Different Terminologies: Learn the Language\n",
    "\n",
    "From \"Ten Simple Rules for a Successful Cross-Disciplinary Collaboration\", Knapp et al <https://doi.org/10.1371/journal.pcbi.1004214> \n",
    "\n",
    ">\"Science is full of subcultures using diverse and evolving jargon. Forming a successful cross-disciplinary relationship requires that you fully understand your collaboration partner. ....  it can be hard enough keeping up with developments in your own field, let alone others. ..... Learn the other field’s jargon early on in the collaboration and ask basic questions about the meanings of words.\n",
    "\n",
    ">For example:\n",
    "* Ambiguity: “Model” is probably the most ambiguous word in science. Mathematical, statistical, experimental, observational, theoretical, computational, analytical, verbal, legal, mental, graphical, geometrical, structural, and workflow models all have different meanings. Almost every field will have its own interpretation of “model” and the semantics differ significantly.\n",
    "* Synonyms: .....\n",
    "\n",
    ">Context often matters, so try to understand nuances in the use of terms. It can be beneficial to build up a technical glossary. Evaluate your understanding by presenting it back to new colleagues and observe where your rudimentary understanding needs more work.\n",
    "\n",
    ">Finally, agree on a joint nomenclature with your collaborators early in the project. Write equations and code in a consistent manner, standardise data formats, and use consistent style schemes in figures. Then talk through your outputs to discuss your collaborators’ understanding and involvement. A good relationship is based on mutually understandable communication.\""
   ]
  },
  {
   "cell_type": "markdown",
   "metadata": {},
   "source": [
    "# What do we mean by a model (or modelling)?\n",
    "\n",
    "Let's be a bit lazy and start our discussion by consulting Wikipedia!\n",
    "\n",
    "Remember a lot of these definitions are subjective - you will develop your own idea of what a modeller, a computational scientist or a data scientist is.\n",
    "\n",
    "\n",
    "***There are quite a lot of words below - this whole section is \"optional\" we'll skim over and you can read the material here and at the links at your own leisure.***\n"
   ]
  },
  {
   "cell_type": "markdown",
   "metadata": {},
   "source": [
    "OF COURSE REMEMBERING TO ALWAYS QUESTIONS WHETHER YOU SHOULD TRUST WIKIPEDIA:\n",
    "\n",
    "[https://en.wikipedia.org/wiki/Wikipedia:Wikipedia_is_not_a_reliable_source](https://en.wikipedia.org/wiki/Wikipedia:Wikipedia_is_not_a_reliable_source)"
   ]
  },
  {
   "cell_type": "markdown",
   "metadata": {},
   "source": [
    "## Model\n",
    "\n",
    "Let's start by thinking what we mean by a model (or modelling).\n",
    "\n",
    "\n",
    "[*Wikipedia: Model*](https://en.wikipedia.org/wiki/Model)\n",
    "\n",
    "\n",
    "NB. the details have changed a bit since I created this notebook so these screenshots are a bit out of date, that doesn't change the message though.\n",
    "\n",
    "<img src=\"./figures/model-wikipedia.png\" width=1000px style=\"border: 1px solid black\">\n"
   ]
  },
  {
   "cell_type": "markdown",
   "metadata": {},
   "source": [
    "OK, so it means a lot of possible things. \n",
    "\n",
    "Let's drill down to those that look most relevant for us as wannabe computational scientists."
   ]
  },
  {
   "cell_type": "markdown",
   "metadata": {},
   "source": [
    "## Conceptual Model\n",
    "\n",
    "The first on the list is conceptual list, this seems a good high-level place to start.\n",
    "\n",
    "\n",
    "[*Wikipedia: Conceptual Model*](https://en.wikipedia.org/wiki/Conceptual_model)\n",
    "\n",
    "<img src=\"./figures/conceptual-model-wikipedia.png\" width=1000px style=\"border: 1px solid black\">"
   ]
  },
  {
   "cell_type": "markdown",
   "metadata": {},
   "source": [
    "These are some quotes - a conceptual model is:\n",
    "\n",
    "\n",
    "- \"a representation of a system\"\n",
    "<br>\n",
    "\n",
    "- \"made of the composition of concepts which are used to help people know, understand, or simulate a subject the model represents\"\n",
    "<br>\n",
    "\n",
    "- \"also a set of concepts\"\n",
    "<br>\n",
    "\n",
    "- \"formed after a conceptualization or generalization process\"\n",
    "<br>\n",
    "\n",
    "- \"abstractions of things in the real world\"\n",
    "<br>\n",
    "\n",
    "\n",
    "Sounds good if we want to model some real world process.  \n",
    "\n",
    "What does it say the objectives of a conceptual model are?"
   ]
  },
  {
   "cell_type": "markdown",
   "metadata": {},
   "source": [
    "\"**Fundamental objectives**\n",
    "\n",
    "A conceptual model's primary objective is to convey the fundamental principles and basic functionality of the system which it represents. Also, a conceptual model must be developed in such a way as to provide an easily understood system interpretation for the model's users. \n",
    "\n",
    "\n",
    "A conceptual model, when implemented properly, should satisfy four fundamental objectives.\n",
    "\n",
    "1. Enhance an individual's understanding of the representative system\n",
    "<br>\n",
    "\n",
    "2. Facilitate efficient conveyance of system details between stakeholders\n",
    "<br>\n",
    "\n",
    "3. Provide a point of reference for system designers to extract system specifications\n",
    "<br>\n",
    "\n",
    "4. Document the system for future reference and provide a means for collaboration\n",
    "\"\n",
    "\n",
    "We (and the Wikipedia page) aren't talking about any kind of computational model yet, but these objectives are clearly useful/important in that context."
   ]
  },
  {
   "cell_type": "markdown",
   "metadata": {},
   "source": [
    "We can have models of human behaviour, the stock market, biological systems, chemical and physical processes, etc.\n",
    "\n",
    "[NB. I will sometimes slip into talking about \"physical parameters\" or \"the physics of the problem\" (by which I might mean a systems expected or observed real behaviour).  I will be using \"physics/physical...\" as a catch-all term even if I'm thinking generally about systems such as the list above that are not \"Physics\"]\n",
    "\n",
    "There are multiple procedures one could follow to come up with such models, let's drill down into Scientific and Mathematical models in particular.\n",
    "\n",
    "But first ..."
   ]
  },
  {
   "cell_type": "markdown",
   "metadata": {},
   "source": [
    "## Science vs engineering; scientist vs engineer\n",
    "\n",
    "When we develop and apply a model, in particular a computational model, of a real-world system are we doing science or engineering?  Should we call ourselves a (computational) scientist or engineering? \n",
    "\n",
    "This is an interesting topic and these questions don't have a definitive answer.\n",
    "\n",
    "You might find it interesting to discuss this between yourselves now (you might have very different ideas on what the difference, if any, between science and engineering is), and see how your view might change during this course.\n",
    "\n",
    "(Again note I tend to just say Computational Scientist, but really I'm using shorthand for Computational Scientist & Engineer ... note the title of this MSc, and note the developing subject area of \"CSE: Computational Science & Engineering\" - even Wikipedia can't keep up: compare the heading with the content of this page: <https://en.wikipedia.org/wiki/Computational_engineering>). \n",
    "\n",
    "There are lots of interesting discussions online, e.g.\n",
    "<https://www.engineering.com/DesignerEdge/DesignerEdgeArticles/ArticleID/15885/The-Difference-Between-Science-and-Engineering.aspx>\n"
   ]
  },
  {
   "cell_type": "markdown",
   "metadata": {},
   "source": [
    "## Scientific Model\n",
    "\n",
    "\n",
    "[*Wikipedia: Scientific Modelling*](https://en.wikipedia.org/wiki/Scientific_modelling)\n",
    "\n",
    "<img src=\"./figures/scientific-modelling-wikipedia.png\" width=1000px style=\"border: 1px solid black\">"
   ]
  },
  {
   "cell_type": "markdown",
   "metadata": {},
   "source": [
    "\"A scientific model is a simplified abstract view of a complex reality. \n",
    "\n",
    "A scientific model represents empirical objects, phenomena, and physical processes in a logical way.\"\n",
    "\n",
    "<br>\n",
    "\n",
    "[*These are both highly relevant for computational modelling*]\n",
    "\n",
    "<br>\n",
    "\n",
    "\n",
    "- \"aim of which is to make a particular part or feature of the world easier to understand, define, quantify, visualize, or simulate by referencing it to existing and usually commonly accepted knowledge\"\n",
    "<br>\n",
    "\n",
    "- \"requires selecting and identifying relevant aspects of a situation in the real world and then using different types of models for different aims\"\n",
    "<br>\n",
    "\n",
    "- \"...  mathematical models to quantify ...\"\n",
    "<br>\n",
    "\n",
    "- \"Modelling is an essential and inseparable part of many scientific disciplines, each of which have their own ideas about specific types of modelling\"\n",
    "<br>\n",
    "\n",
    "Quote attributed to the so-called [*polymath*](https://en.wikipedia.org/wiki/Polymath)  [John von Neumann][(https://en.wikipedia.org/wiki/John_von_Neumann) said:\n",
    "\n",
    ">\"... the sciences do not try to explain, they hardly even try to interpret, they mainly make models. By a model is meant a mathematical construct which, with the addition of certain verbal interpretations, describes observed phenomena. The justification of such a mathematical construct is solely and precisely that it is expected to work — that is, correctly to describe phenomena from a reasonably wide area.\"\n",
    "<br>\n",
    "\n",
    "- \"All models are ... simplified reflections of reality that, despite being approximations, can be extremely useful. Building and disputing models is fundamental to the scientific enterprise. Complete and true representation may be impossible, but scientific debate often concerns which is the better model for a given task, e.g., which is the more accurate climate model for seasonal forecasting\"\n",
    "<br>\n",
    "\n",
    "- \"Models are typically used when it is either impossible or impractical to create experimental conditions in which scientists can directly measure outcomes. Direct measurement of outcomes under controlled conditions (see Scientific method) will always be more reliable than modelled estimates of outcomes.\"\n",
    "\n",
    "<br>\n",
    "<br>\n",
    "\n",
    "[*All of this is highly relevant to computational modelling!*]"
   ]
  },
  {
   "cell_type": "markdown",
   "metadata": {},
   "source": [
    "## Mathematical Model\n",
    "\n",
    "Mathematics is the language that will typically use to encapsulate a conceptual or a scientific model:\n",
    "\n",
    "[*Wikipedia: Mathematical Model*](https://en.wikipedia.org/wiki/Mathematical_model)\n",
    "\n",
    "<img src=\"./figures/mathematical-model-wikipedia.png\" width=1000px style=\"border: 1px solid black\">"
   ]
  },
  {
   "cell_type": "markdown",
   "metadata": {},
   "source": [
    "- \"A mathematical model is a description of a system using mathematical concepts and language.\"\n",
    "<br>\n",
    "\n",
    "- \"The process of developing a mathematical model is termed mathematical modeling.\"\n",
    "<br>\n",
    "\n",
    "- \"Mathematical models are used in the natural sciences (such as physics, biology, earth science, chemistry) and engineering disciplines (such as computer science, electrical engineering), as well as in the social sciences (such as economics, psychology, sociology, political science).\"\n",
    "<br>\n",
    "\n",
    "- \"A model may help to explain a system and to study the effects of different components, and to make predictions about behaviour.\"\n",
    "<br>\n",
    "\n",
    "\n",
    "- \"Mathematical models can take many forms, including ...[read the page yourself!]\"\n",
    "<br>\n",
    "\n",
    "\n",
    "- \"In the physical sciences, a traditional mathematical model contains most of the following elements:\"\n",
    "\n",
    "\n",
    "1. Governing equations\n",
    "<br>\n",
    "\n",
    "\n",
    "2. Supplementary sub-models\n",
    "  - Defining equations\n",
    "  - Constitutive equations\n",
    "<br>\n",
    "\n",
    "\n",
    "3. Assumptions and constraints\n",
    "  - Initial and boundary conditions\n",
    "  - Classical constraints and kinematic equations\n",
    "<br>\n",
    "\n",
    "\n",
    "...\n",
    "\n",
    "<br>\n",
    "\n",
    "\"**Philosophical considerations**\n",
    "\n",
    "Many types of modeling implicitly involve claims about causality. This is usually (but not always) true of models involving differential equations. As the purpose of modeling is to increase our understanding of the world, the validity of a model rests not only on its fit to empirical observations, but also on its ability to extrapolate to situations or data beyond those originally described in the model. One can think of this as the differentiation between qualitative and quantitative predictions. One can also argue that a model is worthless unless it provides some insight which goes beyond what is already known from direct investigation of the phenomenon being studied.\"\n",
    "<br>\n",
    "<br>\n",
    "\n",
    "[*Again all very relevant for us!*]"
   ]
  },
  {
   "cell_type": "markdown",
   "metadata": {},
   "source": [
    "## Modelling and Simulation\n",
    "\n",
    "There was lots of stuff in all that that was extremely relevant for us, but now let's drill down into what we're really doing in much (not all!) of this course.\n",
    "\n",
    "\n",
    "[*Wikipedia:  Modelling and Simulation (redirects from Numerical Model)*](https://en.wikipedia.org/wiki/Modeling_and_simulation)\n",
    "\n",
    "<img src=\"./figures/modelling-and-simulation-wikipedia.png\" width=1000px style=\"border: 1px solid black\">\n"
   ]
  },
  {
   "cell_type": "markdown",
   "metadata": {},
   "source": [
    "- \"Modeling and simulation (M&S) is the use of models (e.g., physical, mathematical, or logical representation of a system, entity, phenomenon, or process) as a basis for **simulations to develop data utilized for ... decision making**\"\n",
    "<br>\n",
    "\n",
    "\n",
    "- \"The use of M&S within engineering is well recognized. **Simulation technology belongs to the tool set of engineers of all application domains** and has been included in the body of knowledge of engineering management. M&S helps to reduce costs, increase the quality of products and systems, and document and archive lessons learned. Because the **results of a simulation are only as good as the underlying model(s), engineers, operators, and analysts must pay particular attention to its construction**. To ensure that the results of the simulation are applicable to the real world, **the user must understand the assumptions, conceptualizations, and constraints of its implementation**. Additionally, models may be updated and improved using results of actual experiments. M&S is a discipline on its own ...\"\n",
    "<br>\n",
    "\n",
    "\n",
    "- \"The use of such mathematical models and simulations **avoids actual experimentation, which can be costly and time-consuming**. Instead, **mathematical knowledge and computational power is used to solve real-world problems cheaply and in a time efficient manner**. As such, M&S can facilitate understanding a system's behavior without actually testing the system in the real world. For example, to determine which type of spoiler would improve traction the most while designing a race car, a computer simulation of the car could be used to estimate the effect of different spoiler shapes on the coefficient of friction in a turn. Useful insights about different decisions in the design could be gleaned without actually building the car. In addition, simulation can support experimentation that occurs totally in software, or in human-in-the-loop environments where simulation represents systems or generates data needed to meet experiment objectives. Furthermore, simulation can be used to train persons using a virtual environment that would otherwise be difficult or expensive to produce.\"\n",
    "<br>\n",
    "\n"
   ]
  },
  {
   "cell_type": "markdown",
   "metadata": {},
   "source": [
    "\"**THE USER MUST UNDERSTAND THE ASSUMPTIONS, CONCEPTUALIZATIONS, AND CONSTRAINTS OF ITS IMPLEMENTATION**\"\n",
    "\n",
    "We need to understand where a model came from, what assumptions were made in its construction, how it was implemented, and ultimately the various limitations that result from all of these!!!"
   ]
  },
  {
   "cell_type": "markdown",
   "metadata": {},
   "source": [
    "\"\n",
    "**Interest in simulations**\n",
    "\n",
    "Technically, simulation is well accepted. The 2006 National Science Foundation (NSF) Report on \"Simulation-based Engineering Science\" showed the potential of using simulation technology and methods to revolutionize the engineering science. Among the reasons for the steadily increasing interest in simulation applications are the following:\n",
    "\n",
    "<br>\n",
    "\n",
    "1. Using simulations is generally **cheaper, safer and sometimes more ethical** than conducting real-world experiments. For example, supercomputers are sometimes used to simulate the detonation of nuclear devices and their effects in order to support better preparedness in the event of a nuclear explosion. Similar efforts are conducted to simulate hurricanes and other natural catastrophes.\n",
    "<br>\n",
    "\n",
    "2. Simulations **can often be even more realistic** than traditional experiments, as they allow the free configuration of environment parameters found in the operational application field of the final product. Examples are supporting deep water operation of the US Navy or the simulating the surface of neighbored planets in preparation of NASA missions.\n",
    "<br>\n",
    "\n",
    "3. Simulations **can often be conducted faster than real time**. This allows using them for efficient if-then-else analyses of different alternatives, in particular when the necessary **data** to initialize the simulation can easily be obtained from operational data. This use of simulation adds **decision support** simulation systems to the tool box of traditional decision support systems.\n",
    "<br>\n",
    "\n",
    "4. Simulations allow **setting up a coherent synthetic environment** that allows for integration of simulated systems in the early analysis phase via mixed virtual systems with first prototypical components to a virtual test environment for the final system. If managed correctly, the environment can be migrated from the development and test domain to the training and education domain in follow-on life cycle phases for the systems (including the option to train and optimize a virtual twin of the real system under realistic constraints even before first components are being built).\"\n",
    "<br>"
   ]
  },
  {
   "cell_type": "markdown",
   "metadata": {},
   "source": [
    "## Numerical Model (or Computer Simulation)\n",
    "\n",
    "Above was essentially the *act*, now let's think about the *tool*:\n",
    "\n",
    "[*Wikipedia: Computer Simulation (redirects from Numerical Model)*](https://en.wikipedia.org/wiki/Computer_simulation)\n",
    "\n",
    "<img src=\"./figures/computer-simulation-wikipedia.png\" width=1000px style=\"border: 1px solid black\">"
   ]
  },
  {
   "cell_type": "markdown",
   "metadata": {},
   "source": [
    "- \"Computer simulation is the reproduction of the behavior of a system using a computer to simulate the outcomes of a mathematical model associated with said system.\" \n",
    "<br>\n",
    "\n",
    "\n",
    "- \"Since they allow to check the reliability of chosen mathematical models, computer simulations have become a useful tool for the mathematical modeling of many natural systems in physics (computational physics), astrophysics, climatology, chemistry, biology and manufacturing, as well as human systems in economics, psychology, social science, health care and engineering.\" \n",
    "<br>\n",
    "\n",
    "\n",
    "- \"Simulation of a system is represented as the running of the system's model. It can be used to explore and gain new insights into new technology and to estimate the performance of systems too complex for analytical solutions.\"\n",
    "<br>\n",
    "\n",
    "\n",
    "- \"Computer simulations are realized by running computer programs that can be either small, running almost instantly on small devices, or large-scale programs that run for hours or days on network-based groups of computers. The scale of events being simulated by computer simulations has far exceeded anything possible (or perhaps even imaginable) using traditional paper-and-pencil mathematical modeling.\" \n",
    "<br>\n",
    "\n",
    "\n",
    "- \"A computer model is the algorithms and equations used to capture the behavior of the system being modeled. By contrast, computer simulation is the actual running of the program that contains these equations or algorithms. Simulation, therefore, is the process of running a model. Thus one would not \"build a simulation\"; instead, one would \"build a model\", and then either \"run the model\" or equivalently \"run a simulation\".\"\n",
    "<br>\n",
    "\n",
    "\n",
    "- \"**Although sometimes ignored in computer simulations, it is very important to perform a sensitivity analysis to ensure that the accuracy of the results is properly understood.**\"\n",
    "<br>\n",
    "\n",
    "\n",
    "- \"**The following three steps should be used to produce accurate simulation models: calibration, verification, and validation.** \"\n",
    "<br>"
   ]
  },
  {
   "cell_type": "markdown",
   "metadata": {},
   "source": [
    "\n",
    "[*All extremely relevant - this all encapsulates lots of the \"big picture concepts\" that it's important for us to grasp. Below and in later lectures/modules we'll flesh these our with details and lots of examples.*]"
   ]
  },
  {
   "cell_type": "markdown",
   "metadata": {},
   "source": [
    "## Surrogate Model\n",
    "\n",
    "There is some overlap between the models described above with the concept of \"surrogates\", \n",
    "\n",
    "OR a surrogate might be a thing that is constructed *from* a computational model,  \n",
    "\n",
    "i.e. it can be interpreted as a lower level in the   *conceptual $\\rightarrow$ scientific $\\rightarrow$ mathematical $\\rightarrow$ computational model*   hierarchy.\n",
    "\n",
    "It can also be interpreted in the context of Machine Learning or AI where a \"model\" is constructed from data directly, not necessarily via the *conceptual  $\\rightarrow$ scientific $\\rightarrow$ mathematical* ... hierarchy.  \n",
    "\n",
    "Of course the data might itself come from a computational model so ... these topics are all very jumbled up and overlapping!\n",
    "\n",
    "\n",
    "[*Wikipedia: Surrogate Model*](https://en.wikipedia.org/wiki/Surrogate_model)\n",
    "\n",
    "<img src=\"./figures/surrogate-model-wikipedia.png\" width=1000px style=\"border: 1px solid black\">"
   ]
  },
  {
   "cell_type": "markdown",
   "metadata": {},
   "source": [
    "\"A surrogate model is an engineering method used when an outcome of interest cannot be easily directly measured, so a model of the outcome is used instead. Most engineering design problems require experiments and/or simulations to evaluate design objective and constraint functions as a function of design variables. For example, in order to find the optimal airfoil shape for an aircraft wing, an engineer simulates the airflow around the wing for different shape variables (length, curvature, material, ..). **For many real-world problems, however, a single simulation can take many minutes, hours, or even days to complete. As a result, routine tasks such as design optimization, design space exploration, sensitivity analysis and what-if analysis become impossible since they require thousands or even millions of simulation evaluations**.\n",
    "\n",
    "<br>\n",
    "\n",
    "One way of alleviating this burden is by constructing approximation models, known as surrogate models ... that mimic the behavior of the simulation model as closely as possible while being computationally cheap(er) to evaluate. **Surrogate models are constructed using a data-driven, bottom-up approach. The exact, inner working of the simulation code is not assumed to be known (or even understood), solely the input-output behavior is important**. A model is constructed based on modeling the response of the simulator to a limited number of intelligently chosen data points. ... When only a single design variable is involved, the process is known as curve fitting.\n",
    "\n",
    "<br>\n",
    "\n",
    "Though using surrogate models in lieu of experiments and simulations in engineering design is more common, surrogate modeling may be used in many other areas of science where there are expensive experiments and/or function evaluations.\"\n",
    "\n",
    "<br>\n",
    "\n",
    "\"The scientific challenge of surrogate modeling is the generation of a surrogate that is as accurate as possible, using as few simulation evaluations as possible...\n",
    "\n",
    "<br>\n",
    "\n",
    "The accuracy of the surrogate depends on the number and location of samples (expensive experiments or simulations) in the design space. Various design of experiments (DOE) techniques cater to different sources of errors, in particular, errors due to noise in the data or errors due to an improper surrogate model.\""
   ]
  },
  {
   "cell_type": "markdown",
   "metadata": {},
   "source": [
    "So you can think of a surrogate model as an approximation of a computational model (which is itself an approximation to the mathematical model, which is an approximation of the real system!).\n",
    "\n",
    "So there are multiple layers here, this final one is performed since sometimes it's useful for us to have a model that runs virtually instantaneously, on a phone for example, when the computational model may take weeks to run on a supercomputer."
   ]
  },
  {
   "cell_type": "markdown",
   "metadata": {},
   "source": [
    "##  A schematic\n",
    "\n",
    "<img src=\"./figures/model-schematic.png\" width=700px style=\"border: 1px solid black\">"
   ]
  },
  {
   "cell_type": "markdown",
   "metadata": {},
   "source": [
    "# A bit of fun(?): Are we living in a computer simulation?\n",
    "\n",
    "A bit of fun / philosphy to think about\n",
    "\n",
    "\n",
    "[*Scientific Americal: Are We Living in a Computer Simulation?*](https://www.scientificamerican.com/article/are-we-living-in-a-computer-simulation/)\n",
    "\n",
    "<img src=\"./figures/are-we-living-in-a-computer-simulation.png\" width=1000px style=\"border: 1px solid black\">\n"
   ]
  },
  {
   "cell_type": "markdown",
   "metadata": {},
   "source": [
    "## The simulation hypothesis\n",
    "\n",
    "In 2003, philosopher Nick Bostrom proposed the \"simulation argument\" which argues that one of three following scenarios is likely to be true:\n",
    "\n",
    "<br>\n",
    "\n",
    "1. \"The fraction of human-level civilizations that reach a post-human stage (that is, one capable of running high-fidelity ancestor simulations) is very close to zero\"\n",
    "\n",
    "<br>\n",
    "\n",
    "2. \"The fraction of post-human civilizations that are interested in running simulations of their evolutionary history, or variations thereof, is very close to zero\"\n",
    "\n",
    "<br>\n",
    "\n",
    "\n",
    "3. \"The fraction of all people with our kind of experiences that are living in a simulation is very close to one\"\n"
   ]
  },
  {
   "cell_type": "code",
   "execution_count": null,
   "metadata": {},
   "outputs": [],
   "source": [
    "from IPython.display import YouTubeVideo\n",
    "YouTubeVideo('JB3v3bDba5g')"
   ]
  },
  {
   "cell_type": "markdown",
   "metadata": {},
   "source": [
    "# Computational vs Data Science\n",
    "\n",
    "From \"Data Science: What is It and How is It Taught?\" <https://sinews.siam.org/Details-Page/data-science-what-is-it-and-how-is-it-taught>\n",
    "\n",
    ">\"But what is data science? Is data science its own field, or is it an interdisciplinary mix of computer science, mathematics and statistics, and domain knowledge? Or might it really be what statisticians have been doing all along? Because data science at scale involves large-scale computation, what is the relation between data science and computational science?\"\n",
    "\n",
    ">\"In five years, every domain of science and engineering will center on data science... In ten years, all of data science will be applying machine learning... Data science is not new – it’s just the other side of the coin of computational science and engineering.\" [NB. it's noted that these were opinions that other countered]\n",
    "\n",
    ">\"One of the panelists characterized modern data science as a paradigm in which black-box statistics-based models from data mining and machine learning are unleashed on large data sets to analyze and predict complex phenomena ... image and speech recognition, automatic translation, fraud detection, online recommendation, and business analytics for the retail sector, among others. This work exploits the availability of unprecedented volumes of data in areas in which quantitative data and models were virtually nonexistent until very recently. ...\\\n",
    "The situation is different in much of science and engineering, however. In these fields, there is a crucial role for models based on first principles that have been tremendously successful in modeling physical reality. Experimental data has always been essential for validating these models. But the tremendous growth in the volume of scientific data ... opens exciting new possibilities. The availability of this data is enabling great progress in quantifying uncertainties in the results produced by physics-based models, and in making these models truly predictive.\"\n",
    "\n",
    ">\"The development of all these techniques, including parallel algorithms and implementations that are efficient at scale, constitute key contributions to data science, enabling data-driven scientific discovery. Models based on first principles are essential components of systems that extract valuable insights from massive scientific data, insights that tend to go far beyond what can be recovered by black-box statistical modeling alone.\"\n",
    "\n",
    ">\"**The Synergy Between Computational Science and Data Science**\\\n",
    "Given that data science and computational science overlap significantly, both in the expertise required and in the methodologies used, one panelist claimed that data science is just the other side of the coin of computational science: Computational science and data science are both rooted in solid foundations of mathematics and statistics, computer science, and domain knowledge, and this common core can be exploited in educational programs that will prepare the computational and data scientists of the future. Indeed, many computational science competencies translate directly to the analysis of massive data sets at scale with high-end computing infrastructure. As complementary interdisciplinary endeavors, both data science and computational science suffer from the entrapments created by disciplinary boundaries. To provide rigorous, multifaceted educational preparation for the growing ranks of computational and data scientists needed to optimally advance scientific discovery and technological development in the years to come, universities will need to implement new multidisciplinary structures.\"\n",
    "\n",
    ">**\"Data Science and Computational Science: Synergy with a Bright Future**?\\\n",
    "It is clear that the data tsunami is only increasing in intensity and that the current focus on data analytics will not easily fade. The data revolution is shaping up to become one of the great new quantitative endeavors of our time, and, as in all quantitative fields, mathematics is poised to play an important role. The synergy between data science and computational science makes it clear that educational programs in areas like “computational and data science” or “mathematics of data and computation” hold significant promise for interdisciplinary success.\"\n"
   ]
  },
  {
   "cell_type": "markdown",
   "metadata": {},
   "source": [
    "From \"Why Data Science matters, but Computational Science matters more\" <https://dedataloog.nl/why-data-science-matters-but-computational-science-matters-more/>\n",
    "\n",
    "\n",
    "<img src=\"./figures/computational-science-vs-data-science-e1556795872776.png\" width=1000px style=\"border: 1px solid black\">\n",
    "\n",
    "\n",
    "<br>\n",
    "\n",
    ">\"Data Science, and particularly its related machine learning discipline has brought the world astonishing results...\\\n",
    "All those results seemingly point a future where data driven scientific discoveries are the way forward...\\\n",
    "While this may be appealing to data scientists, I believe that there are fundamental limitations of using solely data for solving problems.\"\n",
    "\n",
    ">\"Let me state clearly, I do think Data Science matters, but in this blogpost advocate that data scientists should also look beyond their scope and be aware that for some data driven problems Computational Science may be a more suitable.\"\n",
    "\n",
    ">\"**I refer at Data Science as the Art of generating insight, knowledge and predictions by applying methods on datasets.**\"\n",
    "\n",
    ">\"**I see Computational Science as the Art of developing validated (simulation) models in order to gain a better understanding of a system’s behavior**. This definition leaves out the part of Computational Science that involves computational complexity and high performance computing.\"\n",
    "\n",
    ">\"From these definitions is may be clear that there is a **significant overlap** between both sciences [see fig above]. In fact, data driven approach to modelling intertwines both fields of sciences. Yet, the differences can be found in the focus of both: **Computational sciences focuses on development of causal models rather than extracting patterns or knowledge from data by statistical models, while this is what Data Science is all about.**\"\n",
    "\n",
    ">\"There are several **limitations** of the Data Science approach to problem solving ... In data science, **we do not aim to understand the system, even if we are able to make predictions** from the data that the system generates. The question is, is this needed? Moreover, an often heard comment on the use of machine learning is that we do not really understand the insides of this piece of machinery. Again the question is, **is this really a bad thing?**\"\n",
    "\n",
    ">\"... do we need to understand the dynamics of a system to be able to make predictions of future states of a system? Maybe this is valid as long as the data scientist is able to distinguish the spurious correlations from the real correlations. But this requires at least implicit treatment of the results of any Data Science model in line with the **domain knowledge of the data scientist**. On a more abstract level this implies that **data scientists at lease use a mental model of how a system would behave**. Making this explicit during Data Science projects may increase correctness and reproducibility.\"\n",
    "\n",
    ">\"... data contains limited information on the behavior in the system, since **data is result of what is measured and thus an aggregation of the dynamics that result in this data. We should therefore wonder what dynamics are beyond the measured results**\"\n",
    "\n",
    ">\"There is always a deeper level underneath the data that is not part of what is measured.\"\n",
    "\n",
    ">\"... from this idea of dynamics underlying the data we immediately see that if these dynamics change, then the data will change as well. As such, Data Science based predictions work only if the future is fundamentally like the past, and even this is the case then only valid within range. Typically, many systems in which behavior plays a role contain tipping points and regime changes in which the dynamics that generate the data fundamentally change as well. We call these system complex systems in which the complexity lies in the inability to predict future states of the system based on knowledge of its current state.\"\n",
    "\n",
    "\n"
   ]
  }
 ],
 "metadata": {
  "celltoolbar": "Slideshow",
  "kernelspec": {
   "display_name": "Python 3",
   "language": "python",
   "name": "python3"
  },
  "language_info": {
   "codemirror_mode": {
    "name": "ipython",
    "version": 3
   },
   "file_extension": ".py",
   "mimetype": "text/x-python",
   "name": "python",
   "nbconvert_exporter": "python",
   "pygments_lexer": "ipython3",
   "version": "3.7.3"
  },
  "toc": {
   "base_numbering": 1,
   "nav_menu": {},
   "number_sections": true,
   "sideBar": true,
   "skip_h1_title": false,
   "title_cell": "Table of Contents",
   "title_sidebar": "Contents",
   "toc_cell": true,
   "toc_position": {
    "height": "calc(100% - 180px)",
    "left": "10px",
    "top": "150px",
    "width": "164.995px"
   },
   "toc_section_display": true,
   "toc_window_display": true
  }
 },
 "nbformat": 4,
 "nbformat_minor": 1
}
